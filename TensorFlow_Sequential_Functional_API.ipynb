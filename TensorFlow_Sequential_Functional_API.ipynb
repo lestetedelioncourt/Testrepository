{
  "nbformat": 4,
  "nbformat_minor": 0,
  "metadata": {
    "colab": {
      "provenance": []
    },
    "kernelspec": {
      "name": "python3",
      "display_name": "Python 3"
    },
    "language_info": {
      "name": "python"
    }
  },
  "cells": [
    {
      "cell_type": "code",
      "execution_count": 1,
      "metadata": {
        "colab": {
          "base_uri": "https://localhost:8080/",
          "height": 36
        },
        "id": "3Lx93673WsD9",
        "outputId": "e16e9c03-631b-4d6a-a8b6-bf631b8d162c"
      },
      "outputs": [
        {
          "output_type": "execute_result",
          "data": {
            "text/plain": [
              "'2.15.0'"
            ],
            "application/vnd.google.colaboratory.intrinsic+json": {
              "type": "string"
            }
          },
          "metadata": {},
          "execution_count": 1
        }
      ],
      "source": [
        "import tensorflow as tf\n",
        "tf.__version__"
      ]
    },
    {
      "cell_type": "markdown",
      "source": [
        "##Sequential API"
      ],
      "metadata": {
        "id": "WttWUfZ-dxpy"
      }
    },
    {
      "cell_type": "code",
      "source": [
        "#sequential API\n",
        "from tensorflow.keras import Sequential\n",
        "from tensorflow.keras.layers import Dense\n"
      ],
      "metadata": {
        "id": "-s0EdFPLWyK6"
      },
      "execution_count": 2,
      "outputs": []
    },
    {
      "cell_type": "code",
      "source": [
        "model = Sequential()"
      ],
      "metadata": {
        "id": "x8lDoB5BXzos"
      },
      "execution_count": 6,
      "outputs": []
    },
    {
      "cell_type": "code",
      "source": [
        "model.add(Dense(10, input_shape=(8,)))\n",
        "model.add(Dense(10))\n",
        "model.add(Dense(30))\n",
        "model.add(Dense(20))\n",
        "model.add(Dense(3))\n",
        "model.add(Dense(1))"
      ],
      "metadata": {
        "id": "yuXxB-WcYBke"
      },
      "execution_count": 7,
      "outputs": []
    },
    {
      "cell_type": "markdown",
      "source": [
        "##Functional API"
      ],
      "metadata": {
        "id": "LAKC3Yird-Aa"
      }
    },
    {
      "cell_type": "code",
      "source": [
        "# functional API\n",
        "from tensorflow.keras import Model\n",
        "from tensorflow.keras import Input\n",
        "from tensorflow.keras.layers import Dense"
      ],
      "metadata": {
        "id": "BHz5Djb5YCx_"
      },
      "execution_count": 8,
      "outputs": []
    },
    {
      "cell_type": "code",
      "source": [
        "x_in = Input(shape=(8,))\n",
        "x_1 = Dense(10)(x_in)\n",
        "x_2 = Dense(10)(x_1)\n",
        "x_3 = Dense(30)(x_2)\n",
        "x_4 = Dense(20)(x_3)\n",
        "x_5 = Dense(3)(x_4)\n",
        "x_out = Dense(1)(x_5)\n",
        "model1 = Model(inputs=x_in, outputs=x_out)"
      ],
      "metadata": {
        "id": "tak7HoumcTKo"
      },
      "execution_count": 10,
      "outputs": []
    },
    {
      "cell_type": "code",
      "source": [],
      "metadata": {
        "id": "XueHZsBHdfac"
      },
      "execution_count": null,
      "outputs": []
    }
  ]
}