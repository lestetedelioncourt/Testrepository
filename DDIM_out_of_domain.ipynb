{
  "nbformat": 4,
  "nbformat_minor": 0,
  "metadata": {
    "colab": {
      "provenance": [],
      "gpuType": "T4"
    },
    "kernelspec": {
      "name": "python3",
      "display_name": "Python 3"
    },
    "language_info": {
      "name": "python"
    },
    "accelerator": "GPU"
  },
  "cells": [
    {
      "cell_type": "code",
      "execution_count": 13,
      "metadata": {
        "id": "rbShuWhiSxm2",
        "colab": {
          "base_uri": "https://localhost:8080/"
        },
        "outputId": "94d6ce5d-5b69-4673-d7b0-51c36432f259"
      },
      "outputs": [
        {
          "output_type": "stream",
          "name": "stdout",
          "text": [
            "Drive already mounted at /content/drive; to attempt to forcibly remount, call drive.mount(\"/content/drive\", force_remount=True).\n"
          ]
        }
      ],
      "source": [
        "#DDPM forward diffusion is stochastic (random)\n",
        "#DDIM forward diffusion is deterministic\n",
        "from google.colab import drive\n",
        "drive.mount('/content/drive')"
      ]
    },
    {
      "cell_type": "code",
      "source": [
        "!ls"
      ],
      "metadata": {
        "id": "0B7PT899yq3w",
        "outputId": "9523e802-1176-4f4e-98ef-8e26833c61bf",
        "colab": {
          "base_uri": "https://localhost:8080/"
        }
      },
      "execution_count": 14,
      "outputs": [
        {
          "output_type": "stream",
          "name": "stdout",
          "text": [
            "1.jpg  drive  sample_data\n"
          ]
        }
      ]
    },
    {
      "cell_type": "code",
      "source": [
        "import cv2\n",
        "import torch\n",
        "from torchvision import transforms\n",
        "from PIL import Image\n",
        "import numpy as np\n",
        "\n",
        "X0 = Image.open(r\"/content/1.jpg\")\n",
        "X0 = X0.resize((128,128))\n",
        "device = \"cuda\" if torch.cuda.is_available() else \"cpu\"\n",
        "X0 = transforms.ToTensor()(np.array(X0)).unsqueeze(0) * 2 - 1.0\n",
        "X0 = X0.to(device)\n",
        "X_t = X0"
      ],
      "metadata": {
        "id": "r4BycLYcbDIa"
      },
      "execution_count": 15,
      "outputs": []
    },
    {
      "cell_type": "code",
      "source": [
        "X0.shape"
      ],
      "metadata": {
        "id": "VPbG7TaRj2yG",
        "colab": {
          "base_uri": "https://localhost:8080/"
        },
        "outputId": "8f0d33de-00d0-4ae1-d3a8-fb09e9c4006a"
      },
      "execution_count": 16,
      "outputs": [
        {
          "output_type": "execute_result",
          "data": {
            "text/plain": [
              "torch.Size([1, 3, 128, 128])"
            ]
          },
          "metadata": {},
          "execution_count": 16
        }
      ]
    },
    {
      "cell_type": "code",
      "source": [
        "def get_XT_using_ddim(Xt, diffusion_model, device=device):\n",
        "    time_steps = torch.flip(diffusion_model.scheduler.timesteps, dims=(0,))  # 0 .. 1000\n",
        "    t = time_steps[:-1]  # takes all timesteps but deletes the last one\n",
        "    t_next = time_steps[1:]  # takes all timesteps after the first one\n",
        "\n",
        "    for n, (i, j) in enumerate(zip(t.tolist(), t_next.tolist())):\n",
        "        model_input = diffusion_model.scheduler.scale_model_input(Xt, i).to(device)\n",
        "\n",
        "        with torch.no_grad():\n",
        "            pred_epsilon_t = diffusion_model.unet(model_input, i)[\"sample\"]\n",
        "\n",
        "        alpha_bar_t_plus_delta_t = diffusion_model.scheduler.alphas_cumprod[j]\n",
        "        alpha_bar_t = diffusion_model.scheduler.alphas_cumprod[i]\n",
        "\n",
        "        pred_X0 = (Xt - pred_epsilon_t * (1 - alpha_bar_t).sqrt()) / alpha_bar_t.sqrt()\n",
        "        pred_X0.clamp(-1, 1)\n",
        "\n",
        "        X_t_plus_delta_t = alpha_bar_t_plus_delta_t.sqrt() * pred_X0 + (1 - alpha_bar_t_plus_delta_t).sqrt() * pred_epsilon_t\n",
        "        Xt = X_t_plus_delta_t\n",
        "\n",
        "    return Xt"
      ],
      "metadata": {
        "id": "UUC4f1vNGkDQ"
      },
      "execution_count": 17,
      "outputs": []
    },
    {
      "cell_type": "code",
      "source": [
        "!pip install diffusers datasets transformers ftfy pyarrow==9.0.0"
      ],
      "metadata": {
        "id": "dDeT-pSirk9n",
        "colab": {
          "base_uri": "https://localhost:8080/"
        },
        "outputId": "4de4e661-ca52-4ab8-eaee-a3d259a72859"
      },
      "execution_count": 18,
      "outputs": [
        {
          "output_type": "stream",
          "name": "stdout",
          "text": [
            "Requirement already satisfied: diffusers in /usr/local/lib/python3.10/dist-packages (0.27.2)\n",
            "Requirement already satisfied: datasets in /usr/local/lib/python3.10/dist-packages (2.16.1)\n",
            "Requirement already satisfied: transformers in /usr/local/lib/python3.10/dist-packages (4.38.2)\n",
            "Requirement already satisfied: ftfy in /usr/local/lib/python3.10/dist-packages (6.2.0)\n",
            "Requirement already satisfied: pyarrow==9.0.0 in /usr/local/lib/python3.10/dist-packages (9.0.0)\n",
            "Requirement already satisfied: numpy>=1.16.6 in /usr/local/lib/python3.10/dist-packages (from pyarrow==9.0.0) (1.25.2)\n",
            "Requirement already satisfied: importlib-metadata in /usr/local/lib/python3.10/dist-packages (from diffusers) (7.0.2)\n",
            "Requirement already satisfied: filelock in /usr/local/lib/python3.10/dist-packages (from diffusers) (3.13.1)\n",
            "Requirement already satisfied: huggingface-hub>=0.20.2 in /usr/local/lib/python3.10/dist-packages (from diffusers) (0.20.3)\n",
            "Requirement already satisfied: regex!=2019.12.17 in /usr/local/lib/python3.10/dist-packages (from diffusers) (2023.12.25)\n",
            "Requirement already satisfied: requests in /usr/local/lib/python3.10/dist-packages (from diffusers) (2.31.0)\n",
            "Requirement already satisfied: safetensors>=0.3.1 in /usr/local/lib/python3.10/dist-packages (from diffusers) (0.4.2)\n",
            "Requirement already satisfied: Pillow in /usr/local/lib/python3.10/dist-packages (from diffusers) (9.4.0)\n",
            "Requirement already satisfied: pyarrow-hotfix in /usr/local/lib/python3.10/dist-packages (from datasets) (0.6)\n",
            "Requirement already satisfied: dill<0.3.8,>=0.3.0 in /usr/local/lib/python3.10/dist-packages (from datasets) (0.3.7)\n",
            "Requirement already satisfied: pandas in /usr/local/lib/python3.10/dist-packages (from datasets) (1.5.3)\n",
            "Requirement already satisfied: tqdm>=4.62.1 in /usr/local/lib/python3.10/dist-packages (from datasets) (4.66.2)\n",
            "Requirement already satisfied: xxhash in /usr/local/lib/python3.10/dist-packages (from datasets) (3.4.1)\n",
            "Requirement already satisfied: multiprocess in /usr/local/lib/python3.10/dist-packages (from datasets) (0.70.15)\n",
            "Requirement already satisfied: fsspec[http]<=2023.10.0,>=2023.1.0 in /usr/local/lib/python3.10/dist-packages (from datasets) (2023.6.0)\n",
            "Requirement already satisfied: aiohttp in /usr/local/lib/python3.10/dist-packages (from datasets) (3.9.3)\n",
            "Requirement already satisfied: packaging in /usr/local/lib/python3.10/dist-packages (from datasets) (24.0)\n",
            "Requirement already satisfied: pyyaml>=5.1 in /usr/local/lib/python3.10/dist-packages (from datasets) (6.0.1)\n",
            "Requirement already satisfied: tokenizers<0.19,>=0.14 in /usr/local/lib/python3.10/dist-packages (from transformers) (0.15.2)\n",
            "Requirement already satisfied: wcwidth<0.3.0,>=0.2.12 in /usr/local/lib/python3.10/dist-packages (from ftfy) (0.2.13)\n",
            "Requirement already satisfied: aiosignal>=1.1.2 in /usr/local/lib/python3.10/dist-packages (from aiohttp->datasets) (1.3.1)\n",
            "Requirement already satisfied: attrs>=17.3.0 in /usr/local/lib/python3.10/dist-packages (from aiohttp->datasets) (23.2.0)\n",
            "Requirement already satisfied: frozenlist>=1.1.1 in /usr/local/lib/python3.10/dist-packages (from aiohttp->datasets) (1.4.1)\n",
            "Requirement already satisfied: multidict<7.0,>=4.5 in /usr/local/lib/python3.10/dist-packages (from aiohttp->datasets) (6.0.5)\n",
            "Requirement already satisfied: yarl<2.0,>=1.0 in /usr/local/lib/python3.10/dist-packages (from aiohttp->datasets) (1.9.4)\n",
            "Requirement already satisfied: async-timeout<5.0,>=4.0 in /usr/local/lib/python3.10/dist-packages (from aiohttp->datasets) (4.0.3)\n",
            "Requirement already satisfied: typing-extensions>=3.7.4.3 in /usr/local/lib/python3.10/dist-packages (from huggingface-hub>=0.20.2->diffusers) (4.10.0)\n",
            "Requirement already satisfied: charset-normalizer<4,>=2 in /usr/local/lib/python3.10/dist-packages (from requests->diffusers) (3.3.2)\n",
            "Requirement already satisfied: idna<4,>=2.5 in /usr/local/lib/python3.10/dist-packages (from requests->diffusers) (3.6)\n",
            "Requirement already satisfied: urllib3<3,>=1.21.1 in /usr/local/lib/python3.10/dist-packages (from requests->diffusers) (2.0.7)\n",
            "Requirement already satisfied: certifi>=2017.4.17 in /usr/local/lib/python3.10/dist-packages (from requests->diffusers) (2024.2.2)\n",
            "Requirement already satisfied: zipp>=0.5 in /usr/local/lib/python3.10/dist-packages (from importlib-metadata->diffusers) (3.18.1)\n",
            "Requirement already satisfied: python-dateutil>=2.8.1 in /usr/local/lib/python3.10/dist-packages (from pandas->datasets) (2.8.2)\n",
            "Requirement already satisfied: pytz>=2020.1 in /usr/local/lib/python3.10/dist-packages (from pandas->datasets) (2023.4)\n",
            "Requirement already satisfied: six>=1.5 in /usr/local/lib/python3.10/dist-packages (from python-dateutil>=2.8.1->pandas->datasets) (1.16.0)\n"
          ]
        }
      ]
    },
    {
      "cell_type": "code",
      "source": [
        "from diffusers import UNet2DModel\n",
        "\n",
        "image_size=128\n",
        "model = UNet2DModel(\n",
        "    sample_size= image_size,\n",
        "    in_channels=3,\n",
        "    out_channels=3,\n",
        "    layers_per_block=2,\n",
        "    block_out_channels=(128,128,256,256,512,512),\n",
        "    down_block_types=(\n",
        "        \"DownBlock2D\",\n",
        "        \"DownBlock2D\",\n",
        "        \"DownBlock2D\",\n",
        "        \"DownBlock2D\",\n",
        "        \"AttnDownBlock2D\",\n",
        "        \"DownBlock2D\",\n",
        "    ),\n",
        "    up_block_types=(\n",
        "        \"UpBlock2D\",\n",
        "        \"AttnUpBlock2D\",\n",
        "        \"UpBlock2D\",\n",
        "        \"UpBlock2D\",\n",
        "        \"UpBlock2D\",\n",
        "        \"UpBlock2D\"\n",
        "    ),\n",
        ")\n",
        "model.to(device)"
      ],
      "metadata": {
        "id": "SI7UO9AGsBXb",
        "colab": {
          "base_uri": "https://localhost:8080/"
        },
        "outputId": "119c9c36-0866-4539-faa8-01f3cd44a6ec"
      },
      "execution_count": 19,
      "outputs": [
        {
          "output_type": "execute_result",
          "data": {
            "text/plain": [
              "UNet2DModel(\n",
              "  (conv_in): Conv2d(3, 128, kernel_size=(3, 3), stride=(1, 1), padding=(1, 1))\n",
              "  (time_proj): Timesteps()\n",
              "  (time_embedding): TimestepEmbedding(\n",
              "    (linear_1): Linear(in_features=128, out_features=512, bias=True)\n",
              "    (act): SiLU()\n",
              "    (linear_2): Linear(in_features=512, out_features=512, bias=True)\n",
              "  )\n",
              "  (down_blocks): ModuleList(\n",
              "    (0-1): 2 x DownBlock2D(\n",
              "      (resnets): ModuleList(\n",
              "        (0-1): 2 x ResnetBlock2D(\n",
              "          (norm1): GroupNorm(32, 128, eps=1e-05, affine=True)\n",
              "          (conv1): Conv2d(128, 128, kernel_size=(3, 3), stride=(1, 1), padding=(1, 1))\n",
              "          (time_emb_proj): Linear(in_features=512, out_features=128, bias=True)\n",
              "          (norm2): GroupNorm(32, 128, eps=1e-05, affine=True)\n",
              "          (dropout): Dropout(p=0.0, inplace=False)\n",
              "          (conv2): Conv2d(128, 128, kernel_size=(3, 3), stride=(1, 1), padding=(1, 1))\n",
              "          (nonlinearity): SiLU()\n",
              "        )\n",
              "      )\n",
              "      (downsamplers): ModuleList(\n",
              "        (0): Downsample2D(\n",
              "          (conv): Conv2d(128, 128, kernel_size=(3, 3), stride=(2, 2), padding=(1, 1))\n",
              "        )\n",
              "      )\n",
              "    )\n",
              "    (2): DownBlock2D(\n",
              "      (resnets): ModuleList(\n",
              "        (0): ResnetBlock2D(\n",
              "          (norm1): GroupNorm(32, 128, eps=1e-05, affine=True)\n",
              "          (conv1): Conv2d(128, 256, kernel_size=(3, 3), stride=(1, 1), padding=(1, 1))\n",
              "          (time_emb_proj): Linear(in_features=512, out_features=256, bias=True)\n",
              "          (norm2): GroupNorm(32, 256, eps=1e-05, affine=True)\n",
              "          (dropout): Dropout(p=0.0, inplace=False)\n",
              "          (conv2): Conv2d(256, 256, kernel_size=(3, 3), stride=(1, 1), padding=(1, 1))\n",
              "          (nonlinearity): SiLU()\n",
              "          (conv_shortcut): Conv2d(128, 256, kernel_size=(1, 1), stride=(1, 1))\n",
              "        )\n",
              "        (1): ResnetBlock2D(\n",
              "          (norm1): GroupNorm(32, 256, eps=1e-05, affine=True)\n",
              "          (conv1): Conv2d(256, 256, kernel_size=(3, 3), stride=(1, 1), padding=(1, 1))\n",
              "          (time_emb_proj): Linear(in_features=512, out_features=256, bias=True)\n",
              "          (norm2): GroupNorm(32, 256, eps=1e-05, affine=True)\n",
              "          (dropout): Dropout(p=0.0, inplace=False)\n",
              "          (conv2): Conv2d(256, 256, kernel_size=(3, 3), stride=(1, 1), padding=(1, 1))\n",
              "          (nonlinearity): SiLU()\n",
              "        )\n",
              "      )\n",
              "      (downsamplers): ModuleList(\n",
              "        (0): Downsample2D(\n",
              "          (conv): Conv2d(256, 256, kernel_size=(3, 3), stride=(2, 2), padding=(1, 1))\n",
              "        )\n",
              "      )\n",
              "    )\n",
              "    (3): DownBlock2D(\n",
              "      (resnets): ModuleList(\n",
              "        (0-1): 2 x ResnetBlock2D(\n",
              "          (norm1): GroupNorm(32, 256, eps=1e-05, affine=True)\n",
              "          (conv1): Conv2d(256, 256, kernel_size=(3, 3), stride=(1, 1), padding=(1, 1))\n",
              "          (time_emb_proj): Linear(in_features=512, out_features=256, bias=True)\n",
              "          (norm2): GroupNorm(32, 256, eps=1e-05, affine=True)\n",
              "          (dropout): Dropout(p=0.0, inplace=False)\n",
              "          (conv2): Conv2d(256, 256, kernel_size=(3, 3), stride=(1, 1), padding=(1, 1))\n",
              "          (nonlinearity): SiLU()\n",
              "        )\n",
              "      )\n",
              "      (downsamplers): ModuleList(\n",
              "        (0): Downsample2D(\n",
              "          (conv): Conv2d(256, 256, kernel_size=(3, 3), stride=(2, 2), padding=(1, 1))\n",
              "        )\n",
              "      )\n",
              "    )\n",
              "    (4): AttnDownBlock2D(\n",
              "      (attentions): ModuleList(\n",
              "        (0-1): 2 x Attention(\n",
              "          (group_norm): GroupNorm(32, 512, eps=1e-05, affine=True)\n",
              "          (to_q): Linear(in_features=512, out_features=512, bias=True)\n",
              "          (to_k): Linear(in_features=512, out_features=512, bias=True)\n",
              "          (to_v): Linear(in_features=512, out_features=512, bias=True)\n",
              "          (to_out): ModuleList(\n",
              "            (0): Linear(in_features=512, out_features=512, bias=True)\n",
              "            (1): Dropout(p=0.0, inplace=False)\n",
              "          )\n",
              "        )\n",
              "      )\n",
              "      (resnets): ModuleList(\n",
              "        (0): ResnetBlock2D(\n",
              "          (norm1): GroupNorm(32, 256, eps=1e-05, affine=True)\n",
              "          (conv1): Conv2d(256, 512, kernel_size=(3, 3), stride=(1, 1), padding=(1, 1))\n",
              "          (time_emb_proj): Linear(in_features=512, out_features=512, bias=True)\n",
              "          (norm2): GroupNorm(32, 512, eps=1e-05, affine=True)\n",
              "          (dropout): Dropout(p=0.0, inplace=False)\n",
              "          (conv2): Conv2d(512, 512, kernel_size=(3, 3), stride=(1, 1), padding=(1, 1))\n",
              "          (nonlinearity): SiLU()\n",
              "          (conv_shortcut): Conv2d(256, 512, kernel_size=(1, 1), stride=(1, 1))\n",
              "        )\n",
              "        (1): ResnetBlock2D(\n",
              "          (norm1): GroupNorm(32, 512, eps=1e-05, affine=True)\n",
              "          (conv1): Conv2d(512, 512, kernel_size=(3, 3), stride=(1, 1), padding=(1, 1))\n",
              "          (time_emb_proj): Linear(in_features=512, out_features=512, bias=True)\n",
              "          (norm2): GroupNorm(32, 512, eps=1e-05, affine=True)\n",
              "          (dropout): Dropout(p=0.0, inplace=False)\n",
              "          (conv2): Conv2d(512, 512, kernel_size=(3, 3), stride=(1, 1), padding=(1, 1))\n",
              "          (nonlinearity): SiLU()\n",
              "        )\n",
              "      )\n",
              "      (downsamplers): ModuleList(\n",
              "        (0): Downsample2D(\n",
              "          (conv): Conv2d(512, 512, kernel_size=(3, 3), stride=(2, 2), padding=(1, 1))\n",
              "        )\n",
              "      )\n",
              "    )\n",
              "    (5): DownBlock2D(\n",
              "      (resnets): ModuleList(\n",
              "        (0-1): 2 x ResnetBlock2D(\n",
              "          (norm1): GroupNorm(32, 512, eps=1e-05, affine=True)\n",
              "          (conv1): Conv2d(512, 512, kernel_size=(3, 3), stride=(1, 1), padding=(1, 1))\n",
              "          (time_emb_proj): Linear(in_features=512, out_features=512, bias=True)\n",
              "          (norm2): GroupNorm(32, 512, eps=1e-05, affine=True)\n",
              "          (dropout): Dropout(p=0.0, inplace=False)\n",
              "          (conv2): Conv2d(512, 512, kernel_size=(3, 3), stride=(1, 1), padding=(1, 1))\n",
              "          (nonlinearity): SiLU()\n",
              "        )\n",
              "      )\n",
              "    )\n",
              "  )\n",
              "  (up_blocks): ModuleList(\n",
              "    (0): UpBlock2D(\n",
              "      (resnets): ModuleList(\n",
              "        (0-2): 3 x ResnetBlock2D(\n",
              "          (norm1): GroupNorm(32, 1024, eps=1e-05, affine=True)\n",
              "          (conv1): Conv2d(1024, 512, kernel_size=(3, 3), stride=(1, 1), padding=(1, 1))\n",
              "          (time_emb_proj): Linear(in_features=512, out_features=512, bias=True)\n",
              "          (norm2): GroupNorm(32, 512, eps=1e-05, affine=True)\n",
              "          (dropout): Dropout(p=0.0, inplace=False)\n",
              "          (conv2): Conv2d(512, 512, kernel_size=(3, 3), stride=(1, 1), padding=(1, 1))\n",
              "          (nonlinearity): SiLU()\n",
              "          (conv_shortcut): Conv2d(1024, 512, kernel_size=(1, 1), stride=(1, 1))\n",
              "        )\n",
              "      )\n",
              "      (upsamplers): ModuleList(\n",
              "        (0): Upsample2D(\n",
              "          (conv): Conv2d(512, 512, kernel_size=(3, 3), stride=(1, 1), padding=(1, 1))\n",
              "        )\n",
              "      )\n",
              "    )\n",
              "    (1): AttnUpBlock2D(\n",
              "      (attentions): ModuleList(\n",
              "        (0-2): 3 x Attention(\n",
              "          (group_norm): GroupNorm(32, 512, eps=1e-05, affine=True)\n",
              "          (to_q): Linear(in_features=512, out_features=512, bias=True)\n",
              "          (to_k): Linear(in_features=512, out_features=512, bias=True)\n",
              "          (to_v): Linear(in_features=512, out_features=512, bias=True)\n",
              "          (to_out): ModuleList(\n",
              "            (0): Linear(in_features=512, out_features=512, bias=True)\n",
              "            (1): Dropout(p=0.0, inplace=False)\n",
              "          )\n",
              "        )\n",
              "      )\n",
              "      (resnets): ModuleList(\n",
              "        (0-1): 2 x ResnetBlock2D(\n",
              "          (norm1): GroupNorm(32, 1024, eps=1e-05, affine=True)\n",
              "          (conv1): Conv2d(1024, 512, kernel_size=(3, 3), stride=(1, 1), padding=(1, 1))\n",
              "          (time_emb_proj): Linear(in_features=512, out_features=512, bias=True)\n",
              "          (norm2): GroupNorm(32, 512, eps=1e-05, affine=True)\n",
              "          (dropout): Dropout(p=0.0, inplace=False)\n",
              "          (conv2): Conv2d(512, 512, kernel_size=(3, 3), stride=(1, 1), padding=(1, 1))\n",
              "          (nonlinearity): SiLU()\n",
              "          (conv_shortcut): Conv2d(1024, 512, kernel_size=(1, 1), stride=(1, 1))\n",
              "        )\n",
              "        (2): ResnetBlock2D(\n",
              "          (norm1): GroupNorm(32, 768, eps=1e-05, affine=True)\n",
              "          (conv1): Conv2d(768, 512, kernel_size=(3, 3), stride=(1, 1), padding=(1, 1))\n",
              "          (time_emb_proj): Linear(in_features=512, out_features=512, bias=True)\n",
              "          (norm2): GroupNorm(32, 512, eps=1e-05, affine=True)\n",
              "          (dropout): Dropout(p=0.0, inplace=False)\n",
              "          (conv2): Conv2d(512, 512, kernel_size=(3, 3), stride=(1, 1), padding=(1, 1))\n",
              "          (nonlinearity): SiLU()\n",
              "          (conv_shortcut): Conv2d(768, 512, kernel_size=(1, 1), stride=(1, 1))\n",
              "        )\n",
              "      )\n",
              "      (upsamplers): ModuleList(\n",
              "        (0): Upsample2D(\n",
              "          (conv): Conv2d(512, 512, kernel_size=(3, 3), stride=(1, 1), padding=(1, 1))\n",
              "        )\n",
              "      )\n",
              "    )\n",
              "    (2): UpBlock2D(\n",
              "      (resnets): ModuleList(\n",
              "        (0): ResnetBlock2D(\n",
              "          (norm1): GroupNorm(32, 768, eps=1e-05, affine=True)\n",
              "          (conv1): Conv2d(768, 256, kernel_size=(3, 3), stride=(1, 1), padding=(1, 1))\n",
              "          (time_emb_proj): Linear(in_features=512, out_features=256, bias=True)\n",
              "          (norm2): GroupNorm(32, 256, eps=1e-05, affine=True)\n",
              "          (dropout): Dropout(p=0.0, inplace=False)\n",
              "          (conv2): Conv2d(256, 256, kernel_size=(3, 3), stride=(1, 1), padding=(1, 1))\n",
              "          (nonlinearity): SiLU()\n",
              "          (conv_shortcut): Conv2d(768, 256, kernel_size=(1, 1), stride=(1, 1))\n",
              "        )\n",
              "        (1-2): 2 x ResnetBlock2D(\n",
              "          (norm1): GroupNorm(32, 512, eps=1e-05, affine=True)\n",
              "          (conv1): Conv2d(512, 256, kernel_size=(3, 3), stride=(1, 1), padding=(1, 1))\n",
              "          (time_emb_proj): Linear(in_features=512, out_features=256, bias=True)\n",
              "          (norm2): GroupNorm(32, 256, eps=1e-05, affine=True)\n",
              "          (dropout): Dropout(p=0.0, inplace=False)\n",
              "          (conv2): Conv2d(256, 256, kernel_size=(3, 3), stride=(1, 1), padding=(1, 1))\n",
              "          (nonlinearity): SiLU()\n",
              "          (conv_shortcut): Conv2d(512, 256, kernel_size=(1, 1), stride=(1, 1))\n",
              "        )\n",
              "      )\n",
              "      (upsamplers): ModuleList(\n",
              "        (0): Upsample2D(\n",
              "          (conv): Conv2d(256, 256, kernel_size=(3, 3), stride=(1, 1), padding=(1, 1))\n",
              "        )\n",
              "      )\n",
              "    )\n",
              "    (3): UpBlock2D(\n",
              "      (resnets): ModuleList(\n",
              "        (0-1): 2 x ResnetBlock2D(\n",
              "          (norm1): GroupNorm(32, 512, eps=1e-05, affine=True)\n",
              "          (conv1): Conv2d(512, 256, kernel_size=(3, 3), stride=(1, 1), padding=(1, 1))\n",
              "          (time_emb_proj): Linear(in_features=512, out_features=256, bias=True)\n",
              "          (norm2): GroupNorm(32, 256, eps=1e-05, affine=True)\n",
              "          (dropout): Dropout(p=0.0, inplace=False)\n",
              "          (conv2): Conv2d(256, 256, kernel_size=(3, 3), stride=(1, 1), padding=(1, 1))\n",
              "          (nonlinearity): SiLU()\n",
              "          (conv_shortcut): Conv2d(512, 256, kernel_size=(1, 1), stride=(1, 1))\n",
              "        )\n",
              "        (2): ResnetBlock2D(\n",
              "          (norm1): GroupNorm(32, 384, eps=1e-05, affine=True)\n",
              "          (conv1): Conv2d(384, 256, kernel_size=(3, 3), stride=(1, 1), padding=(1, 1))\n",
              "          (time_emb_proj): Linear(in_features=512, out_features=256, bias=True)\n",
              "          (norm2): GroupNorm(32, 256, eps=1e-05, affine=True)\n",
              "          (dropout): Dropout(p=0.0, inplace=False)\n",
              "          (conv2): Conv2d(256, 256, kernel_size=(3, 3), stride=(1, 1), padding=(1, 1))\n",
              "          (nonlinearity): SiLU()\n",
              "          (conv_shortcut): Conv2d(384, 256, kernel_size=(1, 1), stride=(1, 1))\n",
              "        )\n",
              "      )\n",
              "      (upsamplers): ModuleList(\n",
              "        (0): Upsample2D(\n",
              "          (conv): Conv2d(256, 256, kernel_size=(3, 3), stride=(1, 1), padding=(1, 1))\n",
              "        )\n",
              "      )\n",
              "    )\n",
              "    (4): UpBlock2D(\n",
              "      (resnets): ModuleList(\n",
              "        (0): ResnetBlock2D(\n",
              "          (norm1): GroupNorm(32, 384, eps=1e-05, affine=True)\n",
              "          (conv1): Conv2d(384, 128, kernel_size=(3, 3), stride=(1, 1), padding=(1, 1))\n",
              "          (time_emb_proj): Linear(in_features=512, out_features=128, bias=True)\n",
              "          (norm2): GroupNorm(32, 128, eps=1e-05, affine=True)\n",
              "          (dropout): Dropout(p=0.0, inplace=False)\n",
              "          (conv2): Conv2d(128, 128, kernel_size=(3, 3), stride=(1, 1), padding=(1, 1))\n",
              "          (nonlinearity): SiLU()\n",
              "          (conv_shortcut): Conv2d(384, 128, kernel_size=(1, 1), stride=(1, 1))\n",
              "        )\n",
              "        (1-2): 2 x ResnetBlock2D(\n",
              "          (norm1): GroupNorm(32, 256, eps=1e-05, affine=True)\n",
              "          (conv1): Conv2d(256, 128, kernel_size=(3, 3), stride=(1, 1), padding=(1, 1))\n",
              "          (time_emb_proj): Linear(in_features=512, out_features=128, bias=True)\n",
              "          (norm2): GroupNorm(32, 128, eps=1e-05, affine=True)\n",
              "          (dropout): Dropout(p=0.0, inplace=False)\n",
              "          (conv2): Conv2d(128, 128, kernel_size=(3, 3), stride=(1, 1), padding=(1, 1))\n",
              "          (nonlinearity): SiLU()\n",
              "          (conv_shortcut): Conv2d(256, 128, kernel_size=(1, 1), stride=(1, 1))\n",
              "        )\n",
              "      )\n",
              "      (upsamplers): ModuleList(\n",
              "        (0): Upsample2D(\n",
              "          (conv): Conv2d(128, 128, kernel_size=(3, 3), stride=(1, 1), padding=(1, 1))\n",
              "        )\n",
              "      )\n",
              "    )\n",
              "    (5): UpBlock2D(\n",
              "      (resnets): ModuleList(\n",
              "        (0-2): 3 x ResnetBlock2D(\n",
              "          (norm1): GroupNorm(32, 256, eps=1e-05, affine=True)\n",
              "          (conv1): Conv2d(256, 128, kernel_size=(3, 3), stride=(1, 1), padding=(1, 1))\n",
              "          (time_emb_proj): Linear(in_features=512, out_features=128, bias=True)\n",
              "          (norm2): GroupNorm(32, 128, eps=1e-05, affine=True)\n",
              "          (dropout): Dropout(p=0.0, inplace=False)\n",
              "          (conv2): Conv2d(128, 128, kernel_size=(3, 3), stride=(1, 1), padding=(1, 1))\n",
              "          (nonlinearity): SiLU()\n",
              "          (conv_shortcut): Conv2d(256, 128, kernel_size=(1, 1), stride=(1, 1))\n",
              "        )\n",
              "      )\n",
              "    )\n",
              "  )\n",
              "  (mid_block): UNetMidBlock2D(\n",
              "    (attentions): ModuleList(\n",
              "      (0): Attention(\n",
              "        (group_norm): GroupNorm(32, 512, eps=1e-05, affine=True)\n",
              "        (to_q): Linear(in_features=512, out_features=512, bias=True)\n",
              "        (to_k): Linear(in_features=512, out_features=512, bias=True)\n",
              "        (to_v): Linear(in_features=512, out_features=512, bias=True)\n",
              "        (to_out): ModuleList(\n",
              "          (0): Linear(in_features=512, out_features=512, bias=True)\n",
              "          (1): Dropout(p=0.0, inplace=False)\n",
              "        )\n",
              "      )\n",
              "    )\n",
              "    (resnets): ModuleList(\n",
              "      (0-1): 2 x ResnetBlock2D(\n",
              "        (norm1): GroupNorm(32, 512, eps=1e-05, affine=True)\n",
              "        (conv1): Conv2d(512, 512, kernel_size=(3, 3), stride=(1, 1), padding=(1, 1))\n",
              "        (time_emb_proj): Linear(in_features=512, out_features=512, bias=True)\n",
              "        (norm2): GroupNorm(32, 512, eps=1e-05, affine=True)\n",
              "        (dropout): Dropout(p=0.0, inplace=False)\n",
              "        (conv2): Conv2d(512, 512, kernel_size=(3, 3), stride=(1, 1), padding=(1, 1))\n",
              "        (nonlinearity): SiLU()\n",
              "      )\n",
              "    )\n",
              "  )\n",
              "  (conv_norm_out): GroupNorm(32, 128, eps=1e-05, affine=True)\n",
              "  (conv_act): SiLU()\n",
              "  (conv_out): Conv2d(128, 3, kernel_size=(3, 3), stride=(1, 1), padding=(1, 1))\n",
              ")"
            ]
          },
          "metadata": {},
          "execution_count": 19
        }
      ]
    },
    {
      "cell_type": "code",
      "source": [
        "model.load_state_dict(torch.load(\"/content/drive/MyDrive/butterfly_diffusion_model8.pt\"))"
      ],
      "metadata": {
        "id": "MTV2w3PJtfrk",
        "colab": {
          "base_uri": "https://localhost:8080/"
        },
        "outputId": "15e3fe9e-b028-4abe-d79a-fe983943b93a"
      },
      "execution_count": 20,
      "outputs": [
        {
          "output_type": "execute_result",
          "data": {
            "text/plain": [
              "<All keys matched successfully>"
            ]
          },
          "metadata": {},
          "execution_count": 20
        }
      ]
    },
    {
      "cell_type": "code",
      "source": [
        "from diffusers import DDPMPipeline\n",
        "from diffusers import DDIMPipeline\n",
        "from diffusers import DDPMScheduler\n",
        "from diffusers import DDIMScheduler\n",
        "\n",
        "scheduler = DDIMScheduler(num_train_timesteps=1000, beta_schedule=\"squaredcos_cap_v2\")\n",
        "image_pipe = DDIMPipeline(unet=model, scheduler=scheduler)"
      ],
      "metadata": {
        "id": "WMbLtRnjt8iM"
      },
      "execution_count": 21,
      "outputs": []
    },
    {
      "cell_type": "code",
      "source": [
        "X0.shape"
      ],
      "metadata": {
        "id": "fOnu3ckSy4Lg",
        "colab": {
          "base_uri": "https://localhost:8080/"
        },
        "outputId": "cc2feac4-b80c-4215-ec33-0310ce7015ad"
      },
      "execution_count": 22,
      "outputs": [
        {
          "output_type": "execute_result",
          "data": {
            "text/plain": [
              "torch.Size([1, 3, 128, 128])"
            ]
          },
          "metadata": {},
          "execution_count": 22
        }
      ]
    },
    {
      "cell_type": "code",
      "source": [
        "XT = get_XT_using_ddim(X_t, image_pipe)"
      ],
      "metadata": {
        "id": "DMj1fDMlpDvY"
      },
      "execution_count": 23,
      "outputs": []
    },
    {
      "cell_type": "code",
      "source": [
        "Image.fromarray(np.uint8(((XT[0].permute(1,2,0).cpu().clip(-1, 1) * 0.5 + 0.5) * 255).int().numpy()))"
      ],
      "metadata": {
        "id": "ghtsM7UepVMb",
        "colab": {
          "base_uri": "https://localhost:8080/",
          "height": 145
        },
        "outputId": "3efa6985-c318-4181-c85d-b9a9e6129eb3"
      },
      "execution_count": 24,
      "outputs": [
        {
          "output_type": "execute_result",
          "data": {
            "text/plain": [
              "<PIL.Image.Image image mode=RGB size=128x128>"
            ],
            "image/png": "[encoded data removed]"
          },
          "metadata": {},
          "execution_count": 24
        }
      ]
    },
    {
      "cell_type": "code",
      "source": [
        "XT"
      ],
      "metadata": {
        "colab": {
          "base_uri": "https://localhost:8080/"
        },
        "id": "qTN3OTVRR5bi",
        "outputId": "0c8c5b44-38ca-4346-fde1-f774e1e8cc35"
      },
      "execution_count": 25,
      "outputs": [
        {
          "output_type": "execute_result",
          "data": {
            "text/plain": [
              "tensor([[[[-0.1601, -0.4449, -0.1527,  ..., -0.7273, -0.6651, -0.1605],\n",
              "          [ 0.2234, -0.2920,  1.4494,  ..., -1.4725, -3.1977, -0.4031],\n",
              "          [-0.7709,  0.8744, -0.4156,  ..., -0.3608, -0.5966, -0.7490],\n",
              "          ...,\n",
              "          [-1.0764, -0.2004,  0.3185,  ...,  2.4978,  1.3888, -0.4232],\n",
              "          [-1.0690, -1.0866, -0.0348,  ...,  0.3508,  0.4075, -0.2453],\n",
              "          [ 0.1026, -1.2451, -1.1436,  ..., -0.6478, -0.4028, -0.3095]],\n",
              "\n",
              "         [[ 0.4048, -0.4144,  0.1374,  ..., -1.0022, -0.6765, -0.3294],\n",
              "          [-0.7432, -4.0654, -2.3538,  ...,  1.7831,  3.6494, -0.0059],\n",
              "          [-0.3745, -0.6672,  0.1513,  ...,  0.9824,  1.4144,  0.5427],\n",
              "          ...,\n",
              "          [-0.2924, -1.1647,  0.2305,  ..., -0.0868, -1.1551, -0.8525],\n",
              "          [-0.3277, -3.6470, -0.6719,  ..., -1.7194, -2.5075, -0.8732],\n",
              "          [ 0.1375, -0.7055, -0.5689,  ...,  0.2136, -0.4145,  0.0772]],\n",
              "\n",
              "         [[-0.2834, -0.9034, -0.8745,  ..., -0.4786, -0.8422, -0.2574],\n",
              "          [-0.1186, -4.3686, -0.1179,  ..., -1.2847, -2.1359, -1.1473],\n",
              "          [ 2.3705,  3.2619, -2.1670,  ..., -0.4625,  0.3436, -0.8104],\n",
              "          ...,\n",
              "          [ 0.6106, -0.1940, -0.2844,  ..., -0.7171,  0.5689,  0.0257],\n",
              "          [ 0.6112,  5.6512,  0.5930,  ..., -0.3195,  0.2136, -0.7281],\n",
              "          [-0.2887,  0.1296,  0.4655,  ..., -1.2905, -1.8301, -0.5609]]]],\n",
              "       device='cuda:0')"
            ]
          },
          "metadata": {},
          "execution_count": 25
        }
      ]
    },
    {
      "cell_type": "code",
      "source": [
        "def reconstruct_image_from_noise(XT, scheduler, image_pipe):\n",
        "    X_t = XT.unsqueeze(0)\n",
        "\n",
        "    for i, t in enumerate(scheduler.timesteps):\n",
        "        model_input = scheduler.scale_model_input(X_t, t)\n",
        "        with torch.no_grad():\n",
        "            pred_epsilon = image_pipe.unet(model_input, t)[\"sample\"]\n",
        "\n",
        "        alpha_bar_t = scheduler.alphas_cumprod[t]\n",
        "        if t != 0:\n",
        "            alpha_bar_t_minus_delta_t = scheduler.alphas_cumprod[scheduler.timesteps[i + 1]]\n",
        "        else:\n",
        "            alpha_bar_t_minus_delta_t = torch.tensor(1.0)\n",
        "\n",
        "        pred_X0 = (X_t - pred_epsilon * (1 - alpha_bar_t).sqrt()) / alpha_bar_t.sqrt()\n",
        "        pred_X0.clamp(-1, 1)\n",
        "\n",
        "        X_t_minus_delta_t = alpha_bar_t_minus_delta_t.sqrt() * pred_X0 + (1 - alpha_bar_t_minus_delta_t).sqrt() * pred_epsilon\n",
        "        X_t = X_t_minus_delta_t\n",
        "\n",
        "    return X_t"
      ],
      "metadata": {
        "id": "IgfbVRH9Cutl"
      },
      "execution_count": 29,
      "outputs": []
    },
    {
      "cell_type": "code",
      "source": [
        "X_t = reconstruct_image_from_noise(XT[0], scheduler, image_pipe)"
      ],
      "metadata": {
        "id": "xZnQyML8HEsM"
      },
      "execution_count": 30,
      "outputs": []
    },
    {
      "cell_type": "code",
      "source": [
        "X_zero = X_t[0].squeeze(0).permute(1,2,0).clamp(-1, 1)\n",
        "Image.fromarray(np.uint8(((X_zero.cpu().clip(-1, 1) * 0.5 + 0.5) * 255).long().numpy()))"
      ],
      "metadata": {
        "id": "qKg66LgKHVIv",
        "colab": {
          "base_uri": "https://localhost:8080/",
          "height": 145
        },
        "outputId": "190fd8e4-b0df-454e-d1b4-20883b369ee4"
      },
      "execution_count": 31,
      "outputs": [
        {
          "output_type": "execute_result",
          "data": {
            "text/plain": [
              "<PIL.Image.Image image mode=RGB size=128x128>"
            ],
            "image/png": "[encoded data removed]"
          },
          "metadata": {},
          "execution_count": 31
        }
      ]
    }
  ]
}
