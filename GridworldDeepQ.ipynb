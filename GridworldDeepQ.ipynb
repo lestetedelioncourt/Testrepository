{
 "cells": [
  {
   "cell_type": "code",
   "execution_count": 1,
   "id": "b00c3a67-e8f8-41d5-8c4a-7308f11e3e82",
   "metadata": {},
   "outputs": [
    {
     "name": "stderr",
     "output_type": "stream",
     "text": [
      "\n"
     ]
    }
   ],
   "source": [
    "import torch\n",
    "import time\n",
    "import cv2\n",
    "import matplotlib as plt\n",
    "import gym\n",
    "from Gridworld_Game import Gridworld"
   ]
  },
  {
   "cell_type": "code",
   "execution_count": 2,
   "id": "1b3937c6-7807-4fa3-ad5e-a621bd980562",
   "metadata": {},
   "outputs": [],
   "source": [
    "GRID_SIZE = 4\n",
    "env = Gridworld(Grid_size=GRID_SIZE, mode='static')"
   ]
  },
  {
   "cell_type": "code",
   "execution_count": 3,
   "id": "88ee60ff-d938-4f16-ac1f-c3a7a4cd084b",
   "metadata": {},
   "outputs": [
    {
     "data": {
      "text/plain": [
       "Box(0, 1, (4, 4, 4), int32)"
      ]
     },
     "execution_count": 3,
     "metadata": {},
     "output_type": "execute_result"
    }
   ],
   "source": [
    "env.observation_space"
   ]
  },
  {
   "cell_type": "code",
   "execution_count": 4,
   "id": "68b46dfd-234e-487f-9443-33b4b9613ee1",
   "metadata": {},
   "outputs": [
    {
     "data": {
      "text/plain": [
       "Discrete(4)"
      ]
     },
     "execution_count": 4,
     "metadata": {},
     "output_type": "execute_result"
    }
   ],
   "source": [
    "env.actions_space"
   ]
  },
  {
   "cell_type": "code",
   "execution_count": 5,
   "id": "595a1998-649c-4382-a4d7-08c9b1681984",
   "metadata": {},
   "outputs": [
    {
     "data": {
      "text/plain": [
       "2"
      ]
     },
     "execution_count": 5,
     "metadata": {},
     "output_type": "execute_result"
    }
   ],
   "source": [
    "action = env.actions_space.sample()\n",
    "action"
   ]
  },
  {
   "cell_type": "code",
   "execution_count": 6,
   "id": "b5b058b8-bff2-4b8c-ae37-43d20bec39e5",
   "metadata": {},
   "outputs": [],
   "source": [
    "env.reset()\n",
    "env.render(mode='human')\n",
    "time.sleep(10)\n",
    "env.close()"
   ]
  },
  {
   "cell_type": "code",
   "execution_count": 15,
   "id": "29fa47fe-8b17-4ffb-9181-9175373632fe",
   "metadata": {},
   "outputs": [],
   "source": [
    "env.step(action)\n",
    "env.reset()\n",
    "env.render(mode='human')\n",
    "time.sleep(10)\n",
    "env.close()"
   ]
  },
  {
   "cell_type": "code",
   "execution_count": 7,
   "id": "ff8f76f1-0b43-491d-84f1-fa31106caf2a",
   "metadata": {},
   "outputs": [],
   "source": [
    "actions = {'left': 0, 'right': 1, 'up': 2, 'down': 3}"
   ]
  },
  {
   "cell_type": "code",
   "execution_count": 8,
   "id": "3eb54cb6-d8aa-4dac-95ab-2df369bd10b9",
   "metadata": {},
   "outputs": [
    {
     "data": {
      "text/plain": [
       "(array([[[0, 0, 0, 0],\n",
       "         [1, 0, 0, 0],\n",
       "         [0, 0, 0, 0],\n",
       "         [0, 0, 0, 0]],\n",
       " \n",
       "        [[0, 0, 0, 0],\n",
       "         [0, 1, 0, 0],\n",
       "         [0, 0, 0, 0],\n",
       "         [0, 0, 0, 0]],\n",
       " \n",
       "        [[0, 0, 0, 0],\n",
       "         [0, 0, 0, 0],\n",
       "         [0, 0, 0, 0],\n",
       "         [0, 0, 0, 0]],\n",
       " \n",
       "        [[0, 0, 0, 0],\n",
       "         [0, 0, 0, 1],\n",
       "         [0, 0, 0, 0],\n",
       "         [0, 0, 1, 0]]]),\n",
       " -1,\n",
       " False,\n",
       " {'items': {'Agent': 0, 'Hole': 1, 'Wall': 2, 'Goal': 3},\n",
       "  'Grid_size': 4,\n",
       "  'actions': ['Left', 'Right', 'Up', 'Down']})"
      ]
     },
     "execution_count": 8,
     "metadata": {},
     "output_type": "execute_result"
    }
   ],
   "source": [
    "env.step(actions['right'])"
   ]
  },
  {
   "cell_type": "code",
   "execution_count": 9,
   "id": "14a43cda-6318-4d4c-ab01-0bdedb8145f0",
   "metadata": {},
   "outputs": [],
   "source": [
    "class Net(torch.nn.Module):\n",
    "    def __init__(self, input_shape, output_shape):\n",
    "        super(Net, self).__init__()\n",
    "        self.linear1 = torch.nn.Linear(input_shape, 150)\n",
    "        self.linear2 = torch.nn.Linear(150, 100)\n",
    "        self.linear3 = torch.nn.Linear(100, output_shape)\n",
    "        self.activation = torch.nn.ReLU()\n",
    "\n",
    "    def forward(self, x):\n",
    "        x = self.linear1(x)\n",
    "        x = self.activation(x)\n",
    "        x = self.linear2(x)\n",
    "        x = self.activation(x)\n",
    "        x = self.linear3(x)\n",
    "        return x"
   ]
  },
  {
   "cell_type": "code",
   "execution_count": 10,
   "id": "58a9eade-6ccf-4a31-b7b8-5508f4ba6632",
   "metadata": {},
   "outputs": [
    {
     "data": {
      "text/plain": [
       "64"
      ]
     },
     "execution_count": 10,
     "metadata": {},
     "output_type": "execute_result"
    }
   ],
   "source": [
    "EPOCHS = 3000\n",
    "NUM_OBJECTS = 4\n",
    "INPUT_SHAPE = GRID_SIZE**2 * NUM_OBJECTS\n",
    "OUTPUT_SHAPE = len(actions)\n",
    "INPUT_SHAPE"
   ]
  },
  {
   "cell_type": "code",
   "execution_count": 11,
   "id": "6c98a0bb-7fb6-4847-ad60-2895c076ac47",
   "metadata": {},
   "outputs": [
    {
     "data": {
      "text/plain": [
       "Net(\n",
       "  (linear1): Linear(in_features=64, out_features=150, bias=True)\n",
       "  (linear2): Linear(in_features=150, out_features=100, bias=True)\n",
       "  (linear3): Linear(in_features=100, out_features=4, bias=True)\n",
       "  (activation): ReLU()\n",
       ")"
      ]
     },
     "execution_count": 11,
     "metadata": {},
     "output_type": "execute_result"
    }
   ],
   "source": [
    "Agent = Net(INPUT_SHAPE, OUTPUT_SHAPE)\n",
    "Agent"
   ]
  },
  {
   "cell_type": "code",
   "execution_count": 12,
   "id": "0a4d0cd3-d82d-4b5a-9666-c9987f2b7d98",
   "metadata": {},
   "outputs": [],
   "source": [
    "import numpy as np"
   ]
  },
  {
   "cell_type": "code",
   "execution_count": 13,
   "id": "2751a233-3327-4e56-9746-9b773a865452",
   "metadata": {},
   "outputs": [],
   "source": [
    "def preprocess_state(state, input_shape, add_noise=False):\n",
    "    # best practice to add noise to the state to avoid overfitting, input_shape is a tuple here\n",
    "    if add_noise == True:\n",
    "        state = state.reshape(*input_shape) + np.random.rand(*input_shape)/10.0\n",
    "    else:\n",
    "        state = state.reshape(*input_shape)\n",
    "    return state\n",
    "        "
   ]
  },
  {
   "cell_type": "code",
   "execution_count": 14,
   "id": "f49824ac-b421-4536-b05d-68594b3933df",
   "metadata": {},
   "outputs": [
    {
     "data": {
      "text/plain": [
       "array([[1.0093209 , 0.08952649, 0.08749814, 0.02068746, 0.05236501,\n",
       "        0.06388743, 0.06044272, 0.02348235, 0.07998512, 0.06415988,\n",
       "        0.07850741, 0.07181711, 0.04545091, 0.03959819, 0.03335383,\n",
       "        0.06895059, 0.03077744, 0.09690437, 0.01996707, 0.05792077,\n",
       "        0.08578672, 1.09302714, 0.09167514, 0.03979255, 0.02020389,\n",
       "        0.08676662, 0.04007823, 0.02901621, 0.08477838, 0.03212597,\n",
       "        0.03755088, 0.05645068, 0.00818415, 0.05716458, 0.04542502,\n",
       "        0.01718968, 0.05827016, 0.05549441, 0.0477337 , 0.07607267,\n",
       "        0.02218827, 0.09894839, 0.08464463, 0.02930795, 0.0600194 ,\n",
       "        0.00857825, 0.09079456, 0.01991729, 0.08431928, 0.03728681,\n",
       "        0.06101486, 0.01270645, 0.09005304, 0.02054528, 0.01563512,\n",
       "        1.04117731, 0.04572271, 0.01966509, 0.04721014, 0.09359007,\n",
       "        0.01163716, 0.07776199, 1.04451978, 0.04991746]])"
      ]
     },
     "execution_count": 14,
     "metadata": {},
     "output_type": "execute_result"
    }
   ],
   "source": [
    "game = Gridworld(Grid_size=GRID_SIZE, mode='static')\n",
    "state1 = game.state\n",
    "state1 = preprocess_state(state1, (1, INPUT_SHAPE), add_noise=True)\n",
    "state1"
   ]
  },
  {
   "cell_type": "code",
   "execution_count": 15,
   "id": "4d0d1077-5573-48a0-b3bb-67ebcf792145",
   "metadata": {},
   "outputs": [
    {
     "data": {
      "text/plain": [
       "\u001b[1;31mDocstring:\u001b[0m\n",
       "Returns a new Tensor, detached from the current graph.\n",
       "\n",
       "The result will never require gradient.\n",
       "\n",
       "This method also affects forward mode AD gradients and the result will never\n",
       "have forward mode AD gradients.\n",
       "\n",
       ".. note::\n",
       "\n",
       "  Returned Tensor shares the same storage with the original one.\n",
       "  In-place modifications on either of them will be seen, and may trigger\n",
       "  errors in correctness checks.\n",
       "  IMPORTANT NOTE: Previously, in-place size / stride / storage changes\n",
       "  (such as `resize_` / `resize_as_` / `set_` / `transpose_`) to the returned tensor\n",
       "  also update the original tensor. Now, these in-place changes will not update the\n",
       "  original tensor anymore, and will instead trigger an error.\n",
       "  For sparse tensors:\n",
       "  In-place indices / values changes (such as `zero_` / `copy_` / `add_`) to the\n",
       "  returned tensor will not update the original tensor anymore, and will instead\n",
       "  trigger an error.\n",
       "\u001b[1;31mType:\u001b[0m      builtin_function_or_method"
      ]
     },
     "metadata": {},
     "output_type": "display_data"
    }
   ],
   "source": [
    "x = torch.Tensor([2.0])\n",
    "x.detach?"
   ]
  },
  {
   "cell_type": "code",
   "execution_count": 16,
   "id": "49fc7af1-7da5-4858-a25e-5056a97ef836",
   "metadata": {},
   "outputs": [],
   "source": [
    "import random"
   ]
  },
  {
   "cell_type": "code",
   "execution_count": 17,
   "id": "14a19e61-fcb4-48cb-800c-c369f288478a",
   "metadata": {},
   "outputs": [
    {
     "data": {
      "text/plain": [
       "\u001b[1;31mSignature:\u001b[0m \u001b[0mrandom\u001b[0m\u001b[1;33m.\u001b[0m\u001b[0mrandom\u001b[0m\u001b[1;33m(\u001b[0m\u001b[1;33m)\u001b[0m\u001b[1;33m\u001b[0m\u001b[1;33m\u001b[0m\u001b[0m\n",
       "\u001b[1;31mDocstring:\u001b[0m random() -> x in the interval [0, 1).\n",
       "\u001b[1;31mType:\u001b[0m      builtin_function_or_method"
      ]
     },
     "metadata": {},
     "output_type": "display_data"
    }
   ],
   "source": [
    "random.random?"
   ]
  },
  {
   "cell_type": "code",
   "execution_count": 18,
   "id": "5cc355ac-f937-4650-8276-2986940876c2",
   "metadata": {},
   "outputs": [],
   "source": [
    "def get_action(Q_val, num_actions, epsilon):\n",
    "    if (random.random() < epsilon):\n",
    "        action = np.random.randint(0, 4)\n",
    "    else:\n",
    "        action = np.argmax(Q_val, 1)[0]\n",
    "    return action\n",
    "    "
   ]
  },
  {
   "cell_type": "code",
   "execution_count": 19,
   "id": "c688b7b8-9547-4931-aa97-d761245f71cd",
   "metadata": {},
   "outputs": [
    {
     "data": {
      "text/plain": [
       "3"
      ]
     },
     "execution_count": 19,
     "metadata": {},
     "output_type": "execute_result"
    }
   ],
   "source": [
    "# test get_action\n",
    "epsilon = 1.0\n",
    "\n",
    "state1 = torch.from_numpy(state1).float()\n",
    "Q_val = Agent(state1) # returns a tensor with 4 elements\n",
    "Q_val_numpy = Q_val.detach().numpy()\n",
    "action = get_action(Q_val_numpy, len(actions), epsilon)\n",
    "action    "
   ]
  },
  {
   "cell_type": "code",
   "execution_count": 20,
   "id": "8f5cc463-1904-4e79-9525-eb3bb4fcfd26",
   "metadata": {},
   "outputs": [
    {
     "data": {
      "text/plain": [
       "array([[-0.01387687, -0.06077883,  0.03941692,  0.05066709]],\n",
       "      dtype=float32)"
      ]
     },
     "execution_count": 20,
     "metadata": {},
     "output_type": "execute_result"
    }
   ],
   "source": [
    "Q_val_numpy"
   ]
  },
  {
   "cell_type": "code",
   "execution_count": 21,
   "id": "3a93ccb3-3b96-48a3-800e-a9073829d24a",
   "metadata": {},
   "outputs": [],
   "source": [
    "class target_maker:\n",
    "    def __init__(self, terminal_rewards):\n",
    "        self.terminal_rewards = terminal_rewards  # +10 for reaching target, -10 for falling in hole\n",
    "\n",
    "    def __call__(self, current_reward, gamma, maxQ):\n",
    "        if current_reward not in self.terminal_rewards: #N\n",
    "            Y = current_reward + (gamma * maxQ)\n",
    "        else:\n",
    "            Y = current_reward\n",
    "        Y = torch.Tensor([Y]).detach()\n",
    "        return Y\n",
    "            "
   ]
  },
  {
   "cell_type": "code",
   "execution_count": 23,
   "id": "61cac677-a506-4171-b738-456bee222f09",
   "metadata": {},
   "outputs": [],
   "source": [
    "# training loop\n",
    "gamma = 0.9\n",
    "terminal_rewards = [-10, +10]\n",
    "create_target = target_maker(terminal_rewards)\n",
    "loss_fn = torch.nn.MSELoss()\n",
    "learning_rate = 0.001\n",
    "optimizer = torch.optim.Adam(Agent.parameters(), lr=learning_rate)\n",
    "losses = []\n",
    "\n",
    "for i in range(EPOCHS):\n",
    "    game = Gridworld(Grid_size=GRID_SIZE, mode='static')\n",
    "    state1 = game.state  # state1.shape == (4, 4, 4)\n",
    "    state1 = preprocess_state(state1, (1, INPUT_SHAPE), add_noise=True)\n",
    "    state1 = torch.from_numpy(state1).float()\n",
    "    gate = 1\n",
    "    while gate == 1:\n",
    "        Q_val = Agent(state1) # returns a tensor with 4 elements\n",
    "        Q_val_numpy = Q_val.detach().numpy()\n",
    "        action = get_action(Q_val_numpy, len(actions), epsilon)\n",
    "        state2, reward, done, _ = game.step(action)\n",
    "        state2 = preprocess_state(state2, (1, INPUT_SHAPE), add_noise=True)\n",
    "        state2 = torch.from_numpy(state2).float()\n",
    "        game.render()\n",
    "        with torch.no_grad():\n",
    "            newQ = Agent(state2)\n",
    "        maxQ = torch.max(newQ)\n",
    "        Y = create_target(reward, gamma, maxQ)\n",
    "        X = Q_val.squeeze()[action]  # previously tensor([[value1, value2, etc..]])\n",
    "        loss = loss_fn(X, Y)\n",
    "        optimizer.zero_grad()\n",
    "        loss.backward()\n",
    "        optimizer.step()\n",
    "        state1 = state2\n",
    "        losses.append(loss)\n",
    "        if done == True:\n",
    "            gate = 0\n",
    "    if epsilon > 0.1:\n",
    "        epsilon -= (1/EPOCHS)\n",
    "    game.close()\n",
    "        "
   ]
  },
  {
   "cell_type": "code",
   "execution_count": 24,
   "id": "44e2fba8-450d-4302-a4b4-88c1211a3ab8",
   "metadata": {},
   "outputs": [],
   "source": [
    "for i in range(4):\n",
    "    game = Gridworld(Grid_size=GRID_SIZE, mode='static')\n",
    "    state1 = game.state\n",
    "    state1 = preprocess_state(state1, (1, INPUT_SHAPE), add_noise=True)\n",
    "    state1 = torch.from_numpy(state1).float()\n",
    "    gate = 1\n",
    "    while gate == 1:\n",
    "        Q_val = Agent(state1)\n",
    "        Q_val_numpy = Q_val.detach().numpy()\n",
    "        action = np.argmax(Q_val_numpy, 1)[0]\n",
    "        state2, reward, done, _ = game.step(action)\n",
    "        state2 = preprocess_state(state2, (1, INPUT_SHAPE), add_noise=True)\n",
    "        state2 = torch.from_numpy(state2).float()\n",
    "        game.render()\n",
    "        time.sleep(1)\n",
    "        state1 = state2\n",
    "        if done == True:\n",
    "            gate = 0\n",
    "            game.close()\n",
    "        "
   ]
  },
  {
   "cell_type": "code",
   "execution_count": 22,
   "id": "afb64874-dfa0-4163-9bd6-c753fc9df9ff",
   "metadata": {},
   "outputs": [],
   "source": [
    "from collections import deque"
   ]
  },
  {
   "cell_type": "code",
   "execution_count": 23,
   "id": "a5264b9c-1eda-449f-aa0d-5b9f55c1ba80",
   "metadata": {},
   "outputs": [
    {
     "data": {
      "text/plain": [
       "tensor([[-0.0139, -0.0608,  0.0394,  0.0507]], grad_fn=<AddmmBackward0>)"
      ]
     },
     "execution_count": 23,
     "metadata": {},
     "output_type": "execute_result"
    }
   ],
   "source": [
    "Q_val"
   ]
  },
  {
   "cell_type": "code",
   "execution_count": 24,
   "id": "fdfd1c14-266f-4b1f-bb34-fe45fc8bfe67",
   "metadata": {},
   "outputs": [
    {
     "data": {
      "text/plain": [
       "tensor([[-0.0139, -0.0608,  0.0394,  0.0507]])"
      ]
     },
     "execution_count": 24,
     "metadata": {},
     "output_type": "execute_result"
    }
   ],
   "source": [
    "Q_val.data"
   ]
  },
  {
   "cell_type": "code",
   "execution_count": 25,
   "id": "99136de6-8cc2-4c78-b7e3-9b39d6426ff7",
   "metadata": {},
   "outputs": [],
   "source": [
    "MEMORY_SIZE = 5000\n",
    "BATCH_SIZE = 200\n",
    "\n",
    "replay = deque(maxlen=MEMORY_SIZE)  # replay buffer"
   ]
  },
  {
   "cell_type": "code",
   "execution_count": 26,
   "id": "ec81d188-9705-4848-98ab-3ccd41047943",
   "metadata": {},
   "outputs": [
    {
     "data": {
      "text/plain": [
       "'cuda'"
      ]
     },
     "execution_count": 26,
     "metadata": {},
     "output_type": "execute_result"
    }
   ],
   "source": [
    "device = \"cuda\" if torch.cuda.is_available() else \"cpu\"\n",
    "device"
   ]
  },
  {
   "cell_type": "code",
   "execution_count": 27,
   "id": "dcf4b277-d6c2-4464-9d63-b35ba2112ff4",
   "metadata": {},
   "outputs": [],
   "source": [
    "GPUAgent = Net(INPUT_SHAPE, OUTPUT_SHAPE).to(device)"
   ]
  },
  {
   "cell_type": "code",
   "execution_count": 28,
   "id": "c7ab2b92-bcce-41a3-bb78-bf43b4b9434b",
   "metadata": {},
   "outputs": [
    {
     "data": {
      "text/plain": [
       "Net(\n",
       "  (linear1): Linear(in_features=64, out_features=150, bias=True)\n",
       "  (linear2): Linear(in_features=150, out_features=100, bias=True)\n",
       "  (linear3): Linear(in_features=100, out_features=4, bias=True)\n",
       "  (activation): ReLU()\n",
       ")"
      ]
     },
     "execution_count": 28,
     "metadata": {},
     "output_type": "execute_result"
    }
   ],
   "source": [
    "GPUAgent"
   ]
  },
  {
   "cell_type": "code",
   "execution_count": 32,
   "id": "6f17c4fe-76b7-48ae-b905-3b75405fe76e",
   "metadata": {},
   "outputs": [
    {
     "name": "stdout",
     "output_type": "stream",
     "text": [
      "Requirement already satisfied: tqdm in c:\\users\\leslietetteh\\.conda\\envs\\reinforcement_learning\\lib\\site-packages (4.66.4)\n",
      "Requirement already satisfied: colorama in c:\\users\\leslietetteh\\.conda\\envs\\reinforcement_learning\\lib\\site-packages (from tqdm) (0.4.6)\n"
     ]
    }
   ],
   "source": [
    "!pip install tqdm"
   ]
  },
  {
   "cell_type": "code",
   "execution_count": 29,
   "id": "c9b7cfb4-9c13-48e4-8f1e-d73a66670ed3",
   "metadata": {},
   "outputs": [],
   "source": [
    "from tqdm.auto import tqdm"
   ]
  },
  {
   "cell_type": "code",
   "execution_count": 30,
   "id": "4f4b10ec-f8bd-4309-bde0-e7e2d0fbce1c",
   "metadata": {},
   "outputs": [],
   "source": [
    "def get_batch(replay, batch_size, device=\"cpu\"):\n",
    "    minibatch = random.sample(replay, batch_size)\n",
    "    state1_batch = torch.cat([s1 for (s1, a, r, s2, d) in minibatch]).to(device)\n",
    "    action_batch = torch.Tensor([a for (s1, a, r, s2, d) in minibatch]).long().to(device)\n",
    "    reward_batch = torch.Tensor([r for (s1, a, r, s2, d) in minibatch]).to(device)\n",
    "    state2_batch = torch.cat([s2 for (s1, a, r, s2, d) in minibatch]).to(device)\n",
    "    done_batch = torch.Tensor([d for (s1, a, r, s2, d) in minibatch]).to(device)\n",
    "    return state1_batch, action_batch, reward_batch, state2_batch, done_batch\n",
    "    "
   ]
  },
  {
   "cell_type": "code",
   "execution_count": 31,
   "id": "26e4004d-8fa3-4460-847f-3b389b022743",
   "metadata": {},
   "outputs": [],
   "source": [
    "def batch_target(reward_batch, gamma, maxQ, done_batch):\n",
    "    Y = reward_batch + (gamma * maxQ * (1 - done_batch))\n",
    "    return Y"
   ]
  },
  {
   "cell_type": "code",
   "execution_count": 32,
   "id": "35b20153-d690-429c-99b2-5d26861090e4",
   "metadata": {},
   "outputs": [],
   "source": [
    "def reward_metric(all_rewards_list, last_n_rewards = 20):\n",
    "    print(len(all_rewards_list))\n",
    "    if len(all_rewards_list) >= last_n_rewards:\n",
    "        mean_reward = np.mean(all_rewards_list[-last_n_rewards:])\n",
    "    else:\n",
    "        mean_reward = 0\n",
    "    return mean_reward"
   ]
  },
  {
   "cell_type": "code",
   "execution_count": 33,
   "id": "15447330-f995-4845-bb29-8f4a5a26b266",
   "metadata": {},
   "outputs": [],
   "source": [
    "def update(loss, optimizer):\n",
    "    optimizer.zero_grad()\n",
    "    loss.backward()\n",
    "    optimizer.step()"
   ]
  },
  {
   "cell_type": "code",
   "execution_count": 34,
   "id": "4814fcc2-5122-42b1-b40a-cdde15234264",
   "metadata": {},
   "outputs": [],
   "source": [
    "from IPython.display import clear_output"
   ]
  },
  {
   "cell_type": "code",
   "execution_count": 35,
   "id": "4e55557c-3ed8-4e34-9ba0-5d19e6d098ed",
   "metadata": {},
   "outputs": [],
   "source": [
    "loss_fn = torch.nn.MSELoss().to(device)\n",
    "optimizer = torch.optim.Adam(GPUAgent.parameters(), lr=0.001)"
   ]
  },
  {
   "cell_type": "code",
   "execution_count": 45,
   "id": "f153c1e5-9cec-43e3-8500-0395b9def190",
   "metadata": {},
   "outputs": [
    {
     "name": "stdout",
     "output_type": "stream",
     "text": [
      "2999 0.15237745642662048\n"
     ]
    }
   ],
   "source": [
    "epsilon = 1.0\n",
    "\n",
    "for i in tqdm(range(EPOCHS)):\n",
    "    game = Gridworld(Grid_size=4, mode='random', frame_size=(800,800,3))\n",
    "    game.reset()\n",
    "    state1 = game.state\n",
    "    state1 = preprocess_state(state1, (1, INPUT_SHAPE), add_noise=True)\n",
    "    state1 = torch.from_numpy(state1).float().to(device)\n",
    "    status = 1\n",
    "    while status == 1:\n",
    "        qval = GPUAgent(state1)\n",
    "        qval_numpy = qval.data.detach().cpu().numpy()\n",
    "        action = get_action(qval_numpy, len(actions), epsilon)\n",
    "        state2, reward, done, _ = game.step(action)\n",
    "        state2 = preprocess_state(state2, (1, INPUT_SHAPE), add_noise=True)\n",
    "        state2 = torch.from_numpy(state2).float().to(device)\n",
    "\n",
    "        exp = (state1, action, reward, state2, done)\n",
    "        replay.append(exp)\n",
    "\n",
    "        if len(replay) > BATCH_SIZE:\n",
    "            state1_batch, action_batch, reward_batch, state2_batch, done_batch = get_batch(replay, BATCH_SIZE, device)\n",
    "            Q1 = GPUAgent(state1_batch)\n",
    "\n",
    "            with torch.no_grad():\n",
    "                Q2 = GPUAgent(state2_batch)\n",
    "            maxQ = torch.max(Q2, axis = 1)[0].to(device)  # returns maxQ tensor\n",
    "\n",
    "            Y = batch_target(reward_batch, gamma, maxQ, done_batch).to(device)\n",
    "\n",
    "            X = Q1.gather(dim=1, index=action_batch.unsqueeze(dim=1)).squeeze().to(device)\n",
    "            loss = loss_fn(X, Y)\n",
    "            print(i, loss.item())\n",
    "            clear_output(wait=True)\n",
    "\n",
    "            losses.append(loss.item())\n",
    "            update(loss, optimizer)\n",
    "        \n",
    "        state1 = state2.to(device)\n",
    "        if done == True:\n",
    "            status = 0\n",
    "\n",
    "    if epsilon > 0.1:\n",
    "        epsilon -= (1/EPOCHS)"
   ]
  },
  {
   "cell_type": "code",
   "execution_count": 46,
   "id": "2b9f9b82-b6fa-46bb-809e-5ec229a3a4ce",
   "metadata": {},
   "outputs": [],
   "source": [
    "for i in range(20):\n",
    "    game = Gridworld(Grid_size=GRID_SIZE, mode='random')\n",
    "    state1 = game.state\n",
    "    state1 = preprocess_state(state1, (1, INPUT_SHAPE), add_noise=True)\n",
    "    state1 = torch.from_numpy(state1).float().to(device)\n",
    "    gate = 1\n",
    "    while gate == 1:\n",
    "        Q_val = GPUAgent(state1)\n",
    "        Q_val_numpy = Q_val.detach().cpu().numpy()\n",
    "        action = np.argmax(Q_val_numpy, 1)[0]\n",
    "        state2, reward, done, _ = game.step(action)\n",
    "        state2 = preprocess_state(state2, (1, INPUT_SHAPE), add_noise=True)\n",
    "        state2 = torch.from_numpy(state2).float().to(device)\n",
    "        state1 = state2\n",
    "        game.render()\n",
    "        time.sleep(1)\n",
    "        state1 = state2\n",
    "        if done == True:\n",
    "            gate = 0\n",
    "            game.close()\n",
    "        "
   ]
  },
  {
   "cell_type": "code",
   "execution_count": 63,
   "id": "16674a47-fb5b-455c-8146-b1241d0ca42b",
   "metadata": {},
   "outputs": [],
   "source": [
    "GPUAgent = Net(INPUT_SHAPE, OUTPUT_SHAPE).to(device)\n",
    "\n",
    "loss_fn = torch.nn.MSELoss().to(device)\n",
    "optimizer = torch.optim.Adam(GPUAgent.parameters(), lr=learning_rate)"
   ]
  },
  {
   "cell_type": "code",
   "execution_count": 67,
   "id": "017eeac0-44ab-428d-8ce8-d59d64b977ea",
   "metadata": {},
   "outputs": [
    {
     "ename": "KeyboardInterrupt",
     "evalue": "",
     "output_type": "error",
     "traceback": [
      "\u001b[1;31m---------------------------------------------------------------------------\u001b[0m",
      "\u001b[1;31mKeyboardInterrupt\u001b[0m                         Traceback (most recent call last)",
      "Cell \u001b[1;32mIn[67], line 18\u001b[0m\n\u001b[0;32m     16\u001b[0m qval_numpy \u001b[38;5;241m=\u001b[39m qval\u001b[38;5;241m.\u001b[39mdata\u001b[38;5;241m.\u001b[39mdetach()\u001b[38;5;241m.\u001b[39mcpu()\u001b[38;5;241m.\u001b[39mnumpy()\n\u001b[0;32m     17\u001b[0m action \u001b[38;5;241m=\u001b[39m get_action(qval_numpy, \u001b[38;5;28mlen\u001b[39m(actions), epsilon)\n\u001b[1;32m---> 18\u001b[0m state2, reward, done, _ \u001b[38;5;241m=\u001b[39m \u001b[43mgame\u001b[49m\u001b[38;5;241;43m.\u001b[39;49m\u001b[43mstep\u001b[49m\u001b[43m(\u001b[49m\u001b[43maction\u001b[49m\u001b[43m)\u001b[49m\n\u001b[0;32m     19\u001b[0m state2 \u001b[38;5;241m=\u001b[39m preprocess_state(state2, (\u001b[38;5;241m1\u001b[39m, INPUT_SHAPE), add_noise\u001b[38;5;241m=\u001b[39m\u001b[38;5;28;01mTrue\u001b[39;00m)\n\u001b[0;32m     20\u001b[0m state2 \u001b[38;5;241m=\u001b[39m torch\u001b[38;5;241m.\u001b[39mfrom_numpy(state2)\u001b[38;5;241m.\u001b[39mfloat()\u001b[38;5;241m.\u001b[39mto(device)\n",
      "File \u001b[1;32m~\\Downloads\\RL\\RL\\Gridworld_Game.py:156\u001b[0m, in \u001b[0;36mGridworld.step\u001b[1;34m(self, action)\u001b[0m\n\u001b[0;32m    153\u001b[0m             done \u001b[38;5;241m=\u001b[39m \u001b[38;5;28;01mFalse\u001b[39;00m\n\u001b[0;32m    155\u001b[0m \u001b[38;5;28;01mif\u001b[39;00m you_can_draw \u001b[38;5;241m==\u001b[39m \u001b[38;5;124m'\u001b[39m\u001b[38;5;124mOK\u001b[39m\u001b[38;5;124m'\u001b[39m:\n\u001b[1;32m--> 156\u001b[0m     \u001b[38;5;28mself\u001b[39m\u001b[38;5;241m.\u001b[39mcanvas, \u001b[38;5;28mself\u001b[39m\u001b[38;5;241m.\u001b[39mcell_size \u001b[38;5;241m=\u001b[39m \u001b[43mcreate_canvas\u001b[49m\u001b[43m(\u001b[49m\u001b[38;5;28;43mself\u001b[39;49m\u001b[38;5;241;43m.\u001b[39;49m\u001b[43mframe_size\u001b[49m\u001b[43m \u001b[49m\u001b[43m,\u001b[49m\u001b[38;5;28;43mself\u001b[39;49m\u001b[38;5;241;43m.\u001b[39;49m\u001b[43mGrid_size\u001b[49m\u001b[43m)\u001b[49m \n\u001b[0;32m    157\u001b[0m     \u001b[38;5;28;01mif\u001b[39;00m reward \u001b[38;5;241m==\u001b[39m \u001b[38;5;241m+\u001b[39m\u001b[38;5;241m10\u001b[39m:               \n\u001b[0;32m    158\u001b[0m         \u001b[38;5;28;01mfor\u001b[39;00m i ,loc \u001b[38;5;129;01min\u001b[39;00m \u001b[38;5;28menumerate\u001b[39m(\u001b[38;5;28mself\u001b[39m\u001b[38;5;241m.\u001b[39mlocations):\n",
      "File \u001b[1;32m~\\Downloads\\RL\\RL\\Gridworld_Game.py:35\u001b[0m, in \u001b[0;36mcreate_canvas\u001b[1;34m(frame_size, Grid_size)\u001b[0m\n\u001b[0;32m     34\u001b[0m \u001b[38;5;28;01mdef\u001b[39;00m \u001b[38;5;21mcreate_canvas\u001b[39m(frame_size:\u001b[38;5;28mtuple\u001b[39m,Grid_size:\u001b[38;5;28mint\u001b[39m):\n\u001b[1;32m---> 35\u001b[0m     canvas \u001b[38;5;241m=\u001b[39m \u001b[43mnp\u001b[49m\u001b[38;5;241;43m.\u001b[39;49m\u001b[43mones\u001b[49m\u001b[43m(\u001b[49m\u001b[43mframe_size\u001b[49m\u001b[43m)\u001b[49m\u001b[38;5;241;43m.\u001b[39;49m\u001b[43mastype\u001b[49m\u001b[43m(\u001b[49m\u001b[43mnp\u001b[49m\u001b[38;5;241;43m.\u001b[39;49m\u001b[43muint8\u001b[49m\u001b[43m)\u001b[49m \u001b[38;5;241m*\u001b[39m \u001b[38;5;241m255\u001b[39m\n\u001b[0;32m     36\u001b[0m     cell \u001b[38;5;241m=\u001b[39m \u001b[38;5;28mint\u001b[39m(canvas\u001b[38;5;241m.\u001b[39mshape[\u001b[38;5;241m0\u001b[39m] \u001b[38;5;241m/\u001b[39m\u001b[38;5;241m/\u001b[39m Grid_size)\n\u001b[0;32m     37\u001b[0m     \u001b[38;5;28;01mfor\u001b[39;00m i \u001b[38;5;129;01min\u001b[39;00m \u001b[38;5;28mrange\u001b[39m(Grid_size):\n",
      "\u001b[1;31mKeyboardInterrupt\u001b[0m: "
     ]
    }
   ],
   "source": [
    "epsilon = 1.0\n",
    "EPOCHS = 1000\n",
    "\n",
    "all_rewards_list = []\n",
    "mean_rewards = []\n",
    "\n",
    "for i in tqdm(range(EPOCHS)):\n",
    "    game = Gridworld(Grid_size=4, mode='random', frame_size=(800,800,3))\n",
    "    game.reset()\n",
    "    state1 = game.state\n",
    "    state1 = preprocess_state(state1, (1, INPUT_SHAPE), add_noise=True)\n",
    "    state1 = torch.from_numpy(state1).float().to(device)\n",
    "    status = 1\n",
    "    while status == 1:\n",
    "        qval = GPUAgent(state1)\n",
    "        qval_numpy = qval.data.detach().cpu().numpy()\n",
    "        action = get_action(qval_numpy, len(actions), epsilon)\n",
    "        state2, reward, done, _ = game.step(action)\n",
    "        state2 = preprocess_state(state2, (1, INPUT_SHAPE), add_noise=True)\n",
    "        state2 = torch.from_numpy(state2).float().to(device)\n",
    "\n",
    "        exp = (state1, action, reward, state2, done)\n",
    "        replay.append(exp)\n",
    "\n",
    "        if len(replay) > BATCH_SIZE:\n",
    "            state1_batch, action_batch, reward_batch, state2_batch, done_batch = get_batch(replay, BATCH_SIZE, device)\n",
    "            Q1 = GPUAgent(state1_batch)\n",
    "\n",
    "            with torch.no_grad():\n",
    "                Q2 = GPUAgent(state2_batch)\n",
    "            maxQ = torch.max(Q2, axis = 1)[0].to(device)  # returns maxQ tensor\n",
    "\n",
    "            Y = batch_target(reward_batch, gamma, maxQ, done_batch).to(device)\n",
    "\n",
    "            X = Q1.gather(dim=1, index=action_batch.unsqueeze(dim=1)).squeeze().to(device)\n",
    "            loss = loss_fn(X, Y)\n",
    "            print(i, loss.item())\n",
    "\n",
    "            losses.append(loss.item())\n",
    "            update(loss, optimizer)\n",
    "\n",
    "            all_rewards_list.append(reward)\n",
    "            mean_reward = reward_metric(all_rewards_list, 100)\n",
    "            mean_rewards.append(mean_reward)\n",
    "\n",
    "            print(reward, mean_reward)\n",
    "            clear_output(wait=True)\n",
    "        \n",
    "        state1 = state2.to(device)\n",
    "        if done == True:\n",
    "            status = 0\n",
    "\n",
    "    if epsilon > 0.1:\n",
    "        epsilon -= (1/EPOCHS)"
   ]
  },
  {
   "cell_type": "code",
   "execution_count": 66,
   "id": "9e2e0069-844a-4564-b14a-982eb7902b8a",
   "metadata": {},
   "outputs": [
    {
     "data": {
      "text/plain": [
       "Text(0, 0.5, 'rewards')"
      ]
     },
     "execution_count": 66,
     "metadata": {},
     "output_type": "execute_result"
    },
    {
     "data": {
      "image/png": "[encoded data removed]",
      "text/plain": [
       "<Figure size 1000x700 with 1 Axes>"
      ]
     },
     "metadata": {},
     "output_type": "display_data"
    }
   ],
   "source": [
    "plt.figure(figsize=(10,7))\n",
    "plt.plot(mean_rewards)\n",
    "plt.xlabel(\"steps\", fontsize=22)\n",
    "plt.ylabel(\"rewards\", fontsize=22)"
   ]
  },
  {
   "cell_type": "code",
   "execution_count": 36,
   "id": "d719cbf5-b267-4ba9-ae0d-0fba45b34021",
   "metadata": {},
   "outputs": [],
   "source": [
    "import matplotlib.pyplot as plt"
   ]
  },
  {
   "cell_type": "code",
   "execution_count": null,
   "id": "7b3248f8-c245-4807-b7da-8fe545aa7371",
   "metadata": {},
   "outputs": [
    {
     "name": "stdout",
     "output_type": "stream",
     "text": [
      "177451\n",
      "4801 2.387934446334839\n"
     ]
    }
   ],
   "source": [
    "from collections import deque\n",
    "import copy\n",
    "\n",
    "MEMORY_SIZE = 5000\n",
    "BATCH_SIZE = 200\n",
    "EPOCHS = 10000\n",
    "replay = deque(maxlen=MEMORY_SIZE)\n",
    "max_moves = 50\n",
    "gamma = 0.9\n",
    "learning_rate = 0.001\n",
    "sync_freq = 30\n",
    "k = 0\n",
    "losses = []\n",
    "Agent_NN = Net(INPUT_SHAPE, OUTPUT_SHAPE).to(device)\n",
    "Target_NN = copy.deepcopy(Agent_NN)\n",
    "Target_NN.load_state_dict(Agent_NN.state_dict())\n",
    "\n",
    "optimizer1 = torch.optim.Adam(Agent_NN.parameters(), lr=learning_rate)\n",
    "loss_fn = torch.nn.MSELoss()\n",
    "epsilon = 1.0\n",
    "\n",
    "all_rewards_list = []\n",
    "mean_rewards = []\n",
    "\n",
    "for i in range(EPOCHS):\n",
    "    game = Gridworld(Grid_size=4, mode='random', frame_size=(800, 800, 3))\n",
    "    game.reset()\n",
    "    state1 = game.state\n",
    "    state1 = preprocess_state(state1, (1, INPUT_SHAPE), add_noise=True)\n",
    "    state1 = torch.from_numpy(state1).float().to(device)\n",
    "    status = 1\n",
    "    mov = 0\n",
    "    while status == 1:\n",
    "        k += 1\n",
    "        qval = Agent_NN(state1)\n",
    "        qval_ = qval.data.detach().cpu().numpy()\n",
    "\n",
    "        action = get_action(qval_, 4, epsilon)\n",
    "        state2, reward, done, _ = game.step(action)\n",
    "\n",
    "        state2 = preprocess_state(state2, (1, INPUT_SHAPE), add_noise=True)\n",
    "        state2 = torch.from_numpy(state2).float().to(device)\n",
    "        exp = (state1, action, reward, state2, done)\n",
    "        replay.append(exp)\n",
    "        if len(replay) > BATCH_SIZE:\n",
    "            state1_batch, action_batch, reward_batch, state2_batch, done_batch = get_batch(replay, BATCH_SIZE, device)\n",
    "            Q1 = Agent_NN(state1_batch)\n",
    "            with torch.no_grad():\n",
    "                Q2 = Target_NN(state2_batch)\n",
    "            maxQ = torch.max(Q2, axis=1)[0]\n",
    "            Y = batch_target(reward_batch, gamma, maxQ, done_batch)\n",
    "            X = Q1.gather(dim=1, index=action_batch.unsqueeze(dim=1)).squeeze()\n",
    "            loss = loss_fn(X, Y)\n",
    "            print(i, loss.item())\n",
    "            clear_output(wait=True)\n",
    "            losses.append(loss.item())\n",
    "            update(loss, optimizer)\n",
    "\n",
    "            all_rewards_list.append(reward)\n",
    "            mean_reward = reward_metric(all_rewards_list, 100)\n",
    "            mean_rewards.append(mean_reward)\n",
    "\n",
    "        state1 = state2\n",
    "\n",
    "        if k % sync_freq == 0:\n",
    "            Target_NN.load_state_dict(Agent_NN.state_dict())\n",
    "        \n",
    "        if done == True:\n",
    "            status = 0\n",
    "    if epsilon > 0.1:\n",
    "        epsilon -= (1/EPOCHS)"
   ]
  },
  {
   "cell_type": "code",
   "execution_count": null,
   "id": "343d4741-9364-43bf-84e7-758dbde58ab0",
   "metadata": {},
   "outputs": [],
   "source": []
  }
 ],
 "metadata": {
  "kernelspec": {
   "display_name": "Python 3 (ipykernel)",
   "language": "python",
   "name": "python3"
  },
  "language_info": {
   "codemirror_mode": {
    "name": "ipython",
    "version": 3
   },
   "file_extension": ".py",
   "mimetype": "text/x-python",
   "name": "python",
   "nbconvert_exporter": "python",
   "pygments_lexer": "ipython3",
   "version": "3.8.19"
  }
 },
 "nbformat": 4,
 "nbformat_minor": 5
}
