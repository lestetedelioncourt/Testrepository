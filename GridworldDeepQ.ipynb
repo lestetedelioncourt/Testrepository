{
 "cells": [
  {
   "cell_type": "code",
   "execution_count": 2,
   "id": "b00c3a67-e8f8-41d5-8c4a-7308f11e3e82",
   "metadata": {},
   "outputs": [
    {
     "name": "stderr",
     "output_type": "stream",
     "text": [
      "\n"
     ]
    }
   ],
   "source": [
    "import torch\n",
    "import time\n",
    "import cv2\n",
    "import matplotlib as plt\n",
    "import gym\n",
    "from Gridworld_Game import Gridworld"
   ]
  },
  {
   "cell_type": "code",
   "execution_count": 3,
   "id": "1b3937c6-7807-4fa3-ad5e-a621bd980562",
   "metadata": {},
   "outputs": [],
   "source": [
    "GRID_SIZE = 4\n",
    "env = Gridworld(Grid_size=GRID_SIZE, mode='static')"
   ]
  },
  {
   "cell_type": "code",
   "execution_count": 4,
   "id": "88ee60ff-d938-4f16-ac1f-c3a7a4cd084b",
   "metadata": {},
   "outputs": [
    {
     "data": {
      "text/plain": [
       "Box(0, 1, (4, 4, 4), int32)"
      ]
     },
     "execution_count": 4,
     "metadata": {},
     "output_type": "execute_result"
    }
   ],
   "source": [
    "env.observation_space"
   ]
  },
  {
   "cell_type": "code",
   "execution_count": 5,
   "id": "68b46dfd-234e-487f-9443-33b4b9613ee1",
   "metadata": {},
   "outputs": [
    {
     "data": {
      "text/plain": [
       "Discrete(4)"
      ]
     },
     "execution_count": 5,
     "metadata": {},
     "output_type": "execute_result"
    }
   ],
   "source": [
    "env.actions_space"
   ]
  },
  {
   "cell_type": "code",
   "execution_count": 6,
   "id": "595a1998-649c-4382-a4d7-08c9b1681984",
   "metadata": {},
   "outputs": [
    {
     "data": {
      "text/plain": [
       "3"
      ]
     },
     "execution_count": 6,
     "metadata": {},
     "output_type": "execute_result"
    }
   ],
   "source": [
    "action = env.actions_space.sample()\n",
    "action"
   ]
  },
  {
   "cell_type": "code",
   "execution_count": 7,
   "id": "b5b058b8-bff2-4b8c-ae37-43d20bec39e5",
   "metadata": {},
   "outputs": [],
   "source": [
    "env.reset()\n",
    "env.render(mode='human')\n",
    "time.sleep(10)\n",
    "env.close()"
   ]
  },
  {
   "cell_type": "code",
   "execution_count": 15,
   "id": "29fa47fe-8b17-4ffb-9181-9175373632fe",
   "metadata": {},
   "outputs": [],
   "source": [
    "env.step(action)\n",
    "env.reset()\n",
    "env.render(mode='human')\n",
    "time.sleep(10)\n",
    "env.close()"
   ]
  },
  {
   "cell_type": "code",
   "execution_count": 8,
   "id": "ff8f76f1-0b43-491d-84f1-fa31106caf2a",
   "metadata": {},
   "outputs": [],
   "source": [
    "actions = {'left': 0, 'right': 1, 'up': 2, 'down': 3}"
   ]
  },
  {
   "cell_type": "code",
   "execution_count": 9,
   "id": "3eb54cb6-d8aa-4dac-95ab-2df369bd10b9",
   "metadata": {},
   "outputs": [
    {
     "data": {
      "text/plain": [
       "(array([[[0, 0, 0, 0],\n",
       "         [1, 0, 0, 0],\n",
       "         [0, 0, 0, 0],\n",
       "         [0, 0, 0, 0]],\n",
       " \n",
       "        [[0, 0, 0, 0],\n",
       "         [0, 1, 0, 0],\n",
       "         [0, 0, 0, 0],\n",
       "         [0, 0, 0, 0]],\n",
       " \n",
       "        [[0, 0, 0, 0],\n",
       "         [0, 0, 0, 0],\n",
       "         [0, 0, 0, 0],\n",
       "         [0, 0, 0, 0]],\n",
       " \n",
       "        [[0, 0, 0, 0],\n",
       "         [0, 0, 0, 1],\n",
       "         [0, 0, 0, 0],\n",
       "         [0, 0, 1, 0]]]),\n",
       " -1,\n",
       " False,\n",
       " {'items': {'Agent': 0, 'Hole': 1, 'Wall': 2, 'Goal': 3},\n",
       "  'Grid_size': 4,\n",
       "  'actions': ['Left', 'Right', 'Up', 'Down']})"
      ]
     },
     "execution_count": 9,
     "metadata": {},
     "output_type": "execute_result"
    }
   ],
   "source": [
    "env.step(actions['right'])"
   ]
  },
  {
   "cell_type": "code",
   "execution_count": 10,
   "id": "14a43cda-6318-4d4c-ab01-0bdedb8145f0",
   "metadata": {},
   "outputs": [],
   "source": [
    "class Net(torch.nn.Module):\n",
    "    def __init__(self, input_shape, output_shape):\n",
    "        super(Net, self).__init__()\n",
    "        self.linear1 = torch.nn.Linear(input_shape, 150)\n",
    "        self.linear2 = torch.nn.Linear(150, 100)\n",
    "        self.linear3 = torch.nn.Linear(100, output_shape)\n",
    "        self.activation = torch.nn.ReLU()\n",
    "\n",
    "    def forward(self, x):\n",
    "        x = self.linear1(x)\n",
    "        x = self.activation(x)\n",
    "        x = self.linear2(x)\n",
    "        x = self.activation(x)\n",
    "        x = self.linear3(x)\n",
    "        return x"
   ]
  },
  {
   "cell_type": "code",
   "execution_count": 11,
   "id": "58a9eade-6ccf-4a31-b7b8-5508f4ba6632",
   "metadata": {},
   "outputs": [
    {
     "data": {
      "text/plain": [
       "64"
      ]
     },
     "execution_count": 11,
     "metadata": {},
     "output_type": "execute_result"
    }
   ],
   "source": [
    "EPOCHS = 3000\n",
    "NUM_OBJECTS = 4\n",
    "INPUT_SHAPE = GRID_SIZE**2 * NUM_OBJECTS\n",
    "OUTPUT_SHAPE = len(actions)\n",
    "INPUT_SHAPE"
   ]
  },
  {
   "cell_type": "code",
   "execution_count": 12,
   "id": "6c98a0bb-7fb6-4847-ad60-2895c076ac47",
   "metadata": {},
   "outputs": [
    {
     "data": {
      "text/plain": [
       "Net(\n",
       "  (linear1): Linear(in_features=64, out_features=150, bias=True)\n",
       "  (linear2): Linear(in_features=150, out_features=100, bias=True)\n",
       "  (linear3): Linear(in_features=100, out_features=4, bias=True)\n",
       "  (activation): ReLU()\n",
       ")"
      ]
     },
     "execution_count": 12,
     "metadata": {},
     "output_type": "execute_result"
    }
   ],
   "source": [
    "Agent = Net(INPUT_SHAPE, OUTPUT_SHAPE)\n",
    "Agent"
   ]
  },
  {
   "cell_type": "code",
   "execution_count": 13,
   "id": "0a4d0cd3-d82d-4b5a-9666-c9987f2b7d98",
   "metadata": {},
   "outputs": [],
   "source": [
    "import numpy as np"
   ]
  },
  {
   "cell_type": "code",
   "execution_count": 14,
   "id": "2751a233-3327-4e56-9746-9b773a865452",
   "metadata": {},
   "outputs": [],
   "source": [
    "def preprocess_state(state, input_shape, add_noise=False):\n",
    "    # best practice to add noise to the state to avoid overfitting, input_shape is a tuple here\n",
    "    if add_noise == True:\n",
    "        state = state.reshape(*input_shape) + np.random.rand(*input_shape)/10.0\n",
    "    else:\n",
    "        state = state.reshape(*input_shape)\n",
    "    return state\n",
    "        "
   ]
  },
  {
   "cell_type": "code",
   "execution_count": 15,
   "id": "f49824ac-b421-4536-b05d-68594b3933df",
   "metadata": {},
   "outputs": [
    {
     "data": {
      "text/plain": [
       "array([[1.06286076e+00, 3.06814298e-02, 3.65200698e-02, 1.90195303e-02,\n",
       "        8.01395299e-02, 9.58418444e-02, 7.91724821e-02, 3.47847091e-02,\n",
       "        2.57894607e-02, 4.36832826e-02, 3.33497434e-02, 9.59607619e-02,\n",
       "        4.65884789e-03, 8.43493152e-02, 4.27849577e-02, 7.95197097e-02,\n",
       "        3.85309131e-02, 6.83272674e-02, 3.16111914e-02, 3.33479278e-02,\n",
       "        9.88726486e-02, 1.04285153e+00, 1.07561840e-02, 7.79797525e-02,\n",
       "        7.45414592e-02, 1.18979367e-02, 9.38537281e-02, 5.14081294e-02,\n",
       "        6.51876622e-02, 4.00064835e-02, 7.28824133e-02, 6.58854834e-02,\n",
       "        5.80070083e-02, 7.86681620e-03, 8.01854791e-02, 6.47496649e-03,\n",
       "        9.05098139e-02, 3.11012067e-03, 3.35210421e-02, 8.98892306e-02,\n",
       "        2.29426731e-02, 5.66499795e-02, 5.95050802e-02, 4.59664178e-02,\n",
       "        7.63124728e-02, 1.04307271e-04, 4.04869756e-02, 5.34131024e-02,\n",
       "        4.31086447e-02, 9.22122908e-03, 6.72308911e-03, 1.65777781e-02,\n",
       "        9.50821603e-02, 3.91474461e-02, 6.53184880e-03, 1.05694434e+00,\n",
       "        3.70437363e-02, 8.25503675e-02, 9.27409726e-02, 9.56465715e-02,\n",
       "        8.74369703e-02, 1.06220352e-02, 1.06449174e+00, 5.47169567e-02]])"
      ]
     },
     "execution_count": 15,
     "metadata": {},
     "output_type": "execute_result"
    }
   ],
   "source": [
    "game = Gridworld(Grid_size=GRID_SIZE, mode='static')\n",
    "state1 = game.state\n",
    "state1 = preprocess_state(state1, (1, INPUT_SHAPE), add_noise=True)\n",
    "state1"
   ]
  },
  {
   "cell_type": "code",
   "execution_count": 16,
   "id": "4d0d1077-5573-48a0-b3bb-67ebcf792145",
   "metadata": {},
   "outputs": [
    {
     "data": {
      "text/plain": [
       "\u001b[1;31mDocstring:\u001b[0m\n",
       "Returns a new Tensor, detached from the current graph.\n",
       "\n",
       "The result will never require gradient.\n",
       "\n",
       "This method also affects forward mode AD gradients and the result will never\n",
       "have forward mode AD gradients.\n",
       "\n",
       ".. note::\n",
       "\n",
       "  Returned Tensor shares the same storage with the original one.\n",
       "  In-place modifications on either of them will be seen, and may trigger\n",
       "  errors in correctness checks.\n",
       "  IMPORTANT NOTE: Previously, in-place size / stride / storage changes\n",
       "  (such as `resize_` / `resize_as_` / `set_` / `transpose_`) to the returned tensor\n",
       "  also update the original tensor. Now, these in-place changes will not update the\n",
       "  original tensor anymore, and will instead trigger an error.\n",
       "  For sparse tensors:\n",
       "  In-place indices / values changes (such as `zero_` / `copy_` / `add_`) to the\n",
       "  returned tensor will not update the original tensor anymore, and will instead\n",
       "  trigger an error.\n",
       "\u001b[1;31mType:\u001b[0m      builtin_function_or_method"
      ]
     },
     "metadata": {},
     "output_type": "display_data"
    }
   ],
   "source": [
    "x = torch.Tensor([2.0])\n",
    "x.detach?"
   ]
  },
  {
   "cell_type": "code",
   "execution_count": 17,
   "id": "49fc7af1-7da5-4858-a25e-5056a97ef836",
   "metadata": {},
   "outputs": [],
   "source": [
    "import random"
   ]
  },
  {
   "cell_type": "code",
   "execution_count": 18,
   "id": "14a19e61-fcb4-48cb-800c-c369f288478a",
   "metadata": {},
   "outputs": [
    {
     "data": {
      "text/plain": [
       "\u001b[1;31mSignature:\u001b[0m \u001b[0mrandom\u001b[0m\u001b[1;33m.\u001b[0m\u001b[0mrandom\u001b[0m\u001b[1;33m(\u001b[0m\u001b[1;33m)\u001b[0m\u001b[1;33m\u001b[0m\u001b[1;33m\u001b[0m\u001b[0m\n",
       "\u001b[1;31mDocstring:\u001b[0m random() -> x in the interval [0, 1).\n",
       "\u001b[1;31mType:\u001b[0m      builtin_function_or_method"
      ]
     },
     "metadata": {},
     "output_type": "display_data"
    }
   ],
   "source": [
    "random.random?"
   ]
  },
  {
   "cell_type": "code",
   "execution_count": 19,
   "id": "5cc355ac-f937-4650-8276-2986940876c2",
   "metadata": {},
   "outputs": [],
   "source": [
    "def get_action(Q_val, num_actions, epsilon):\n",
    "    if (random.random() < epsilon):\n",
    "        action = np.random.randint(0, 4)\n",
    "    else:\n",
    "        action = np.argmax(Q_val, 1)[0]\n",
    "    return action\n",
    "    "
   ]
  },
  {
   "cell_type": "code",
   "execution_count": 20,
   "id": "c688b7b8-9547-4931-aa97-d761245f71cd",
   "metadata": {},
   "outputs": [
    {
     "data": {
      "text/plain": [
       "1"
      ]
     },
     "execution_count": 20,
     "metadata": {},
     "output_type": "execute_result"
    }
   ],
   "source": [
    "# test get_action\n",
    "epsilon = 1.0\n",
    "\n",
    "state1 = torch.from_numpy(state1).float()\n",
    "Q_val = Agent(state1) # returns a tensor with 4 elements\n",
    "Q_val_numpy = Q_val.detach().numpy()\n",
    "action = get_action(Q_val_numpy, len(actions), epsilon)\n",
    "action    "
   ]
  },
  {
   "cell_type": "code",
   "execution_count": 21,
   "id": "8f5cc463-1904-4e79-9525-eb3bb4fcfd26",
   "metadata": {},
   "outputs": [
    {
     "data": {
      "text/plain": [
       "array([[ 0.0313306 , -0.09189114,  0.01961648, -0.00459179]],\n",
       "      dtype=float32)"
      ]
     },
     "execution_count": 21,
     "metadata": {},
     "output_type": "execute_result"
    }
   ],
   "source": [
    "Q_val_numpy"
   ]
  },
  {
   "cell_type": "code",
   "execution_count": 22,
   "id": "3a93ccb3-3b96-48a3-800e-a9073829d24a",
   "metadata": {},
   "outputs": [],
   "source": [
    "class target_maker:\n",
    "    def __init__(self, terminal_rewards):\n",
    "        self.terminal_rewards = terminal_rewards  # +10 for reaching target, -10 for falling in hole\n",
    "\n",
    "    def __call__(self, current_reward, gamma, maxQ):\n",
    "        if current_reward not in self.terminal_rewards: #N\n",
    "            Y = current_reward + (gamma * maxQ)\n",
    "        else:\n",
    "            Y = current_reward\n",
    "        Y = torch.Tensor([Y]).detach()\n",
    "        return Y\n",
    "            "
   ]
  },
  {
   "cell_type": "code",
   "execution_count": 24,
   "id": "61cac677-a506-4171-b738-456bee222f09",
   "metadata": {},
   "outputs": [],
   "source": [
    "# training loop\n",
    "gamma = 0.9\n",
    "terminal_rewards = [-10, +10]\n",
    "create_target = target_maker(terminal_rewards)\n",
    "loss_fn = torch.nn.MSELoss()\n",
    "learning_rate = 0.001\n",
    "optimizer = torch.optim.Adam(Agent.parameters(), lr=learning_rate)\n",
    "losses = []\n",
    "\n",
    "for i in range(EPOCHS):\n",
    "    game = Gridworld(Grid_size=GRID_SIZE, mode='static')\n",
    "    state1 = game.state  # state1.shape == (4, 4, 4)\n",
    "    state1 = preprocess_state(state1, (1, INPUT_SHAPE), add_noise=True)\n",
    "    state1 = torch.from_numpy(state1).float()\n",
    "    gate = 1\n",
    "    while gate == 1:\n",
    "        Q_val = Agent(state1) # returns a tensor with 4 elements\n",
    "        Q_val_numpy = Q_val.detach().numpy()\n",
    "        action = get_action(Q_val_numpy, len(actions), epsilon)\n",
    "        state2, reward, done, _ = game.step(action)\n",
    "        state2 = preprocess_state(state2, (1, INPUT_SHAPE), add_noise=True)\n",
    "        state2 = torch.from_numpy(state2).float()\n",
    "        game.render()\n",
    "        with torch.no_grad():\n",
    "            newQ = Agent(state2)\n",
    "        maxQ = torch.max(newQ)\n",
    "        Y = create_target(reward, gamma, maxQ)\n",
    "        X = Q_val.squeeze()[action]  # previously tensor([[value1, value2, etc..]])\n",
    "        loss = loss_fn(X, Y)\n",
    "        optimizer.zero_grad()\n",
    "        loss.backward()\n",
    "        optimizer.step()\n",
    "        state1 = state2\n",
    "        losses.append(loss)\n",
    "        if done == True:\n",
    "            gate = 0\n",
    "    if epsilon > 0.1:\n",
    "        epsilon -= (1/EPOCHS)\n",
    "    game.close()\n",
    "        "
   ]
  },
  {
   "cell_type": "code",
   "execution_count": 25,
   "id": "44e2fba8-450d-4302-a4b4-88c1211a3ab8",
   "metadata": {},
   "outputs": [],
   "source": [
    "for i in range(10):\n",
    "    game = Gridworld(Grid_size=GRID_SIZE, mode='static')\n",
    "    state1 = game.state\n",
    "    state1 = preprocess_state(state1, (1, INPUT_SHAPE), add_noise=True)\n",
    "    state1 = torch.from_numpy(state1).float()\n",
    "    gate = 1\n",
    "    while gate == 1:\n",
    "        Q_val = Agent(state1)\n",
    "        Q_val_numpy = Q_val.detach().numpy()\n",
    "        action = np.argmax(Q_val_numpy, 1)[0]\n",
    "        state2, reward, done, _ = game.step(action)\n",
    "        state2 = preprocess_state(state2, (1, INPUT_SHAPE), add_noise=True)\n",
    "        state2 = torch.from_numpy(state2).float()\n",
    "        game.render()\n",
    "        time.sleep(1)\n",
    "        state1 = state2\n",
    "        if done == True:\n",
    "            gate = 0\n",
    "            game.close()\n",
    "        "
   ]
  },
  {
   "cell_type": "code",
   "execution_count": null,
   "id": "afb64874-dfa0-4163-9bd6-c753fc9df9ff",
   "metadata": {},
   "outputs": [],
   "source": []
  }
 ],
 "metadata": {
  "kernelspec": {
   "display_name": "Python 3 (ipykernel)",
   "language": "python",
   "name": "python3"
  },
  "language_info": {
   "codemirror_mode": {
    "name": "ipython",
    "version": 3
   },
   "file_extension": ".py",
   "mimetype": "text/x-python",
   "name": "python",
   "nbconvert_exporter": "python",
   "pygments_lexer": "ipython3",
   "version": "3.8.19"
  }
 },
 "nbformat": 4,
 "nbformat_minor": 5
}
