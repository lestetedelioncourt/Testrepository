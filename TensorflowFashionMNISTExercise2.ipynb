{
  "nbformat": 4,
  "nbformat_minor": 0,
  "metadata": {
    "colab": {
      "provenance": [],
      "gpuType": "T4"
    },
    "kernelspec": {
      "name": "python3",
      "display_name": "Python 3"
    },
    "language_info": {
      "name": "python"
    },
    "accelerator": "GPU"
  },
  "cells": [
    {
      "cell_type": "code",
      "execution_count": 1,
      "metadata": {
        "id": "xA8bVBu0cOYv"
      },
      "outputs": [],
      "source": [
        "import numpy as np\n",
        "import pandas as pd\n",
        "import tensorflow as tf\n",
        "from tensorflow.keras import Sequential, Input\n",
        "from tensorflow.keras.callbacks import ModelCheckpoint, EarlyStopping, Callback\n",
        "from tensorflow.keras.layers import Dense, Dropout, Flatten, BatchNormalization, Activation\n",
        "from tensorflow.keras.optimizers import Adam\n",
        "from tensorflow.keras.datasets import fashion_mnist\n",
        "from tensorflow.keras.utils import to_categorical, plot_model\n",
        "from tensorflow.keras.models import model_from_json\n",
        "from sklearn.metrics import roc_auc_score"
      ]
    },
    {
      "cell_type": "code",
      "source": [
        "(X_train, y_train), (X_test, y_test) = fashion_mnist.load_data()"
      ],
      "metadata": {
        "colab": {
          "base_uri": "https://localhost:8080/"
        },
        "id": "FnWN6IW0eUeL",
        "outputId": "49362325-2533-4a4e-e1f1-81cc27123f5a"
      },
      "execution_count": 2,
      "outputs": [
        {
          "output_type": "stream",
          "name": "stdout",
          "text": [
            "Downloading data from https://storage.googleapis.com/tensorflow/tf-keras-datasets/train-labels-idx1-ubyte.gz\n",
            "29515/29515 [==============================] - 0s 0us/step\n",
            "Downloading data from https://storage.googleapis.com/tensorflow/tf-keras-datasets/train-images-idx3-ubyte.gz\n",
            "26421880/26421880 [==============================] - 3s 0us/step\n",
            "Downloading data from https://storage.googleapis.com/tensorflow/tf-keras-datasets/t10k-labels-idx1-ubyte.gz\n",
            "5148/5148 [==============================] - 0s 0us/step\n",
            "Downloading data from https://storage.googleapis.com/tensorflow/tf-keras-datasets/t10k-images-idx3-ubyte.gz\n",
            "4422102/4422102 [==============================] - 1s 0us/step\n"
          ]
        }
      ]
    },
    {
      "cell_type": "code",
      "source": [
        "fashion_mnist.load_data"
      ],
      "metadata": {
        "colab": {
          "base_uri": "https://localhost:8080/",
          "height": 587
        },
        "id": "Cx0mbEsqegxO",
        "outputId": "c2b6e8b9-a716-41e8-a5a1-2070fe351070"
      },
      "execution_count": 3,
      "outputs": [
        {
          "output_type": "execute_result",
          "data": {
            "text/plain": [
              "<function keras.src.datasets.fashion_mnist.load_data()>"
            ],
            "text/html": [
              "<div style=\"max-width:800px; border: 1px solid var(--colab-border-color);\"><style>\n",
              "      pre.function-repr-contents {\n",
              "        overflow-x: auto;\n",
              "        padding: 8px 12px;\n",
              "        max-height: 500px;\n",
              "      }\n",
              "\n",
              "      pre.function-repr-contents.function-repr-contents-collapsed {\n",
              "        cursor: pointer;\n",
              "        max-height: 100px;\n",
              "      }\n",
              "    </style>\n",
              "    <pre style=\"white-space: initial; background:\n",
              "         var(--colab-secondary-surface-color); padding: 8px 12px;\n",
              "         border-bottom: 1px solid var(--colab-border-color);\"><b>keras.src.datasets.fashion_mnist.load_data</b><br/>def load_data()</pre><pre class=\"function-repr-contents function-repr-contents-collapsed\" style=\"\"><a class=\"filepath\" style=\"display:none\" href=\"#\">/usr/local/lib/python3.10/dist-packages/keras/src/datasets/fashion_mnist.py</a>Loads the Fashion-MNIST dataset.\n",
              "\n",
              "This is a dataset of 60,000 28x28 grayscale images of 10 fashion categories,\n",
              "along with a test set of 10,000 images. This dataset can be used as\n",
              "a drop-in replacement for MNIST.\n",
              "\n",
              "The classes are:\n",
              "\n",
              "| Label | Description |\n",
              "|:-----:|-------------|\n",
              "|   0   | T-shirt/top |\n",
              "|   1   | Trouser     |\n",
              "|   2   | Pullover    |\n",
              "|   3   | Dress       |\n",
              "|   4   | Coat        |\n",
              "|   5   | Sandal      |\n",
              "|   6   | Shirt       |\n",
              "|   7   | Sneaker     |\n",
              "|   8   | Bag         |\n",
              "|   9   | Ankle boot  |\n",
              "\n",
              "Returns:\n",
              "  Tuple of NumPy arrays: `(x_train, y_train), (x_test, y_test)`.\n",
              "\n",
              "**x_train**: uint8 NumPy array of grayscale image data with shapes\n",
              "  `(60000, 28, 28)`, containing the training data.\n",
              "\n",
              "**y_train**: uint8 NumPy array of labels (integers in range 0-9)\n",
              "  with shape `(60000,)` for the training data.\n",
              "\n",
              "**x_test**: uint8 NumPy array of grayscale image data with shapes\n",
              "  (10000, 28, 28), containing the test data.\n",
              "\n",
              "**y_test**: uint8 NumPy array of labels (integers in range 0-9)\n",
              "  with shape `(10000,)` for the test data.\n",
              "\n",
              "Example:\n",
              "\n",
              "```python\n",
              "(x_train, y_train), (x_test, y_test) = fashion_mnist.load_data()\n",
              "assert x_train.shape == (60000, 28, 28)\n",
              "assert x_test.shape == (10000, 28, 28)\n",
              "assert y_train.shape == (60000,)\n",
              "assert y_test.shape == (10000,)\n",
              "```\n",
              "\n",
              "License:\n",
              "  The copyright for Fashion-MNIST is held by Zalando SE.\n",
              "  Fashion-MNIST is licensed under the [MIT license](\n",
              "  https://github.com/zalandoresearch/fashion-mnist/blob/master/LICENSE).</pre>\n",
              "      <script>\n",
              "      if (google.colab.kernel.accessAllowed && google.colab.files && google.colab.files.view) {\n",
              "        for (const element of document.querySelectorAll('.filepath')) {\n",
              "          element.style.display = 'block'\n",
              "          element.onclick = (event) => {\n",
              "            event.preventDefault();\n",
              "            event.stopPropagation();\n",
              "            google.colab.files.view(element.textContent, 28);\n",
              "          };\n",
              "        }\n",
              "      }\n",
              "      for (const element of document.querySelectorAll('.function-repr-contents')) {\n",
              "        element.onclick = (event) => {\n",
              "          event.preventDefault();\n",
              "          event.stopPropagation();\n",
              "          element.classList.toggle('function-repr-contents-collapsed');\n",
              "        };\n",
              "      }\n",
              "      </script>\n",
              "      </div>"
            ]
          },
          "metadata": {},
          "execution_count": 3
        }
      ]
    },
    {
      "cell_type": "code",
      "source": [
        "X_train_tensor = X_train.astype('float32')/255.0\n",
        "X_test_tensor = X_test.astype('float32')/255.0"
      ],
      "metadata": {
        "id": "XP6ER7IVeklz"
      },
      "execution_count": 4,
      "outputs": []
    },
    {
      "cell_type": "code",
      "source": [
        "X_train_tensor[1:].max()"
      ],
      "metadata": {
        "colab": {
          "base_uri": "https://localhost:8080/"
        },
        "id": "vR7qXOXBmO-1",
        "outputId": "bf4c93b3-75fb-4c0e-8edb-034e5fd0552f"
      },
      "execution_count": 5,
      "outputs": [
        {
          "output_type": "execute_result",
          "data": {
            "text/plain": [
              "1.0"
            ]
          },
          "metadata": {},
          "execution_count": 5
        }
      ]
    },
    {
      "cell_type": "code",
      "source": [
        "y_train_labels = to_categorical(y_train)\n",
        "y_test_labels = to_categorical(y_test)"
      ],
      "metadata": {
        "id": "hqo0Y7bCfEY7"
      },
      "execution_count": 6,
      "outputs": []
    },
    {
      "cell_type": "code",
      "source": [
        "INPUT_SHAPE = (X_train_tensor.shape[1:]+(1,))\n",
        "HIDDEN_UNITS = 128\n",
        "DROPOUT = 0.2\n",
        "NUM_CLASSES = len(np.unique(y_test))\n",
        "BATCH_SIZE = 64"
      ],
      "metadata": {
        "id": "BV1vrcm5fRpy"
      },
      "execution_count": 7,
      "outputs": []
    },
    {
      "cell_type": "code",
      "source": [
        "INPUT_SHAPE"
      ],
      "metadata": {
        "colab": {
          "base_uri": "https://localhost:8080/"
        },
        "id": "m-_mz-uefyzk",
        "outputId": "f6756fe8-2695-4576-f4ad-38235a9e40d8"
      },
      "execution_count": 8,
      "outputs": [
        {
          "output_type": "execute_result",
          "data": {
            "text/plain": [
              "(28, 28, 1)"
            ]
          },
          "metadata": {},
          "execution_count": 8
        }
      ]
    },
    {
      "cell_type": "code",
      "source": [
        "model = Sequential()\n",
        "model.add(Input(shape=INPUT_SHAPE))\n",
        "model.add(Dense(units=HIDDEN_UNITS))\n",
        "model.add(BatchNormalization())\n",
        "model.add(Activation('relu'))\n",
        "model.add(Dropout(DROPOUT))\n",
        "model.add(Dense(units=HIDDEN_UNITS, activation='relu'))\n",
        "model.add(Dropout(DROPOUT))\n",
        "model.add(Flatten())\n",
        "model.add(Dense(units=HIDDEN_UNITS, activation='relu'))\n",
        "model.add(Dense(units=HIDDEN_UNITS, activation='relu'))\n",
        "model.add(Dense(units=NUM_CLASSES, activation='softmax'))"
      ],
      "metadata": {
        "id": "aqB02JmIf0QB"
      },
      "execution_count": 9,
      "outputs": []
    },
    {
      "cell_type": "code",
      "source": [
        "model.summary()"
      ],
      "metadata": {
        "colab": {
          "base_uri": "https://localhost:8080/"
        },
        "id": "D8Evze4IiynP",
        "outputId": "1058ae1b-1478-425d-ce21-e32953a8e0ee"
      },
      "execution_count": 10,
      "outputs": [
        {
          "output_type": "stream",
          "name": "stdout",
          "text": [
            "Model: \"sequential\"\n",
            "_________________________________________________________________\n",
            " Layer (type)                Output Shape              Param #   \n",
            "=================================================================\n",
            " dense (Dense)               (None, 28, 28, 128)       256       \n",
            "                                                                 \n",
            " batch_normalization (Batch  (None, 28, 28, 128)       512       \n",
            " Normalization)                                                  \n",
            "                                                                 \n",
            " activation (Activation)     (None, 28, 28, 128)       0         \n",
            "                                                                 \n",
            " dropout (Dropout)           (None, 28, 28, 128)       0         \n",
            "                                                                 \n",
            " dense_1 (Dense)             (None, 28, 28, 128)       16512     \n",
            "                                                                 \n",
            " dropout_1 (Dropout)         (None, 28, 28, 128)       0         \n",
            "                                                                 \n",
            " flatten (Flatten)           (None, 100352)            0         \n",
            "                                                                 \n",
            " dense_2 (Dense)             (None, 128)               12845184  \n",
            "                                                                 \n",
            " dense_3 (Dense)             (None, 128)               16512     \n",
            "                                                                 \n",
            " dense_4 (Dense)             (None, 10)                1290      \n",
            "                                                                 \n",
            "=================================================================\n",
            "Total params: 12880266 (49.13 MB)\n",
            "Trainable params: 12880010 (49.13 MB)\n",
            "Non-trainable params: 256 (1.00 KB)\n",
            "_________________________________________________________________\n"
          ]
        }
      ]
    },
    {
      "cell_type": "code",
      "source": [
        "np.expand_dims(X_train, -1).shape"
      ],
      "metadata": {
        "colab": {
          "base_uri": "https://localhost:8080/"
        },
        "id": "8C7gAks7jvzv",
        "outputId": "f4afb1b0-51fa-41bb-b58c-714c03ab7767"
      },
      "execution_count": 11,
      "outputs": [
        {
          "output_type": "execute_result",
          "data": {
            "text/plain": [
              "(60000, 28, 28, 1)"
            ]
          },
          "metadata": {},
          "execution_count": 11
        }
      ]
    },
    {
      "cell_type": "code",
      "source": [
        "plot_model(model, show_shapes=True)"
      ],
      "metadata": {
        "colab": {
          "base_uri": "https://localhost:8080/",
          "height": 1000
        },
        "id": "3osqoBQbl8wz",
        "outputId": "3f82a2bc-f72b-4ffb-b2d5-ca336ed66521"
      },
      "execution_count": 12,
      "outputs": [
        {
          "output_type": "execute_result",
          "data": {
            "image/png": "[encoded data removed]",
            "text/plain": [
              "<IPython.core.display.Image object>"
            ]
          },
          "metadata": {},
          "execution_count": 12
        }
      ]
    },
    {
      "cell_type": "code",
      "source": [
        "!mkdir model_output\n",
        "!ls /content/*"
      ],
      "metadata": {
        "colab": {
          "base_uri": "https://localhost:8080/"
        },
        "id": "G0wipSV_mxzL",
        "outputId": "c9f1d13c-356f-4ba0-8027-c3327da00758"
      },
      "execution_count": 13,
      "outputs": [
        {
          "output_type": "stream",
          "name": "stdout",
          "text": [
            "/content/model.png\n",
            "\n",
            "/content/model_output:\n",
            "\n",
            "/content/sample_data:\n",
            "anscombe.json\t\t     california_housing_train.csv  mnist_train_small.csv\n",
            "california_housing_test.csv  mnist_test.csv\t\t   README.md\n"
          ]
        }
      ]
    },
    {
      "cell_type": "code",
      "source": [
        "earlystop = EarlyStopping(monitor='loss', patience=10)"
      ],
      "metadata": {
        "id": "RkBut_k4mbz5"
      },
      "execution_count": 14,
      "outputs": []
    },
    {
      "cell_type": "code",
      "source": [
        "filepath='/content/model_output/' + 'weights-{epoch:02d}-loss-{loss:04f}.h5'\n",
        "checkpoint = ModelCheckpoint(filepath=filepath,\n",
        "                             save_weights_only=True,\n",
        "                             monitor='val_loss',\n",
        "                             mode='min',\n",
        "                             save_best_only=False,\n",
        "                             save_freq='epoch')"
      ],
      "metadata": {
        "id": "nEEmhlP2mv7C"
      },
      "execution_count": 15,
      "outputs": []
    },
    {
      "cell_type": "code",
      "source": [
        "class my_custom_callback(Callback):\n",
        "  def __init__(self, features, target):\n",
        "    self.test_data = (features, target)\n",
        "    self.auc = []\n",
        "\n",
        "  def on_epoch_end(self, epoch, logs=None):\n",
        "    y_pred = self.model.predict(self.test_data[0])\n",
        "    auc = roc_auc_score(self.test_data[1], y_pred)\n",
        "    print(' \\n auc score for val set :', auc, '\\n')\n",
        "    self.auc.append((epoch, auc))\n",
        "    return"
      ],
      "metadata": {
        "id": "sYm9LCvhpMUb"
      },
      "execution_count": 16,
      "outputs": []
    },
    {
      "cell_type": "code",
      "source": [
        "model.compile(optimizer='adam', loss='categorical_crossentropy', metrics=['acc'])"
      ],
      "metadata": {
        "id": "cs87fwo0p06i"
      },
      "execution_count": 17,
      "outputs": []
    },
    {
      "cell_type": "code",
      "source": [
        "mycallback=my_custom_callback(X_test_tensor, y_test_labels)"
      ],
      "metadata": {
        "id": "8eudxeQJp_qH"
      },
      "execution_count": 18,
      "outputs": []
    },
    {
      "cell_type": "code",
      "source": [
        "model.fit(X_train_tensor, y_train_labels, epochs=20, batch_size=BATCH_SIZE, verbose=1,\n",
        "          validation_data=(X_test_tensor, y_test_labels), callbacks=[mycallback, earlystop, checkpoint])"
      ],
      "metadata": {
        "colab": {
          "base_uri": "https://localhost:8080/"
        },
        "id": "vLx53sORqM5a",
        "outputId": "58b759e7-0dd9-43a5-9e9a-8e877497bc34"
      },
      "execution_count": 19,
      "outputs": [
        {
          "output_type": "stream",
          "name": "stdout",
          "text": [
            "Epoch 1/20\n",
            "313/313 [==============================] - 2s 4ms/step\n",
            " \n",
            " auc score for val set : 0.9860876555555557 \n",
            "\n",
            "938/938 [==============================] - 23s 20ms/step - loss: 0.5723 - acc: 0.8144 - val_loss: 0.4375 - val_acc: 0.8415\n",
            "Epoch 2/20\n",
            "313/313 [==============================] - 1s 3ms/step\n",
            " \n",
            " auc score for val set : 0.9873167777777777 \n",
            "\n",
            "938/938 [==============================] - 17s 19ms/step - loss: 0.3794 - acc: 0.8610 - val_loss: 0.4391 - val_acc: 0.8479\n",
            "Epoch 3/20\n",
            "313/313 [==============================] - 1s 3ms/step\n",
            " \n",
            " auc score for val set : 0.9885587999999998 \n",
            "\n",
            "938/938 [==============================] - 17s 18ms/step - loss: 0.3472 - acc: 0.8719 - val_loss: 0.3740 - val_acc: 0.8641\n",
            "Epoch 4/20\n",
            "313/313 [==============================] - 1s 3ms/step\n",
            " \n",
            " auc score for val set : 0.9878548111111112 \n",
            "\n",
            "938/938 [==============================] - 18s 19ms/step - loss: 0.3132 - acc: 0.8836 - val_loss: 0.3918 - val_acc: 0.8586\n",
            "Epoch 5/20\n",
            "313/313 [==============================] - 1s 3ms/step\n",
            " \n",
            " auc score for val set : 0.9874896222222223 \n",
            "\n",
            "938/938 [==============================] - 17s 18ms/step - loss: 0.2922 - acc: 0.8906 - val_loss: 0.4169 - val_acc: 0.8456\n",
            "Epoch 6/20\n",
            "313/313 [==============================] - 1s 4ms/step\n",
            " \n",
            " auc score for val set : 0.9883316777777779 \n",
            "\n",
            "938/938 [==============================] - 19s 20ms/step - loss: 0.2697 - acc: 0.8982 - val_loss: 0.3715 - val_acc: 0.8620\n",
            "Epoch 7/20\n",
            "313/313 [==============================] - 1s 3ms/step\n",
            " \n",
            " auc score for val set : 0.9895621666666667 \n",
            "\n",
            "938/938 [==============================] - 17s 18ms/step - loss: 0.2455 - acc: 0.9065 - val_loss: 0.3603 - val_acc: 0.8750\n",
            "Epoch 8/20\n",
            "313/313 [==============================] - 1s 3ms/step\n",
            " \n",
            " auc score for val set : 0.9893969166666666 \n",
            "\n",
            "938/938 [==============================] - 17s 19ms/step - loss: 0.2282 - acc: 0.9138 - val_loss: 0.3557 - val_acc: 0.8721\n",
            "Epoch 9/20\n",
            "313/313 [==============================] - 1s 3ms/step\n",
            " \n",
            " auc score for val set : 0.9899901555555555 \n",
            "\n",
            "938/938 [==============================] - 17s 18ms/step - loss: 0.2122 - acc: 0.9198 - val_loss: 0.3401 - val_acc: 0.8782\n",
            "Epoch 10/20\n",
            "313/313 [==============================] - 1s 3ms/step\n",
            " \n",
            " auc score for val set : 0.9888930888888889 \n",
            "\n",
            "938/938 [==============================] - 17s 18ms/step - loss: 0.1960 - acc: 0.9256 - val_loss: 0.3654 - val_acc: 0.8694\n",
            "Epoch 11/20\n",
            "313/313 [==============================] - 1s 4ms/step\n",
            " \n",
            " auc score for val set : 0.9893041222222223 \n",
            "\n",
            "938/938 [==============================] - 18s 19ms/step - loss: 0.1815 - acc: 0.9313 - val_loss: 0.3573 - val_acc: 0.8719\n",
            "Epoch 12/20\n",
            "313/313 [==============================] - 1s 3ms/step\n",
            " \n",
            " auc score for val set : 0.9901781 \n",
            "\n",
            "938/938 [==============================] - 18s 19ms/step - loss: 0.1662 - acc: 0.9373 - val_loss: 0.3568 - val_acc: 0.8738\n",
            "Epoch 13/20\n",
            "313/313 [==============================] - 1s 3ms/step\n",
            " \n",
            " auc score for val set : 0.989638561111111 \n",
            "\n",
            "938/938 [==============================] - 17s 19ms/step - loss: 0.1548 - acc: 0.9408 - val_loss: 0.3522 - val_acc: 0.8787\n",
            "Epoch 14/20\n",
            "313/313 [==============================] - 1s 3ms/step\n",
            " \n",
            " auc score for val set : 0.9898779944444446 \n",
            "\n",
            "938/938 [==============================] - 18s 19ms/step - loss: 0.1440 - acc: 0.9468 - val_loss: 0.3625 - val_acc: 0.8792\n",
            "Epoch 15/20\n",
            "313/313 [==============================] - 1s 3ms/step\n",
            " \n",
            " auc score for val set : 0.989588211111111 \n",
            "\n",
            "938/938 [==============================] - 17s 18ms/step - loss: 0.1333 - acc: 0.9492 - val_loss: 0.4005 - val_acc: 0.8678\n",
            "Epoch 16/20\n",
            "313/313 [==============================] - 1s 4ms/step\n",
            " \n",
            " auc score for val set : 0.9890543722222223 \n",
            "\n",
            "938/938 [==============================] - 19s 20ms/step - loss: 0.1254 - acc: 0.9527 - val_loss: 0.3920 - val_acc: 0.8754\n",
            "Epoch 17/20\n",
            "313/313 [==============================] - 1s 3ms/step\n",
            " \n",
            " auc score for val set : 0.9894935833333335 \n",
            "\n",
            "938/938 [==============================] - 17s 19ms/step - loss: 0.1168 - acc: 0.9561 - val_loss: 0.4237 - val_acc: 0.8719\n",
            "Epoch 18/20\n",
            "313/313 [==============================] - 1s 3ms/step\n",
            " \n",
            " auc score for val set : 0.9898884388888888 \n",
            "\n",
            "938/938 [==============================] - 17s 18ms/step - loss: 0.1095 - acc: 0.9594 - val_loss: 0.3720 - val_acc: 0.8755\n",
            "Epoch 19/20\n",
            "313/313 [==============================] - 1s 3ms/step\n",
            " \n",
            " auc score for val set : 0.9898662333333335 \n",
            "\n",
            "938/938 [==============================] - 17s 18ms/step - loss: 0.1014 - acc: 0.9610 - val_loss: 0.4782 - val_acc: 0.8774\n",
            "Epoch 20/20\n",
            "313/313 [==============================] - 1s 3ms/step\n",
            " \n",
            " auc score for val set : 0.9893475111111112 \n",
            "\n",
            "938/938 [==============================] - 17s 19ms/step - loss: 0.0980 - acc: 0.9640 - val_loss: 0.4166 - val_acc: 0.8721\n"
          ]
        },
        {
          "output_type": "execute_result",
          "data": {
            "text/plain": [
              "<keras.src.callbacks.History at 0x78f8f11ded40>"
            ]
          },
          "metadata": {},
          "execution_count": 19
        }
      ]
    },
    {
      "cell_type": "code",
      "source": [
        "model_json = model.to_json()\n",
        "\n",
        "with open('model.json', 'w') as json_file:\n",
        "  json_file.write(model_json)"
      ],
      "metadata": {
        "id": "Eq5fzf3xquin"
      },
      "execution_count": 20,
      "outputs": []
    },
    {
      "cell_type": "code",
      "source": [
        "json_file = open('model.json', 'r')\n",
        "loaded_model_json = json_file.read()\n",
        "json_file.close()\n",
        "loaded_model = model_from_json(loaded_model_json)"
      ],
      "metadata": {
        "id": "gueKjjMDsopk"
      },
      "execution_count": 21,
      "outputs": []
    },
    {
      "cell_type": "code",
      "source": [
        "loaded_model.summary()"
      ],
      "metadata": {
        "colab": {
          "base_uri": "https://localhost:8080/"
        },
        "id": "q1s1ovf9s6DI",
        "outputId": "b4ef1b00-3355-4dbf-cc7b-6ab3d4c1148c"
      },
      "execution_count": 22,
      "outputs": [
        {
          "output_type": "stream",
          "name": "stdout",
          "text": [
            "Model: \"sequential\"\n",
            "_________________________________________________________________\n",
            " Layer (type)                Output Shape              Param #   \n",
            "=================================================================\n",
            " dense (Dense)               (None, 28, 28, 128)       256       \n",
            "                                                                 \n",
            " batch_normalization (Batch  (None, 28, 28, 128)       512       \n",
            " Normalization)                                                  \n",
            "                                                                 \n",
            " activation (Activation)     (None, 28, 28, 128)       0         \n",
            "                                                                 \n",
            " dropout (Dropout)           (None, 28, 28, 128)       0         \n",
            "                                                                 \n",
            " dense_1 (Dense)             (None, 28, 28, 128)       16512     \n",
            "                                                                 \n",
            " dropout_1 (Dropout)         (None, 28, 28, 128)       0         \n",
            "                                                                 \n",
            " flatten (Flatten)           (None, 100352)            0         \n",
            "                                                                 \n",
            " dense_2 (Dense)             (None, 128)               12845184  \n",
            "                                                                 \n",
            " dense_3 (Dense)             (None, 128)               16512     \n",
            "                                                                 \n",
            " dense_4 (Dense)             (None, 10)                1290      \n",
            "                                                                 \n",
            "=================================================================\n",
            "Total params: 12880266 (49.13 MB)\n",
            "Trainable params: 12880010 (49.13 MB)\n",
            "Non-trainable params: 256 (1.00 KB)\n",
            "_________________________________________________________________\n"
          ]
        }
      ]
    },
    {
      "cell_type": "code",
      "source": [
        "!ls /content/model_output/*"
      ],
      "metadata": {
        "colab": {
          "base_uri": "https://localhost:8080/"
        },
        "id": "JSLr4AYSs8jx",
        "outputId": "bd1fb13c-ce61-4b63-db6a-2bea4afe2825"
      },
      "execution_count": 24,
      "outputs": [
        {
          "output_type": "stream",
          "name": "stdout",
          "text": [
            "/content/model_output/weights-01-loss-0.572264.h5\n",
            "/content/model_output/weights-02-loss-0.379355.h5\n",
            "/content/model_output/weights-03-loss-0.347206.h5\n",
            "/content/model_output/weights-04-loss-0.313185.h5\n",
            "/content/model_output/weights-05-loss-0.292206.h5\n",
            "/content/model_output/weights-06-loss-0.269696.h5\n",
            "/content/model_output/weights-07-loss-0.245499.h5\n",
            "/content/model_output/weights-08-loss-0.228248.h5\n",
            "/content/model_output/weights-09-loss-0.212247.h5\n",
            "/content/model_output/weights-10-loss-0.196016.h5\n",
            "/content/model_output/weights-11-loss-0.181452.h5\n",
            "/content/model_output/weights-12-loss-0.166215.h5\n",
            "/content/model_output/weights-13-loss-0.154823.h5\n",
            "/content/model_output/weights-14-loss-0.143953.h5\n",
            "/content/model_output/weights-15-loss-0.133303.h5\n",
            "/content/model_output/weights-16-loss-0.125363.h5\n",
            "/content/model_output/weights-17-loss-0.116794.h5\n",
            "/content/model_output/weights-18-loss-0.109537.h5\n",
            "/content/model_output/weights-19-loss-0.101377.h5\n",
            "/content/model_output/weights-20-loss-0.098044.h5\n"
          ]
        }
      ]
    },
    {
      "cell_type": "code",
      "source": [
        "loaded_model.load_weights('/content/model_output/weights-20-loss-0.098044.h5')"
      ],
      "metadata": {
        "id": "2Ea9tzPHtINO"
      },
      "execution_count": 25,
      "outputs": []
    },
    {
      "cell_type": "code",
      "source": [
        "preds = loaded_model.predict(X_test_tensor)"
      ],
      "metadata": {
        "colab": {
          "base_uri": "https://localhost:8080/"
        },
        "id": "A9hRaNwjtTjy",
        "outputId": "b4aefaf8-41cd-48dc-e987-1c4ffcec8ac6"
      },
      "execution_count": 26,
      "outputs": [
        {
          "output_type": "stream",
          "name": "stdout",
          "text": [
            "313/313 [==============================] - 1s 3ms/step\n"
          ]
        }
      ]
    },
    {
      "cell_type": "code",
      "source": [
        "pd.crosstab(np.argmax(y_test_labels, 1), np.argmax(preds, 1))"
      ],
      "metadata": {
        "colab": {
          "base_uri": "https://localhost:8080/",
          "height": 394
        },
        "id": "Ztd95mn5tdKn",
        "outputId": "43260405-cc53-4825-84b5-81a3fc5baf0a"
      },
      "execution_count": 27,
      "outputs": [
        {
          "output_type": "execute_result",
          "data": {
            "text/plain": [
              "col_0    0    1    2    3    4    5    6    7    8    9\n",
              "row_0                                                  \n",
              "0      846    2   14   20    3    1  110    0    4    0\n",
              "1        6  963    2   14    5    0   10    0    0    0\n",
              "2       19    1  747   10  129    0   92    0    2    0\n",
              "3       30    5   12  853   58    0   37    1    4    0\n",
              "4        1    0   71   14  855    0   55    0    4    0\n",
              "5        0    0    0    1    0  946    0   42    2    9\n",
              "6      135    3   63   23   97    0  671    0    8    0\n",
              "7        0    0    0    0    0   11    0  985    0    4\n",
              "8        2    1    2    2    5    5    5    7  971    0\n",
              "9        1    0    0    0    0    5    0  110    0  884"
            ],
            "text/html": [
              "\n",
              "  <div id=\"df-5b8a7b14-9adb-4c18-89d1-426baf86597d\" class=\"colab-df-container\">\n",
              "    <div>\n",
              "<style scoped>\n",
              "    .dataframe tbody tr th:only-of-type {\n",
              "        vertical-align: middle;\n",
              "    }\n",
              "\n",
              "    .dataframe tbody tr th {\n",
              "        vertical-align: top;\n",
              "    }\n",
              "\n",
              "    .dataframe thead th {\n",
              "        text-align: right;\n",
              "    }\n",
              "</style>\n",
              "<table border=\"1\" class=\"dataframe\">\n",
              "  <thead>\n",
              "    <tr style=\"text-align: right;\">\n",
              "      <th>col_0</th>\n",
              "      <th>0</th>\n",
              "      <th>1</th>\n",
              "      <th>2</th>\n",
              "      <th>3</th>\n",
              "      <th>4</th>\n",
              "      <th>5</th>\n",
              "      <th>6</th>\n",
              "      <th>7</th>\n",
              "      <th>8</th>\n",
              "      <th>9</th>\n",
              "    </tr>\n",
              "    <tr>\n",
              "      <th>row_0</th>\n",
              "      <th></th>\n",
              "      <th></th>\n",
              "      <th></th>\n",
              "      <th></th>\n",
              "      <th></th>\n",
              "      <th></th>\n",
              "      <th></th>\n",
              "      <th></th>\n",
              "      <th></th>\n",
              "      <th></th>\n",
              "    </tr>\n",
              "  </thead>\n",
              "  <tbody>\n",
              "    <tr>\n",
              "      <th>0</th>\n",
              "      <td>846</td>\n",
              "      <td>2</td>\n",
              "      <td>14</td>\n",
              "      <td>20</td>\n",
              "      <td>3</td>\n",
              "      <td>1</td>\n",
              "      <td>110</td>\n",
              "      <td>0</td>\n",
              "      <td>4</td>\n",
              "      <td>0</td>\n",
              "    </tr>\n",
              "    <tr>\n",
              "      <th>1</th>\n",
              "      <td>6</td>\n",
              "      <td>963</td>\n",
              "      <td>2</td>\n",
              "      <td>14</td>\n",
              "      <td>5</td>\n",
              "      <td>0</td>\n",
              "      <td>10</td>\n",
              "      <td>0</td>\n",
              "      <td>0</td>\n",
              "      <td>0</td>\n",
              "    </tr>\n",
              "    <tr>\n",
              "      <th>2</th>\n",
              "      <td>19</td>\n",
              "      <td>1</td>\n",
              "      <td>747</td>\n",
              "      <td>10</td>\n",
              "      <td>129</td>\n",
              "      <td>0</td>\n",
              "      <td>92</td>\n",
              "      <td>0</td>\n",
              "      <td>2</td>\n",
              "      <td>0</td>\n",
              "    </tr>\n",
              "    <tr>\n",
              "      <th>3</th>\n",
              "      <td>30</td>\n",
              "      <td>5</td>\n",
              "      <td>12</td>\n",
              "      <td>853</td>\n",
              "      <td>58</td>\n",
              "      <td>0</td>\n",
              "      <td>37</td>\n",
              "      <td>1</td>\n",
              "      <td>4</td>\n",
              "      <td>0</td>\n",
              "    </tr>\n",
              "    <tr>\n",
              "      <th>4</th>\n",
              "      <td>1</td>\n",
              "      <td>0</td>\n",
              "      <td>71</td>\n",
              "      <td>14</td>\n",
              "      <td>855</td>\n",
              "      <td>0</td>\n",
              "      <td>55</td>\n",
              "      <td>0</td>\n",
              "      <td>4</td>\n",
              "      <td>0</td>\n",
              "    </tr>\n",
              "    <tr>\n",
              "      <th>5</th>\n",
              "      <td>0</td>\n",
              "      <td>0</td>\n",
              "      <td>0</td>\n",
              "      <td>1</td>\n",
              "      <td>0</td>\n",
              "      <td>946</td>\n",
              "      <td>0</td>\n",
              "      <td>42</td>\n",
              "      <td>2</td>\n",
              "      <td>9</td>\n",
              "    </tr>\n",
              "    <tr>\n",
              "      <th>6</th>\n",
              "      <td>135</td>\n",
              "      <td>3</td>\n",
              "      <td>63</td>\n",
              "      <td>23</td>\n",
              "      <td>97</td>\n",
              "      <td>0</td>\n",
              "      <td>671</td>\n",
              "      <td>0</td>\n",
              "      <td>8</td>\n",
              "      <td>0</td>\n",
              "    </tr>\n",
              "    <tr>\n",
              "      <th>7</th>\n",
              "      <td>0</td>\n",
              "      <td>0</td>\n",
              "      <td>0</td>\n",
              "      <td>0</td>\n",
              "      <td>0</td>\n",
              "      <td>11</td>\n",
              "      <td>0</td>\n",
              "      <td>985</td>\n",
              "      <td>0</td>\n",
              "      <td>4</td>\n",
              "    </tr>\n",
              "    <tr>\n",
              "      <th>8</th>\n",
              "      <td>2</td>\n",
              "      <td>1</td>\n",
              "      <td>2</td>\n",
              "      <td>2</td>\n",
              "      <td>5</td>\n",
              "      <td>5</td>\n",
              "      <td>5</td>\n",
              "      <td>7</td>\n",
              "      <td>971</td>\n",
              "      <td>0</td>\n",
              "    </tr>\n",
              "    <tr>\n",
              "      <th>9</th>\n",
              "      <td>1</td>\n",
              "      <td>0</td>\n",
              "      <td>0</td>\n",
              "      <td>0</td>\n",
              "      <td>0</td>\n",
              "      <td>5</td>\n",
              "      <td>0</td>\n",
              "      <td>110</td>\n",
              "      <td>0</td>\n",
              "      <td>884</td>\n",
              "    </tr>\n",
              "  </tbody>\n",
              "</table>\n",
              "</div>\n",
              "    <div class=\"colab-df-buttons\">\n",
              "\n",
              "  <div class=\"colab-df-container\">\n",
              "    <button class=\"colab-df-convert\" onclick=\"convertToInteractive('df-5b8a7b14-9adb-4c18-89d1-426baf86597d')\"\n",
              "            title=\"Convert this dataframe to an interactive table.\"\n",
              "            style=\"display:none;\">\n",
              "\n",
              "  <svg xmlns=\"http://www.w3.org/2000/svg\" height=\"24px\" viewBox=\"0 -960 960 960\">\n",
              "    <path d=\"M120-120v-720h720v720H120Zm60-500h600v-160H180v160Zm220 220h160v-160H400v160Zm0 220h160v-160H400v160ZM180-400h160v-160H180v160Zm440 0h160v-160H620v160ZM180-180h160v-160H180v160Zm440 0h160v-160H620v160Z\"/>\n",
              "  </svg>\n",
              "    </button>\n",
              "\n",
              "  <style>\n",
              "    .colab-df-container {\n",
              "      display:flex;\n",
              "      gap: 12px;\n",
              "    }\n",
              "\n",
              "    .colab-df-convert {\n",
              "      background-color: #E8F0FE;\n",
              "      border: none;\n",
              "      border-radius: 50%;\n",
              "      cursor: pointer;\n",
              "      display: none;\n",
              "      fill: #1967D2;\n",
              "      height: 32px;\n",
              "      padding: 0 0 0 0;\n",
              "      width: 32px;\n",
              "    }\n",
              "\n",
              "    .colab-df-convert:hover {\n",
              "      background-color: #E2EBFA;\n",
              "      box-shadow: 0px 1px 2px rgba(60, 64, 67, 0.3), 0px 1px 3px 1px rgba(60, 64, 67, 0.15);\n",
              "      fill: #174EA6;\n",
              "    }\n",
              "\n",
              "    .colab-df-buttons div {\n",
              "      margin-bottom: 4px;\n",
              "    }\n",
              "\n",
              "    [theme=dark] .colab-df-convert {\n",
              "      background-color: #3B4455;\n",
              "      fill: #D2E3FC;\n",
              "    }\n",
              "\n",
              "    [theme=dark] .colab-df-convert:hover {\n",
              "      background-color: #434B5C;\n",
              "      box-shadow: 0px 1px 3px 1px rgba(0, 0, 0, 0.15);\n",
              "      filter: drop-shadow(0px 1px 2px rgba(0, 0, 0, 0.3));\n",
              "      fill: #FFFFFF;\n",
              "    }\n",
              "  </style>\n",
              "\n",
              "    <script>\n",
              "      const buttonEl =\n",
              "        document.querySelector('#df-5b8a7b14-9adb-4c18-89d1-426baf86597d button.colab-df-convert');\n",
              "      buttonEl.style.display =\n",
              "        google.colab.kernel.accessAllowed ? 'block' : 'none';\n",
              "\n",
              "      async function convertToInteractive(key) {\n",
              "        const element = document.querySelector('#df-5b8a7b14-9adb-4c18-89d1-426baf86597d');\n",
              "        const dataTable =\n",
              "          await google.colab.kernel.invokeFunction('convertToInteractive',\n",
              "                                                    [key], {});\n",
              "        if (!dataTable) return;\n",
              "\n",
              "        const docLinkHtml = 'Like what you see? Visit the ' +\n",
              "          '<a target=\"_blank\" href=https://colab.research.google.com/notebooks/data_table.ipynb>data table notebook</a>'\n",
              "          + ' to learn more about interactive tables.';\n",
              "        element.innerHTML = '';\n",
              "        dataTable['output_type'] = 'display_data';\n",
              "        await google.colab.output.renderOutput(dataTable, element);\n",
              "        const docLink = document.createElement('div');\n",
              "        docLink.innerHTML = docLinkHtml;\n",
              "        element.appendChild(docLink);\n",
              "      }\n",
              "    </script>\n",
              "  </div>\n",
              "\n",
              "\n",
              "<div id=\"df-228746b6-7502-44bd-b153-ae593734830a\">\n",
              "  <button class=\"colab-df-quickchart\" onclick=\"quickchart('df-228746b6-7502-44bd-b153-ae593734830a')\"\n",
              "            title=\"Suggest charts\"\n",
              "            style=\"display:none;\">\n",
              "\n",
              "<svg xmlns=\"http://www.w3.org/2000/svg\" height=\"24px\"viewBox=\"0 0 24 24\"\n",
              "     width=\"24px\">\n",
              "    <g>\n",
              "        <path d=\"M19 3H5c-1.1 0-2 .9-2 2v14c0 1.1.9 2 2 2h14c1.1 0 2-.9 2-2V5c0-1.1-.9-2-2-2zM9 17H7v-7h2v7zm4 0h-2V7h2v10zm4 0h-2v-4h2v4z\"/>\n",
              "    </g>\n",
              "</svg>\n",
              "  </button>\n",
              "\n",
              "<style>\n",
              "  .colab-df-quickchart {\n",
              "      --bg-color: #E8F0FE;\n",
              "      --fill-color: #1967D2;\n",
              "      --hover-bg-color: #E2EBFA;\n",
              "      --hover-fill-color: #174EA6;\n",
              "      --disabled-fill-color: #AAA;\n",
              "      --disabled-bg-color: #DDD;\n",
              "  }\n",
              "\n",
              "  [theme=dark] .colab-df-quickchart {\n",
              "      --bg-color: #3B4455;\n",
              "      --fill-color: #D2E3FC;\n",
              "      --hover-bg-color: #434B5C;\n",
              "      --hover-fill-color: #FFFFFF;\n",
              "      --disabled-bg-color: #3B4455;\n",
              "      --disabled-fill-color: #666;\n",
              "  }\n",
              "\n",
              "  .colab-df-quickchart {\n",
              "    background-color: var(--bg-color);\n",
              "    border: none;\n",
              "    border-radius: 50%;\n",
              "    cursor: pointer;\n",
              "    display: none;\n",
              "    fill: var(--fill-color);\n",
              "    height: 32px;\n",
              "    padding: 0;\n",
              "    width: 32px;\n",
              "  }\n",
              "\n",
              "  .colab-df-quickchart:hover {\n",
              "    background-color: var(--hover-bg-color);\n",
              "    box-shadow: 0 1px 2px rgba(60, 64, 67, 0.3), 0 1px 3px 1px rgba(60, 64, 67, 0.15);\n",
              "    fill: var(--button-hover-fill-color);\n",
              "  }\n",
              "\n",
              "  .colab-df-quickchart-complete:disabled,\n",
              "  .colab-df-quickchart-complete:disabled:hover {\n",
              "    background-color: var(--disabled-bg-color);\n",
              "    fill: var(--disabled-fill-color);\n",
              "    box-shadow: none;\n",
              "  }\n",
              "\n",
              "  .colab-df-spinner {\n",
              "    border: 2px solid var(--fill-color);\n",
              "    border-color: transparent;\n",
              "    border-bottom-color: var(--fill-color);\n",
              "    animation:\n",
              "      spin 1s steps(1) infinite;\n",
              "  }\n",
              "\n",
              "  @keyframes spin {\n",
              "    0% {\n",
              "      border-color: transparent;\n",
              "      border-bottom-color: var(--fill-color);\n",
              "      border-left-color: var(--fill-color);\n",
              "    }\n",
              "    20% {\n",
              "      border-color: transparent;\n",
              "      border-left-color: var(--fill-color);\n",
              "      border-top-color: var(--fill-color);\n",
              "    }\n",
              "    30% {\n",
              "      border-color: transparent;\n",
              "      border-left-color: var(--fill-color);\n",
              "      border-top-color: var(--fill-color);\n",
              "      border-right-color: var(--fill-color);\n",
              "    }\n",
              "    40% {\n",
              "      border-color: transparent;\n",
              "      border-right-color: var(--fill-color);\n",
              "      border-top-color: var(--fill-color);\n",
              "    }\n",
              "    60% {\n",
              "      border-color: transparent;\n",
              "      border-right-color: var(--fill-color);\n",
              "    }\n",
              "    80% {\n",
              "      border-color: transparent;\n",
              "      border-right-color: var(--fill-color);\n",
              "      border-bottom-color: var(--fill-color);\n",
              "    }\n",
              "    90% {\n",
              "      border-color: transparent;\n",
              "      border-bottom-color: var(--fill-color);\n",
              "    }\n",
              "  }\n",
              "</style>\n",
              "\n",
              "  <script>\n",
              "    async function quickchart(key) {\n",
              "      const quickchartButtonEl =\n",
              "        document.querySelector('#' + key + ' button');\n",
              "      quickchartButtonEl.disabled = true;  // To prevent multiple clicks.\n",
              "      quickchartButtonEl.classList.add('colab-df-spinner');\n",
              "      try {\n",
              "        const charts = await google.colab.kernel.invokeFunction(\n",
              "            'suggestCharts', [key], {});\n",
              "      } catch (error) {\n",
              "        console.error('Error during call to suggestCharts:', error);\n",
              "      }\n",
              "      quickchartButtonEl.classList.remove('colab-df-spinner');\n",
              "      quickchartButtonEl.classList.add('colab-df-quickchart-complete');\n",
              "    }\n",
              "    (() => {\n",
              "      let quickchartButtonEl =\n",
              "        document.querySelector('#df-228746b6-7502-44bd-b153-ae593734830a button');\n",
              "      quickchartButtonEl.style.display =\n",
              "        google.colab.kernel.accessAllowed ? 'block' : 'none';\n",
              "    })();\n",
              "  </script>\n",
              "</div>\n",
              "    </div>\n",
              "  </div>\n"
            ],
            "application/vnd.google.colaboratory.intrinsic+json": {
              "type": "dataframe",
              "summary": "{\n  \"name\": \"pd\",\n  \"rows\": 10,\n  \"fields\": [\n    {\n      \"column\": \"row_0\",\n      \"properties\": {\n        \"dtype\": \"number\",\n        \"std\": 3,\n        \"min\": 0,\n        \"max\": 9,\n        \"num_unique_values\": 10,\n        \"samples\": [\n          8,\n          1,\n          5\n        ],\n        \"semantic_type\": \"\",\n        \"description\": \"\"\n      }\n    },\n    {\n      \"column\": 0,\n      \"properties\": {\n        \"dtype\": \"number\",\n        \"std\": 263,\n        \"min\": 0,\n        \"max\": 846,\n        \"num_unique_values\": 8,\n        \"samples\": [\n          6,\n          0,\n          846\n        ],\n        \"semantic_type\": \"\",\n        \"description\": \"\"\n      }\n    },\n    {\n      \"column\": 1,\n      \"properties\": {\n        \"dtype\": \"number\",\n        \"std\": 304,\n        \"min\": 0,\n        \"max\": 963,\n        \"num_unique_values\": 6,\n        \"samples\": [\n          2,\n          963,\n          3\n        ],\n        \"semantic_type\": \"\",\n        \"description\": \"\"\n      }\n    },\n    {\n      \"column\": 2,\n      \"properties\": {\n        \"dtype\": \"number\",\n        \"std\": 231,\n        \"min\": 0,\n        \"max\": 747,\n        \"num_unique_values\": 7,\n        \"samples\": [\n          14,\n          2,\n          0\n        ],\n        \"semantic_type\": \"\",\n        \"description\": \"\"\n      }\n    },\n    {\n      \"column\": 3,\n      \"properties\": {\n        \"dtype\": \"number\",\n        \"std\": 266,\n        \"min\": 0,\n        \"max\": 853,\n        \"num_unique_values\": 8,\n        \"samples\": [\n          14,\n          23,\n          20\n        ],\n        \"semantic_type\": \"\",\n        \"description\": \"\"\n      }\n    },\n    {\n      \"column\": 4,\n      \"properties\": {\n        \"dtype\": \"number\",\n        \"std\": 264,\n        \"min\": 0,\n        \"max\": 855,\n        \"num_unique_values\": 7,\n        \"samples\": [\n          3,\n          5,\n          0\n        ],\n        \"semantic_type\": \"\",\n        \"description\": \"\"\n      }\n    },\n    {\n      \"column\": 5,\n      \"properties\": {\n        \"dtype\": \"number\",\n        \"std\": 298,\n        \"min\": 0,\n        \"max\": 946,\n        \"num_unique_values\": 5,\n        \"samples\": [\n          0,\n          5,\n          946\n        ],\n        \"semantic_type\": \"\",\n        \"description\": \"\"\n      }\n    },\n    {\n      \"column\": 6,\n      \"properties\": {\n        \"dtype\": \"number\",\n        \"std\": 205,\n        \"min\": 0,\n        \"max\": 671,\n        \"num_unique_values\": 8,\n        \"samples\": [\n          10,\n          0,\n          110\n        ],\n        \"semantic_type\": \"\",\n        \"description\": \"\"\n      }\n    },\n    {\n      \"column\": 7,\n      \"properties\": {\n        \"dtype\": \"number\",\n        \"std\": 307,\n        \"min\": 0,\n        \"max\": 985,\n        \"num_unique_values\": 6,\n        \"samples\": [\n          0,\n          1,\n          110\n        ],\n        \"semantic_type\": \"\",\n        \"description\": \"\"\n      }\n    },\n    {\n      \"column\": 8,\n      \"properties\": {\n        \"dtype\": \"number\",\n        \"std\": 306,\n        \"min\": 0,\n        \"max\": 971,\n        \"num_unique_values\": 5,\n        \"samples\": [\n          0,\n          971,\n          2\n        ],\n        \"semantic_type\": \"\",\n        \"description\": \"\"\n      }\n    },\n    {\n      \"column\": 9,\n      \"properties\": {\n        \"dtype\": \"number\",\n        \"std\": 279,\n        \"min\": 0,\n        \"max\": 884,\n        \"num_unique_values\": 4,\n        \"samples\": [\n          9,\n          884,\n          0\n        ],\n        \"semantic_type\": \"\",\n        \"description\": \"\"\n      }\n    }\n  ]\n}"
            }
          },
          "metadata": {},
          "execution_count": 27
        }
      ]
    },
    {
      "cell_type": "markdown",
      "source": [
        "| Label | Description |\n",
        "|:-----:|-------------|\n",
        "|   0   | T-shirt/top |\n",
        "|   1   | Trouser     |\n",
        "|   2   | Pullover    |\n",
        "|   3   | Dress       |\n",
        "|   4   | Coat        |\n",
        "|   5   | Sandal      |\n",
        "|   6   | Shirt       |\n",
        "|   7   | Sneaker     |\n",
        "|   8   | Bag         |\n",
        "|   9   | Ankle boot  |"
      ],
      "metadata": {
        "id": "vJBLRuDYtzEe"
      }
    },
    {
      "cell_type": "code",
      "source": [],
      "metadata": {
        "id": "ZxqgAjImtltZ"
      },
      "execution_count": null,
      "outputs": []
    }
  ]
}