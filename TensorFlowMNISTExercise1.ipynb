{
  "nbformat": 4,
  "nbformat_minor": 0,
  "metadata": {
    "colab": {
      "provenance": []
    },
    "kernelspec": {
      "name": "python3",
      "display_name": "Python 3"
    },
    "language_info": {
      "name": "python"
    }
  },
  "cells": [
    {
      "cell_type": "code",
      "execution_count": 22,
      "metadata": {
        "id": "2PJza000Acke"
      },
      "outputs": [],
      "source": [
        "import numpy as np\n",
        "import pandas as pd\n",
        "import tensorflow as tf\n",
        "from tensorflow.keras import Model, Input\n",
        "from tensorflow.keras.callbacks import ModelCheckpoint, EarlyStopping, Callback\n",
        "from tensorflow.keras.layers import Dense, Activation, Dropout\n",
        "from tensorflow.keras.optimizers import Adam\n",
        "from tensorflow.keras.datasets import mnist\n",
        "from tensorflow.keras.utils import to_categorical, plot_model\n",
        "from tensorflow.keras.models import model_from_json\n",
        "from sklearn.metrics import roc_auc_score"
      ]
    },
    {
      "cell_type": "code",
      "source": [
        "(X_train, y_train), (X_test, y_test) = mnist.load_data()"
      ],
      "metadata": {
        "id": "4xT4StO7H0AN"
      },
      "execution_count": 2,
      "outputs": []
    },
    {
      "cell_type": "code",
      "source": [
        "mnist.load_data"
      ],
      "metadata": {
        "colab": {
          "base_uri": "https://localhost:8080/",
          "height": 187
        },
        "id": "tX5T5vswIqo8",
        "outputId": "2dba196a-84ba-4972-caed-aca9b11dc4c3"
      },
      "execution_count": 3,
      "outputs": [
        {
          "output_type": "execute_result",
          "data": {
            "text/plain": [
              "<function keras.src.datasets.mnist.load_data(path='mnist.npz')>"
            ],
            "text/html": [
              "<div style=\"max-width:800px; border: 1px solid var(--colab-border-color);\"><style>\n",
              "      pre.function-repr-contents {\n",
              "        overflow-x: auto;\n",
              "        padding: 8px 12px;\n",
              "        max-height: 500px;\n",
              "      }\n",
              "\n",
              "      pre.function-repr-contents.function-repr-contents-collapsed {\n",
              "        cursor: pointer;\n",
              "        max-height: 100px;\n",
              "      }\n",
              "    </style>\n",
              "    <pre style=\"white-space: initial; background:\n",
              "         var(--colab-secondary-surface-color); padding: 8px 12px;\n",
              "         border-bottom: 1px solid var(--colab-border-color);\"><b>keras.src.datasets.mnist.load_data</b><br/>def load_data(path=&#x27;mnist.npz&#x27;)</pre><pre class=\"function-repr-contents function-repr-contents-collapsed\" style=\"\"><a class=\"filepath\" style=\"display:none\" href=\"#\">/usr/local/lib/python3.10/dist-packages/keras/src/datasets/mnist.py</a>Loads the MNIST dataset.\n",
              "\n",
              "This is a dataset of 60,000 28x28 grayscale images of the 10 digits,\n",
              "along with a test set of 10,000 images.\n",
              "More info can be found at the\n",
              "[MNIST homepage](http://yann.lecun.com/exdb/mnist/).\n",
              "\n",
              "Args:\n",
              "  path: path where to cache the dataset locally\n",
              "    (relative to `~/.keras/datasets`).\n",
              "\n",
              "Returns:\n",
              "  Tuple of NumPy arrays: `(x_train, y_train), (x_test, y_test)`.\n",
              "\n",
              "**x_train**: uint8 NumPy array of grayscale image data with shapes\n",
              "  `(60000, 28, 28)`, containing the training data. Pixel values range\n",
              "  from 0 to 255.\n",
              "\n",
              "**y_train**: uint8 NumPy array of digit labels (integers in range 0-9)\n",
              "  with shape `(60000,)` for the training data.\n",
              "\n",
              "**x_test**: uint8 NumPy array of grayscale image data with shapes\n",
              "  (10000, 28, 28), containing the test data. Pixel values range\n",
              "  from 0 to 255.\n",
              "\n",
              "**y_test**: uint8 NumPy array of digit labels (integers in range 0-9)\n",
              "  with shape `(10000,)` for the test data.\n",
              "\n",
              "Example:\n",
              "\n",
              "```python\n",
              "(x_train, y_train), (x_test, y_test) = keras.datasets.mnist.load_data()\n",
              "assert x_train.shape == (60000, 28, 28)\n",
              "assert x_test.shape == (10000, 28, 28)\n",
              "assert y_train.shape == (60000,)\n",
              "assert y_test.shape == (10000,)\n",
              "```\n",
              "\n",
              "License:\n",
              "  Yann LeCun and Corinna Cortes hold the copyright of MNIST dataset,\n",
              "  which is a derivative work from original NIST datasets.\n",
              "  MNIST dataset is made available under the terms of the\n",
              "  [Creative Commons Attribution-Share Alike 3.0 license.](\n",
              "  https://creativecommons.org/licenses/by-sa/3.0/)</pre>\n",
              "      <script>\n",
              "      if (google.colab.kernel.accessAllowed && google.colab.files && google.colab.files.view) {\n",
              "        for (const element of document.querySelectorAll('.filepath')) {\n",
              "          element.style.display = 'block'\n",
              "          element.onclick = (event) => {\n",
              "            event.preventDefault();\n",
              "            event.stopPropagation();\n",
              "            google.colab.files.view(element.textContent, 25);\n",
              "          };\n",
              "        }\n",
              "      }\n",
              "      for (const element of document.querySelectorAll('.function-repr-contents')) {\n",
              "        element.onclick = (event) => {\n",
              "          event.preventDefault();\n",
              "          event.stopPropagation();\n",
              "          element.classList.toggle('function-repr-contents-collapsed');\n",
              "        };\n",
              "      }\n",
              "      </script>\n",
              "      </div>"
            ]
          },
          "metadata": {},
          "execution_count": 3
        }
      ]
    },
    {
      "cell_type": "code",
      "source": [
        "X_train.shape, y_train.shape, X_test.shape, y_test.shape, X_train[1:].max()"
      ],
      "metadata": {
        "colab": {
          "base_uri": "https://localhost:8080/"
        },
        "id": "-nHz8xDJIsdi",
        "outputId": "98e04a7f-6731-4c4c-9480-d8eba079c364"
      },
      "execution_count": 4,
      "outputs": [
        {
          "output_type": "execute_result",
          "data": {
            "text/plain": [
              "((60000, 28, 28), (60000,), (10000, 28, 28), (10000,), 255)"
            ]
          },
          "metadata": {},
          "execution_count": 4
        }
      ]
    },
    {
      "cell_type": "code",
      "source": [
        "y_train_one_hot = to_categorical(y_train)\n",
        "y_test_one_hot = to_categorical(y_test)\n",
        "\n",
        "y_train_one_hot.shape, y_test_one_hot.shape"
      ],
      "metadata": {
        "colab": {
          "base_uri": "https://localhost:8080/"
        },
        "id": "TcOUBQzcJap7",
        "outputId": "11cf0af9-2045-4200-ceef-e6c181573e5d"
      },
      "execution_count": 5,
      "outputs": [
        {
          "output_type": "execute_result",
          "data": {
            "text/plain": [
              "((60000, 10), (10000, 10))"
            ]
          },
          "metadata": {},
          "execution_count": 5
        }
      ]
    },
    {
      "cell_type": "code",
      "source": [
        "X_train_tensor = X_train.astype('float32') / 255.0\n",
        "X_test_tensor = X_test.astype('float32') / 255.0\n",
        "\n",
        "X_train_tensor.shape, X_train_tensor[1:].max()"
      ],
      "metadata": {
        "colab": {
          "base_uri": "https://localhost:8080/"
        },
        "id": "LZiUWmf-JuR2",
        "outputId": "9819a5f1-3999-496b-f63c-52e45490dbcf"
      },
      "execution_count": 6,
      "outputs": [
        {
          "output_type": "execute_result",
          "data": {
            "text/plain": [
              "((60000, 28, 28), 1.0)"
            ]
          },
          "metadata": {},
          "execution_count": 6
        }
      ]
    },
    {
      "cell_type": "code",
      "source": [
        "image_size = X_train.shape[1]\n",
        "INPUT_SIZE = image_size * image_size\n",
        "\n",
        "X_train_tensor_reshaped = np.reshape(X_train, [-1, INPUT_SIZE])\n",
        "X_test_tensor_reshaped = np.reshape(X_test, [-1, INPUT_SIZE])\n",
        "\n",
        "X_train_tensor_reshaped.shape, X_test_tensor_reshaped.shape"
      ],
      "metadata": {
        "colab": {
          "base_uri": "https://localhost:8080/"
        },
        "id": "GPmVD8iqKPhs",
        "outputId": "27e6bdba-ec7e-429a-f2df-b5abf3dcfcb3"
      },
      "execution_count": 7,
      "outputs": [
        {
          "output_type": "execute_result",
          "data": {
            "text/plain": [
              "((60000, 784), (10000, 784))"
            ]
          },
          "metadata": {},
          "execution_count": 7
        }
      ]
    },
    {
      "cell_type": "code",
      "source": [
        "BATCH_SIZE=128\n",
        "HIDDEN_UNITS=256\n",
        "DROPOUT=0.45\n",
        "NUM_LABELS = len(np.unique(y_train))\n",
        "\n",
        "NUM_LABELS"
      ],
      "metadata": {
        "colab": {
          "base_uri": "https://localhost:8080/"
        },
        "id": "Hd5lCuYbMra6",
        "outputId": "b43a3eb5-3c03-48d5-9089-4b2ef1579192"
      },
      "execution_count": 8,
      "outputs": [
        {
          "output_type": "execute_result",
          "data": {
            "text/plain": [
              "10"
            ]
          },
          "metadata": {},
          "execution_count": 8
        }
      ]
    },
    {
      "cell_type": "code",
      "source": [
        "x_in = Input(shape=(INPUT_SIZE,))\n",
        "x1 = Dense(units=HIDDEN_UNITS, activation='relu')(x_in)\n",
        "d1 = Dropout(DROPOUT)(x1)\n",
        "x2 = Dense(units=HIDDEN_UNITS, activation='relu')(d1)\n",
        "d2 = Dropout(DROPOUT)(x2)\n",
        "x_out = Dense(units=NUM_LABELS, activation='softmax')(d2)\n",
        "\n",
        "model = Model(inputs=[x_in], outputs=[x_out])"
      ],
      "metadata": {
        "id": "PErBC9LFNUte"
      },
      "execution_count": 9,
      "outputs": []
    },
    {
      "cell_type": "code",
      "source": [
        "plot_model(model, show_shapes=True)"
      ],
      "metadata": {
        "colab": {
          "base_uri": "https://localhost:8080/",
          "height": 644
        },
        "id": "Uqe1Ba1MRnPg",
        "outputId": "3bf65173-6a5a-417a-e07d-a3f287b98f5b"
      },
      "execution_count": 10,
      "outputs": [
        {
          "output_type": "execute_result",
          "data": {
            "image/png": "[encoded data removed]",
            "text/plain": [
              "<IPython.core.display.Image object>"
            ]
          },
          "metadata": {},
          "execution_count": 10
        }
      ]
    },
    {
      "cell_type": "code",
      "source": [
        "model.summary()"
      ],
      "metadata": {
        "colab": {
          "base_uri": "https://localhost:8080/"
        },
        "id": "y7AO-r1HUOQ2",
        "outputId": "db3567c7-98f2-4ace-bf3a-b6c35dcc1e69"
      },
      "execution_count": 11,
      "outputs": [
        {
          "output_type": "stream",
          "name": "stdout",
          "text": [
            "Model: \"model\"\n",
            "_________________________________________________________________\n",
            " Layer (type)                Output Shape              Param #   \n",
            "=================================================================\n",
            " input_1 (InputLayer)        [(None, 784)]             0         \n",
            "                                                                 \n",
            " dense (Dense)               (None, 256)               200960    \n",
            "                                                                 \n",
            " dropout (Dropout)           (None, 256)               0         \n",
            "                                                                 \n",
            " dense_1 (Dense)             (None, 256)               65792     \n",
            "                                                                 \n",
            " dropout_1 (Dropout)         (None, 256)               0         \n",
            "                                                                 \n",
            " dense_2 (Dense)             (None, 10)                2570      \n",
            "                                                                 \n",
            "=================================================================\n",
            "Total params: 269322 (1.03 MB)\n",
            "Trainable params: 269322 (1.03 MB)\n",
            "Non-trainable params: 0 (0.00 Byte)\n",
            "_________________________________________________________________\n"
          ]
        }
      ]
    },
    {
      "cell_type": "code",
      "source": [
        "EarlyStopping"
      ],
      "metadata": {
        "colab": {
          "base_uri": "https://localhost:8080/",
          "height": 204
        },
        "id": "wDB6k-PVUcwM",
        "outputId": "c6e5204e-fa8e-45bb-8ed3-6bc031d27794"
      },
      "execution_count": 12,
      "outputs": [
        {
          "output_type": "execute_result",
          "data": {
            "text/plain": [
              "keras.src.callbacks.EarlyStopping"
            ],
            "text/html": [
              "<div style=\"max-width:800px; border: 1px solid var(--colab-border-color);\"><style>\n",
              "      pre.function-repr-contents {\n",
              "        overflow-x: auto;\n",
              "        padding: 8px 12px;\n",
              "        max-height: 500px;\n",
              "      }\n",
              "\n",
              "      pre.function-repr-contents.function-repr-contents-collapsed {\n",
              "        cursor: pointer;\n",
              "        max-height: 100px;\n",
              "      }\n",
              "    </style>\n",
              "    <pre style=\"white-space: initial; background:\n",
              "         var(--colab-secondary-surface-color); padding: 8px 12px;\n",
              "         border-bottom: 1px solid var(--colab-border-color);\"><b>keras.src.callbacks.EarlyStopping</b><br/>def __init__(monitor=&#x27;val_loss&#x27;, min_delta=0, patience=0, verbose=0, mode=&#x27;auto&#x27;, baseline=None, restore_best_weights=False, start_from_epoch=0)</pre><pre class=\"function-repr-contents function-repr-contents-collapsed\" style=\"\"><a class=\"filepath\" style=\"display:none\" href=\"#\">/usr/local/lib/python3.10/dist-packages/keras/src/callbacks.py</a>Stop training when a monitored metric has stopped improving.\n",
              "\n",
              "Assuming the goal of a training is to minimize the loss. With this, the\n",
              "metric to be monitored would be `&#x27;loss&#x27;`, and mode would be `&#x27;min&#x27;`. A\n",
              "`model.fit()` training loop will check at end of every epoch whether\n",
              "the loss is no longer decreasing, considering the `min_delta` and\n",
              "`patience` if applicable. Once it&#x27;s found no longer decreasing,\n",
              "`model.stop_training` is marked True and the training terminates.\n",
              "\n",
              "The quantity to be monitored needs to be available in `logs` dict.\n",
              "To make it so, pass the loss or metrics at `model.compile()`.\n",
              "\n",
              "Args:\n",
              "  monitor: Quantity to be monitored.\n",
              "  min_delta: Minimum change in the monitored quantity\n",
              "      to qualify as an improvement, i.e. an absolute\n",
              "      change of less than min_delta, will count as no\n",
              "      improvement.\n",
              "  patience: Number of epochs with no improvement\n",
              "      after which training will be stopped.\n",
              "  verbose: Verbosity mode, 0 or 1. Mode 0 is silent, and mode 1\n",
              "      displays messages when the callback takes an action.\n",
              "  mode: One of `{&quot;auto&quot;, &quot;min&quot;, &quot;max&quot;}`. In `min` mode,\n",
              "      training will stop when the quantity\n",
              "      monitored has stopped decreasing; in `&quot;max&quot;`\n",
              "      mode it will stop when the quantity\n",
              "      monitored has stopped increasing; in `&quot;auto&quot;`\n",
              "      mode, the direction is automatically inferred\n",
              "      from the name of the monitored quantity.\n",
              "  baseline: Baseline value for the monitored quantity.\n",
              "      Training will stop if the model doesn&#x27;t show improvement over the\n",
              "      baseline.\n",
              "  restore_best_weights: Whether to restore model weights from\n",
              "      the epoch with the best value of the monitored quantity.\n",
              "      If False, the model weights obtained at the last step of\n",
              "      training are used. An epoch will be restored regardless\n",
              "      of the performance relative to the `baseline`. If no epoch\n",
              "      improves on `baseline`, training will run for `patience`\n",
              "      epochs and restore weights from the best epoch in that set.\n",
              "  start_from_epoch: Number of epochs to wait before starting\n",
              "      to monitor improvement. This allows for a warm-up period in which\n",
              "      no improvement is expected and thus training will not be stopped.\n",
              "\n",
              "\n",
              "Example:\n",
              "\n",
              "&gt;&gt;&gt; callback = tf.keras.callbacks.EarlyStopping(monitor=&#x27;loss&#x27;, patience=3)\n",
              "&gt;&gt;&gt; # This callback will stop the training when there is no improvement in\n",
              "&gt;&gt;&gt; # the loss for three consecutive epochs.\n",
              "&gt;&gt;&gt; model = tf.keras.models.Sequential([tf.keras.layers.Dense(10)])\n",
              "&gt;&gt;&gt; model.compile(tf.keras.optimizers.SGD(), loss=&#x27;mse&#x27;)\n",
              "&gt;&gt;&gt; history = model.fit(np.arange(100).reshape(5, 20), np.zeros(5),\n",
              "...                     epochs=10, batch_size=1, callbacks=[callback],\n",
              "...                     verbose=0)\n",
              "&gt;&gt;&gt; len(history.history[&#x27;loss&#x27;])  # Only 4 epochs are run.\n",
              "4</pre>\n",
              "      <script>\n",
              "      if (google.colab.kernel.accessAllowed && google.colab.files && google.colab.files.view) {\n",
              "        for (const element of document.querySelectorAll('.filepath')) {\n",
              "          element.style.display = 'block'\n",
              "          element.onclick = (event) => {\n",
              "            event.preventDefault();\n",
              "            event.stopPropagation();\n",
              "            google.colab.files.view(element.textContent, 1980);\n",
              "          };\n",
              "        }\n",
              "      }\n",
              "      for (const element of document.querySelectorAll('.function-repr-contents')) {\n",
              "        element.onclick = (event) => {\n",
              "          event.preventDefault();\n",
              "          event.stopPropagation();\n",
              "          element.classList.toggle('function-repr-contents-collapsed');\n",
              "        };\n",
              "      }\n",
              "      </script>\n",
              "      </div>"
            ]
          },
          "metadata": {},
          "execution_count": 12
        }
      ]
    },
    {
      "cell_type": "code",
      "source": [
        "earlystop = EarlyStopping(monitor='loss', patience=10)"
      ],
      "metadata": {
        "id": "FmL2_ZjFV3-P"
      },
      "execution_count": 13,
      "outputs": []
    },
    {
      "cell_type": "code",
      "source": [
        "ModelCheckpoint"
      ],
      "metadata": {
        "colab": {
          "base_uri": "https://localhost:8080/",
          "height": 222
        },
        "id": "53PzDZcwWW8b",
        "outputId": "57dbdeca-c496-4563-b42e-96bcdc056258"
      },
      "execution_count": 14,
      "outputs": [
        {
          "output_type": "execute_result",
          "data": {
            "text/plain": [
              "keras.src.callbacks.ModelCheckpoint"
            ],
            "text/html": [
              "<div style=\"max-width:800px; border: 1px solid var(--colab-border-color);\"><style>\n",
              "      pre.function-repr-contents {\n",
              "        overflow-x: auto;\n",
              "        padding: 8px 12px;\n",
              "        max-height: 500px;\n",
              "      }\n",
              "\n",
              "      pre.function-repr-contents.function-repr-contents-collapsed {\n",
              "        cursor: pointer;\n",
              "        max-height: 100px;\n",
              "      }\n",
              "    </style>\n",
              "    <pre style=\"white-space: initial; background:\n",
              "         var(--colab-secondary-surface-color); padding: 8px 12px;\n",
              "         border-bottom: 1px solid var(--colab-border-color);\"><b>keras.src.callbacks.ModelCheckpoint</b><br/>def __init__(filepath, monitor: str=&#x27;val_loss&#x27;, verbose: int=0, save_best_only: bool=False, save_weights_only: bool=False, mode: str=&#x27;auto&#x27;, save_freq=&#x27;epoch&#x27;, options=None, initial_value_threshold=None, **kwargs)</pre><pre class=\"function-repr-contents function-repr-contents-collapsed\" style=\"\"><a class=\"filepath\" style=\"display:none\" href=\"#\">/usr/local/lib/python3.10/dist-packages/keras/src/callbacks.py</a>Callback to save the Keras model or model weights at some frequency.\n",
              "\n",
              "`ModelCheckpoint` callback is used in conjunction with training using\n",
              "`model.fit()` to save a model or weights (in a checkpoint file) at some\n",
              "interval, so the model or weights can be loaded later to continue the\n",
              "training from the state saved.\n",
              "\n",
              "A few options this callback provides include:\n",
              "\n",
              "- Whether to only keep the model that has achieved the &quot;best performance&quot; so\n",
              "  far, or whether to save the model at the end of every epoch regardless of\n",
              "  performance.\n",
              "- Definition of &#x27;best&#x27;; which quantity to monitor and whether it should be\n",
              "  maximized or minimized.\n",
              "- The frequency it should save at. Currently, the callback supports saving\n",
              "  at the end of every epoch, or after a fixed number of training batches.\n",
              "- Whether only weights are saved, or the whole model is saved.\n",
              "\n",
              "Note: If you get `WARNING:tensorflow:Can save best model only with &lt;name&gt;\n",
              "available, skipping` see the description of the `monitor` argument for\n",
              "details on how to get this right.\n",
              "\n",
              "Example:\n",
              "\n",
              "```python\n",
              "model.compile(loss=..., optimizer=...,\n",
              "              metrics=[&#x27;accuracy&#x27;])\n",
              "\n",
              "EPOCHS = 10\n",
              "checkpoint_filepath = &#x27;/tmp/checkpoint&#x27;\n",
              "model_checkpoint_callback = tf.keras.callbacks.ModelCheckpoint(\n",
              "    filepath=checkpoint_filepath,\n",
              "    save_weights_only=True,\n",
              "    monitor=&#x27;val_accuracy&#x27;,\n",
              "    mode=&#x27;max&#x27;,\n",
              "    save_best_only=True)\n",
              "\n",
              "# Model weights are saved at the end of every epoch, if it&#x27;s the best seen\n",
              "# so far.\n",
              "model.fit(epochs=EPOCHS, callbacks=[model_checkpoint_callback])\n",
              "\n",
              "# The model weights (that are considered the best) are loaded into the\n",
              "# model.\n",
              "model.load_weights(checkpoint_filepath)\n",
              "```\n",
              "\n",
              "Args:\n",
              "    filepath: string or `PathLike`, path to save the model file. e.g.\n",
              "      filepath = os.path.join(working_dir, &#x27;ckpt&#x27;, file_name). `filepath`\n",
              "      can contain named formatting options, which will be filled the value\n",
              "      of `epoch` and keys in `logs` (passed in `on_epoch_end`). For example:\n",
              "      if `filepath` is `weights.{epoch:02d}-{val_loss:.2f}.hdf5`, then the\n",
              "      model checkpoints will be saved with the epoch number and the\n",
              "      validation loss in the filename. The directory of the filepath should\n",
              "      not be reused by any other callbacks to avoid conflicts.\n",
              "    monitor: The metric name to monitor. Typically the metrics are set by\n",
              "      the `Model.compile` method. Note:\n",
              "\n",
              "      * Prefix the name with `&quot;val_`&quot; to monitor validation metrics.\n",
              "      * Use `&quot;loss&quot;` or &quot;`val_loss`&quot; to monitor the model&#x27;s total loss.\n",
              "      * If you specify metrics as strings, like `&quot;accuracy&quot;`, pass the same\n",
              "        string (with or without the `&quot;val_&quot;` prefix).\n",
              "      * If you pass `metrics.Metric` objects, `monitor` should be set to\n",
              "        `metric.name`\n",
              "      * If you&#x27;re not sure about the metric names you can check the contents\n",
              "        of the `history.history` dictionary returned by\n",
              "        `history = model.fit()`\n",
              "      * Multi-output models set additional prefixes on the metric names.\n",
              "\n",
              "    verbose: Verbosity mode, 0 or 1. Mode 0 is silent, and mode 1\n",
              "      displays messages when the callback takes an action.\n",
              "    save_best_only: if `save_best_only=True`, it only saves when the model\n",
              "      is considered the &quot;best&quot; and the latest best model according to the\n",
              "      quantity monitored will not be overwritten. If `filepath` doesn&#x27;t\n",
              "      contain formatting options like `{epoch}` then `filepath` will be\n",
              "      overwritten by each new better model.\n",
              "    mode: one of {&#x27;auto&#x27;, &#x27;min&#x27;, &#x27;max&#x27;}. If `save_best_only=True`, the\n",
              "      decision to overwrite the current save file is made based on either\n",
              "      the maximization or the minimization of the monitored quantity.\n",
              "      For `val_acc`, this should be `max`, for `val_loss` this should be\n",
              "      `min`, etc. In `auto` mode, the mode is set to `max` if the quantities\n",
              "      monitored are &#x27;acc&#x27; or start with &#x27;fmeasure&#x27; and are set to `min` for\n",
              "      the rest of the quantities.\n",
              "    save_weights_only: if True, then only the model&#x27;s weights will be saved\n",
              "      (`model.save_weights(filepath)`), else the full model is saved\n",
              "      (`model.save(filepath)`).\n",
              "    save_freq: `&#x27;epoch&#x27;` or integer. When using `&#x27;epoch&#x27;`, the callback\n",
              "      saves the model after each epoch. When using integer, the callback\n",
              "      saves the model at end of this many batches. If the `Model` is\n",
              "      compiled with `steps_per_execution=N`, then the saving criteria will\n",
              "      be checked every Nth batch. Note that if the saving isn&#x27;t aligned to\n",
              "      epochs, the monitored metric may potentially be less reliable (it\n",
              "      could reflect as little as 1 batch, since the metrics get reset every\n",
              "      epoch). Defaults to `&#x27;epoch&#x27;`.\n",
              "    options: Optional `tf.train.CheckpointOptions` object if\n",
              "      `save_weights_only` is true or optional `tf.saved_model.SaveOptions`\n",
              "      object if `save_weights_only` is false.\n",
              "    initial_value_threshold: Floating point initial &quot;best&quot; value of the\n",
              "      metric to be monitored. Only applies if `save_best_value=True`. Only\n",
              "      overwrites the model weights already saved if the performance of\n",
              "      current model is better than this value.\n",
              "    **kwargs: Additional arguments for backwards compatibility. Possible key\n",
              "      is `period`.</pre>\n",
              "      <script>\n",
              "      if (google.colab.kernel.accessAllowed && google.colab.files && google.colab.files.view) {\n",
              "        for (const element of document.querySelectorAll('.filepath')) {\n",
              "          element.style.display = 'block'\n",
              "          element.onclick = (event) => {\n",
              "            event.preventDefault();\n",
              "            event.stopPropagation();\n",
              "            google.colab.files.view(element.textContent, 1224);\n",
              "          };\n",
              "        }\n",
              "      }\n",
              "      for (const element of document.querySelectorAll('.function-repr-contents')) {\n",
              "        element.onclick = (event) => {\n",
              "          event.preventDefault();\n",
              "          event.stopPropagation();\n",
              "          element.classList.toggle('function-repr-contents-collapsed');\n",
              "        };\n",
              "      }\n",
              "      </script>\n",
              "      </div>"
            ]
          },
          "metadata": {},
          "execution_count": 14
        }
      ]
    },
    {
      "cell_type": "code",
      "source": [
        "roc_auc_score"
      ],
      "metadata": {
        "colab": {
          "base_uri": "https://localhost:8080/",
          "height": 204
        },
        "id": "54-a6KWNWZkf",
        "outputId": "66143809-9e14-4f0b-bc1d-2059fc6740c2"
      },
      "execution_count": 15,
      "outputs": [
        {
          "output_type": "execute_result",
          "data": {
            "text/plain": [
              "<function sklearn.metrics._ranking.roc_auc_score(y_true, y_score, *, average='macro', sample_weight=None, max_fpr=None, multi_class='raise', labels=None)>"
            ],
            "text/html": [
              "<div style=\"max-width:800px; border: 1px solid var(--colab-border-color);\"><style>\n",
              "      pre.function-repr-contents {\n",
              "        overflow-x: auto;\n",
              "        padding: 8px 12px;\n",
              "        max-height: 500px;\n",
              "      }\n",
              "\n",
              "      pre.function-repr-contents.function-repr-contents-collapsed {\n",
              "        cursor: pointer;\n",
              "        max-height: 100px;\n",
              "      }\n",
              "    </style>\n",
              "    <pre style=\"white-space: initial; background:\n",
              "         var(--colab-secondary-surface-color); padding: 8px 12px;\n",
              "         border-bottom: 1px solid var(--colab-border-color);\"><b>sklearn.metrics._ranking.roc_auc_score</b><br/>def roc_auc_score(y_true, y_score, *, average=&#x27;macro&#x27;, sample_weight=None, max_fpr=None, multi_class=&#x27;raise&#x27;, labels=None)</pre><pre class=\"function-repr-contents function-repr-contents-collapsed\" style=\"\"><a class=\"filepath\" style=\"display:none\" href=\"#\">/usr/local/lib/python3.10/dist-packages/sklearn/metrics/_ranking.py</a>Compute Area Under the Receiver Operating Characteristic Curve (ROC AUC)     from prediction scores.\n",
              "\n",
              "Note: this implementation can be used with binary, multiclass and\n",
              "multilabel classification, but some restrictions apply (see Parameters).\n",
              "\n",
              "Read more in the :ref:`User Guide &lt;roc_metrics&gt;`.\n",
              "\n",
              "Parameters\n",
              "----------\n",
              "y_true : array-like of shape (n_samples,) or (n_samples, n_classes)\n",
              "    True labels or binary label indicators. The binary and multiclass cases\n",
              "    expect labels with shape (n_samples,) while the multilabel case expects\n",
              "    binary label indicators with shape (n_samples, n_classes).\n",
              "\n",
              "y_score : array-like of shape (n_samples,) or (n_samples, n_classes)\n",
              "    Target scores.\n",
              "\n",
              "    * In the binary case, it corresponds to an array of shape\n",
              "      `(n_samples,)`. Both probability estimates and non-thresholded\n",
              "      decision values can be provided. The probability estimates correspond\n",
              "      to the **probability of the class with the greater label**,\n",
              "      i.e. `estimator.classes_[1]` and thus\n",
              "      `estimator.predict_proba(X, y)[:, 1]`. The decision values\n",
              "      corresponds to the output of `estimator.decision_function(X, y)`.\n",
              "      See more information in the :ref:`User guide &lt;roc_auc_binary&gt;`;\n",
              "    * In the multiclass case, it corresponds to an array of shape\n",
              "      `(n_samples, n_classes)` of probability estimates provided by the\n",
              "      `predict_proba` method. The probability estimates **must**\n",
              "      sum to 1 across the possible classes. In addition, the order of the\n",
              "      class scores must correspond to the order of ``labels``,\n",
              "      if provided, or else to the numerical or lexicographical order of\n",
              "      the labels in ``y_true``. See more information in the\n",
              "      :ref:`User guide &lt;roc_auc_multiclass&gt;`;\n",
              "    * In the multilabel case, it corresponds to an array of shape\n",
              "      `(n_samples, n_classes)`. Probability estimates are provided by the\n",
              "      `predict_proba` method and the non-thresholded decision values by\n",
              "      the `decision_function` method. The probability estimates correspond\n",
              "      to the **probability of the class with the greater label for each\n",
              "      output** of the classifier. See more information in the\n",
              "      :ref:`User guide &lt;roc_auc_multilabel&gt;`.\n",
              "\n",
              "average : {&#x27;micro&#x27;, &#x27;macro&#x27;, &#x27;samples&#x27;, &#x27;weighted&#x27;} or None,             default=&#x27;macro&#x27;\n",
              "    If ``None``, the scores for each class are returned.\n",
              "    Otherwise, this determines the type of averaging performed on the data.\n",
              "    Note: multiclass ROC AUC currently only handles the &#x27;macro&#x27; and\n",
              "    &#x27;weighted&#x27; averages. For multiclass targets, `average=None` is only\n",
              "    implemented for `multi_class=&#x27;ovr&#x27;` and `average=&#x27;micro&#x27;` is only\n",
              "    implemented for `multi_class=&#x27;ovr&#x27;`.\n",
              "\n",
              "    ``&#x27;micro&#x27;``:\n",
              "        Calculate metrics globally by considering each element of the label\n",
              "        indicator matrix as a label.\n",
              "    ``&#x27;macro&#x27;``:\n",
              "        Calculate metrics for each label, and find their unweighted\n",
              "        mean.  This does not take label imbalance into account.\n",
              "    ``&#x27;weighted&#x27;``:\n",
              "        Calculate metrics for each label, and find their average, weighted\n",
              "        by support (the number of true instances for each label).\n",
              "    ``&#x27;samples&#x27;``:\n",
              "        Calculate metrics for each instance, and find their average.\n",
              "\n",
              "    Will be ignored when ``y_true`` is binary.\n",
              "\n",
              "sample_weight : array-like of shape (n_samples,), default=None\n",
              "    Sample weights.\n",
              "\n",
              "max_fpr : float &gt; 0 and &lt;= 1, default=None\n",
              "    If not ``None``, the standardized partial AUC [2]_ over the range\n",
              "    [0, max_fpr] is returned. For the multiclass case, ``max_fpr``,\n",
              "    should be either equal to ``None`` or ``1.0`` as AUC ROC partial\n",
              "    computation currently is not supported for multiclass.\n",
              "\n",
              "multi_class : {&#x27;raise&#x27;, &#x27;ovr&#x27;, &#x27;ovo&#x27;}, default=&#x27;raise&#x27;\n",
              "    Only used for multiclass targets. Determines the type of configuration\n",
              "    to use. The default value raises an error, so either\n",
              "    ``&#x27;ovr&#x27;`` or ``&#x27;ovo&#x27;`` must be passed explicitly.\n",
              "\n",
              "    ``&#x27;ovr&#x27;``:\n",
              "        Stands for One-vs-rest. Computes the AUC of each class\n",
              "        against the rest [3]_ [4]_. This\n",
              "        treats the multiclass case in the same way as the multilabel case.\n",
              "        Sensitive to class imbalance even when ``average == &#x27;macro&#x27;``,\n",
              "        because class imbalance affects the composition of each of the\n",
              "        &#x27;rest&#x27; groupings.\n",
              "    ``&#x27;ovo&#x27;``:\n",
              "        Stands for One-vs-one. Computes the average AUC of all\n",
              "        possible pairwise combinations of classes [5]_.\n",
              "        Insensitive to class imbalance when\n",
              "        ``average == &#x27;macro&#x27;``.\n",
              "\n",
              "labels : array-like of shape (n_classes,), default=None\n",
              "    Only used for multiclass targets. List of labels that index the\n",
              "    classes in ``y_score``. If ``None``, the numerical or lexicographical\n",
              "    order of the labels in ``y_true`` is used.\n",
              "\n",
              "Returns\n",
              "-------\n",
              "auc : float\n",
              "    Area Under the Curve score.\n",
              "\n",
              "See Also\n",
              "--------\n",
              "average_precision_score : Area under the precision-recall curve.\n",
              "roc_curve : Compute Receiver operating characteristic (ROC) curve.\n",
              "RocCurveDisplay.from_estimator : Plot Receiver Operating Characteristic\n",
              "    (ROC) curve given an estimator and some data.\n",
              "RocCurveDisplay.from_predictions : Plot Receiver Operating Characteristic\n",
              "    (ROC) curve given the true and predicted values.\n",
              "\n",
              "References\n",
              "----------\n",
              ".. [1] `Wikipedia entry for the Receiver operating characteristic\n",
              "        &lt;https://en.wikipedia.org/wiki/Receiver_operating_characteristic&gt;`_\n",
              "\n",
              ".. [2] `Analyzing a portion of the ROC curve. McClish, 1989\n",
              "        &lt;https://www.ncbi.nlm.nih.gov/pubmed/2668680&gt;`_\n",
              "\n",
              ".. [3] Provost, F., Domingos, P. (2000). Well-trained PETs: Improving\n",
              "       probability estimation trees (Section 6.2), CeDER Working Paper\n",
              "       #IS-00-04, Stern School of Business, New York University.\n",
              "\n",
              ".. [4] `Fawcett, T. (2006). An introduction to ROC analysis. Pattern\n",
              "        Recognition Letters, 27(8), 861-874.\n",
              "        &lt;https://www.sciencedirect.com/science/article/pii/S016786550500303X&gt;`_\n",
              "\n",
              ".. [5] `Hand, D.J., Till, R.J. (2001). A Simple Generalisation of the Area\n",
              "        Under the ROC Curve for Multiple Class Classification Problems.\n",
              "        Machine Learning, 45(2), 171-186.\n",
              "        &lt;http://link.springer.com/article/10.1023/A:1010920819831&gt;`_\n",
              "\n",
              "Examples\n",
              "--------\n",
              "Binary case:\n",
              "\n",
              "&gt;&gt;&gt; from sklearn.datasets import load_breast_cancer\n",
              "&gt;&gt;&gt; from sklearn.linear_model import LogisticRegression\n",
              "&gt;&gt;&gt; from sklearn.metrics import roc_auc_score\n",
              "&gt;&gt;&gt; X, y = load_breast_cancer(return_X_y=True)\n",
              "&gt;&gt;&gt; clf = LogisticRegression(solver=&quot;liblinear&quot;, random_state=0).fit(X, y)\n",
              "&gt;&gt;&gt; roc_auc_score(y, clf.predict_proba(X)[:, 1])\n",
              "0.99...\n",
              "&gt;&gt;&gt; roc_auc_score(y, clf.decision_function(X))\n",
              "0.99...\n",
              "\n",
              "Multiclass case:\n",
              "\n",
              "&gt;&gt;&gt; from sklearn.datasets import load_iris\n",
              "&gt;&gt;&gt; X, y = load_iris(return_X_y=True)\n",
              "&gt;&gt;&gt; clf = LogisticRegression(solver=&quot;liblinear&quot;).fit(X, y)\n",
              "&gt;&gt;&gt; roc_auc_score(y, clf.predict_proba(X), multi_class=&#x27;ovr&#x27;)\n",
              "0.99...\n",
              "\n",
              "Multilabel case:\n",
              "\n",
              "&gt;&gt;&gt; import numpy as np\n",
              "&gt;&gt;&gt; from sklearn.datasets import make_multilabel_classification\n",
              "&gt;&gt;&gt; from sklearn.multioutput import MultiOutputClassifier\n",
              "&gt;&gt;&gt; X, y = make_multilabel_classification(random_state=0)\n",
              "&gt;&gt;&gt; clf = MultiOutputClassifier(clf).fit(X, y)\n",
              "&gt;&gt;&gt; # get a list of n_output containing probability arrays of shape\n",
              "&gt;&gt;&gt; # (n_samples, n_classes)\n",
              "&gt;&gt;&gt; y_pred = clf.predict_proba(X)\n",
              "&gt;&gt;&gt; # extract the positive columns for each output\n",
              "&gt;&gt;&gt; y_pred = np.transpose([pred[:, 1] for pred in y_pred])\n",
              "&gt;&gt;&gt; roc_auc_score(y, y_pred, average=None)\n",
              "array([0.82..., 0.86..., 0.94..., 0.85... , 0.94...])\n",
              "&gt;&gt;&gt; from sklearn.linear_model import RidgeClassifierCV\n",
              "&gt;&gt;&gt; clf = RidgeClassifierCV().fit(X, y)\n",
              "&gt;&gt;&gt; roc_auc_score(y, clf.decision_function(X), average=None)\n",
              "array([0.81..., 0.84... , 0.93..., 0.87..., 0.94...])</pre>\n",
              "      <script>\n",
              "      if (google.colab.kernel.accessAllowed && google.colab.files && google.colab.files.view) {\n",
              "        for (const element of document.querySelectorAll('.filepath')) {\n",
              "          element.style.display = 'block'\n",
              "          element.onclick = (event) => {\n",
              "            event.preventDefault();\n",
              "            event.stopPropagation();\n",
              "            google.colab.files.view(element.textContent, 365);\n",
              "          };\n",
              "        }\n",
              "      }\n",
              "      for (const element of document.querySelectorAll('.function-repr-contents')) {\n",
              "        element.onclick = (event) => {\n",
              "          event.preventDefault();\n",
              "          event.stopPropagation();\n",
              "          element.classList.toggle('function-repr-contents-collapsed');\n",
              "        };\n",
              "      }\n",
              "      </script>\n",
              "      </div>"
            ]
          },
          "metadata": {},
          "execution_count": 15
        }
      ]
    },
    {
      "cell_type": "code",
      "source": [
        "!mkdir model_output\n",
        "!ls /content/*"
      ],
      "metadata": {
        "colab": {
          "base_uri": "https://localhost:8080/"
        },
        "id": "PNk7tKLBccVt",
        "outputId": "b3dfeaca-a22e-4a23-92cc-61414630e52c"
      },
      "execution_count": 16,
      "outputs": [
        {
          "output_type": "stream",
          "name": "stdout",
          "text": [
            "mkdir: cannot create directory ‘model_output’: File exists\n",
            "/content/model.png\n",
            "\n",
            "/content/model_output:\n",
            "weights-01-0.270999.h5\tweights-03.h5\t\tweights-07.h5  weights-12.h5  weights-17.h5\n",
            "weights-01.h5\t\tweights-04-0.258953.h5\tweights-08.h5  weights-13.h5  weights-18.h5\n",
            "weights-02-0.271904.h5\tweights-04.h5\t\tweights-09.h5  weights-14.h5  weights-19.h5\n",
            "weights-02.h5\t\tweights-05.h5\t\tweights-10.h5  weights-15.h5  weights-20.h5\n",
            "weights-03-0.263734.h5\tweights-06.h5\t\tweights-11.h5  weights-16.h5  weights.h5\n",
            "\n",
            "/content/sample_data:\n",
            "anscombe.json\t\t     california_housing_train.csv  mnist_train_small.csv\n",
            "california_housing_test.csv  mnist_test.csv\t\t   README.md\n"
          ]
        }
      ]
    },
    {
      "cell_type": "code",
      "source": [
        "filepath='/content/model_output' + '/weights-{epoch:02d}.h5'\n",
        "checkpoint = ModelCheckpoint(filepath=filepath,\n",
        "                             save_weights_only=True,\n",
        "                             monitor='val_loss',\n",
        "                             mode='min',\n",
        "                             save_best_only=False,\n",
        "                             save_freq='epoch')"
      ],
      "metadata": {
        "id": "Mao2TmfOWvc4"
      },
      "execution_count": 17,
      "outputs": []
    },
    {
      "cell_type": "code",
      "source": [
        "class my_custom_callback(Callback):\n",
        "  def __init__(self, features, target):\n",
        "    self.test_data = (features, target)\n",
        "    self.auc = []\n",
        "\n",
        "  def on_epoch_end(self, epoch, logs=None):\n",
        "    y_pred = self.model.predict(self.test_data[0])\n",
        "    auc = roc_auc_score(self.test_data[1], y_pred)\n",
        "    print(' \\n auc score for val set :', auc, '\\n')\n",
        "    self.auc.append((epoch, auc))\n",
        "    return"
      ],
      "metadata": {
        "id": "Fk4s8UnjdhZG"
      },
      "execution_count": 18,
      "outputs": []
    },
    {
      "cell_type": "code",
      "source": [
        "model.compile(optimizer='adam', loss='categorical_crossentropy', metrics=['acc'])"
      ],
      "metadata": {
        "id": "_kWjCRGqfLps"
      },
      "execution_count": 19,
      "outputs": []
    },
    {
      "cell_type": "code",
      "source": [
        "mycallback=my_custom_callback(X_test_tensor_reshaped, y_test_one_hot)"
      ],
      "metadata": {
        "id": "ZZENjguvf7zo"
      },
      "execution_count": 20,
      "outputs": []
    },
    {
      "cell_type": "code",
      "source": [
        "model.fit(X_train_tensor_reshaped, y_train_one_hot, epochs=20, batch_size=BATCH_SIZE, verbose=1,\n",
        "          validation_data=(X_test_tensor_reshaped, y_test_one_hot), callbacks=[mycallback, earlystop, checkpoint])"
      ],
      "metadata": {
        "colab": {
          "base_uri": "https://localhost:8080/"
        },
        "id": "FxbJOpE7iJ69",
        "outputId": "a2fef84c-0480-4623-bbb6-2e97aa016b7f"
      },
      "execution_count": 23,
      "outputs": [
        {
          "output_type": "stream",
          "name": "stdout",
          "text": [
            "Epoch 1/20\n",
            "313/313 [==============================] - 1s 2ms/step\n",
            " \n",
            " auc score for val set : 0.9974690307259296 \n",
            "\n",
            "469/469 [==============================] - 5s 11ms/step - loss: 0.2819 - acc: 0.9275 - val_loss: 0.1892 - val_acc: 0.9524\n",
            "Epoch 2/20\n",
            "313/313 [==============================] - 1s 2ms/step\n",
            " \n",
            " auc score for val set : 0.9972765145173312 \n",
            "\n",
            "469/469 [==============================] - 8s 17ms/step - loss: 0.2774 - acc: 0.9288 - val_loss: 0.1878 - val_acc: 0.9545\n",
            "Epoch 3/20\n",
            "313/313 [==============================] - 1s 3ms/step\n",
            " \n",
            " auc score for val set : 0.9978857224405326 \n",
            "\n",
            "469/469 [==============================] - 6s 13ms/step - loss: 0.2736 - acc: 0.9311 - val_loss: 0.1705 - val_acc: 0.9567\n",
            "Epoch 4/20\n",
            "313/313 [==============================] - 1s 3ms/step\n",
            " \n",
            " auc score for val set : 0.9977306932157184 \n",
            "\n",
            "469/469 [==============================] - 10s 22ms/step - loss: 0.2696 - acc: 0.9328 - val_loss: 0.1763 - val_acc: 0.9563\n",
            "Epoch 5/20\n",
            "313/313 [==============================] - 1s 3ms/step\n",
            " \n",
            " auc score for val set : 0.9977557257250437 \n",
            "\n",
            "469/469 [==============================] - 9s 18ms/step - loss: 0.2666 - acc: 0.9325 - val_loss: 0.1681 - val_acc: 0.9569\n",
            "Epoch 6/20\n",
            "313/313 [==============================] - 1s 3ms/step\n",
            " \n",
            " auc score for val set : 0.9976546660371767 \n",
            "\n",
            "469/469 [==============================] - 9s 20ms/step - loss: 0.2620 - acc: 0.9337 - val_loss: 0.1803 - val_acc: 0.9578\n",
            "Epoch 7/20\n",
            "313/313 [==============================] - 1s 3ms/step\n",
            " \n",
            " auc score for val set : 0.9979551577608676 \n",
            "\n",
            "469/469 [==============================] - 8s 18ms/step - loss: 0.2644 - acc: 0.9320 - val_loss: 0.1669 - val_acc: 0.9593\n",
            "Epoch 8/20\n",
            "313/313 [==============================] - 1s 3ms/step\n",
            " \n",
            " auc score for val set : 0.9977934280946398 \n",
            "\n",
            "469/469 [==============================] - 9s 20ms/step - loss: 0.2587 - acc: 0.9356 - val_loss: 0.1722 - val_acc: 0.9573\n",
            "Epoch 9/20\n",
            "313/313 [==============================] - 1s 3ms/step\n",
            " \n",
            " auc score for val set : 0.9974453691966808 \n",
            "\n",
            "469/469 [==============================] - 8s 18ms/step - loss: 0.2510 - acc: 0.9376 - val_loss: 0.1907 - val_acc: 0.9581\n",
            "Epoch 10/20\n",
            "313/313 [==============================] - 1s 3ms/step\n",
            " \n",
            " auc score for val set : 0.9973656255707999 \n",
            "\n",
            "469/469 [==============================] - 10s 20ms/step - loss: 0.2554 - acc: 0.9375 - val_loss: 0.1902 - val_acc: 0.9588\n",
            "Epoch 11/20\n",
            "313/313 [==============================] - 1s 3ms/step\n",
            " \n",
            " auc score for val set : 0.9977014749424343 \n",
            "\n",
            "469/469 [==============================] - 9s 18ms/step - loss: 0.2468 - acc: 0.9376 - val_loss: 0.1797 - val_acc: 0.9586\n",
            "Epoch 12/20\n",
            "313/313 [==============================] - 1s 3ms/step\n",
            " \n",
            " auc score for val set : 0.9977242278364116 \n",
            "\n",
            "469/469 [==============================] - 9s 20ms/step - loss: 0.2474 - acc: 0.9376 - val_loss: 0.1742 - val_acc: 0.9612\n",
            "Epoch 13/20\n",
            "313/313 [==============================] - 1s 4ms/step\n",
            " \n",
            " auc score for val set : 0.9980558250382972 \n",
            "\n",
            "469/469 [==============================] - 8s 18ms/step - loss: 0.2461 - acc: 0.9402 - val_loss: 0.1611 - val_acc: 0.9625\n",
            "Epoch 14/20\n",
            "313/313 [==============================] - 1s 3ms/step\n",
            " \n",
            " auc score for val set : 0.9979007435038486 \n",
            "\n",
            "469/469 [==============================] - 9s 19ms/step - loss: 0.2458 - acc: 0.9377 - val_loss: 0.1727 - val_acc: 0.9580\n",
            "Epoch 15/20\n",
            "313/313 [==============================] - 1s 4ms/step\n",
            " \n",
            " auc score for val set : 0.9977621820257934 \n",
            "\n",
            "469/469 [==============================] - 9s 19ms/step - loss: 0.2428 - acc: 0.9402 - val_loss: 0.1787 - val_acc: 0.9577\n",
            "Epoch 16/20\n",
            "313/313 [==============================] - 1s 3ms/step\n",
            " \n",
            " auc score for val set : 0.9976091406969838 \n",
            "\n",
            "469/469 [==============================] - 9s 20ms/step - loss: 0.2414 - acc: 0.9387 - val_loss: 0.1803 - val_acc: 0.9584\n",
            "Epoch 17/20\n",
            "313/313 [==============================] - 1s 3ms/step\n",
            " \n",
            " auc score for val set : 0.9978659307919507 \n",
            "\n",
            "469/469 [==============================] - 8s 18ms/step - loss: 0.2384 - acc: 0.9412 - val_loss: 0.1772 - val_acc: 0.9586\n",
            "Epoch 18/20\n",
            "313/313 [==============================] - 2s 5ms/step\n",
            " \n",
            " auc score for val set : 0.9977565378971149 \n",
            "\n",
            "469/469 [==============================] - 12s 26ms/step - loss: 0.2362 - acc: 0.9410 - val_loss: 0.1753 - val_acc: 0.9603\n",
            "Epoch 19/20\n",
            "313/313 [==============================] - 1s 3ms/step\n",
            " \n",
            " auc score for val set : 0.9978921173865978 \n",
            "\n",
            "469/469 [==============================] - 13s 27ms/step - loss: 0.2402 - acc: 0.9417 - val_loss: 0.1765 - val_acc: 0.9599\n",
            "Epoch 20/20\n",
            "313/313 [==============================] - 2s 5ms/step\n",
            " \n",
            " auc score for val set : 0.9979797644659044 \n",
            "\n",
            "469/469 [==============================] - 13s 29ms/step - loss: 0.2359 - acc: 0.9404 - val_loss: 0.1719 - val_acc: 0.9620\n"
          ]
        },
        {
          "output_type": "execute_result",
          "data": {
            "text/plain": [
              "<keras.src.callbacks.History at 0x7a04f4147760>"
            ]
          },
          "metadata": {},
          "execution_count": 23
        }
      ]
    },
    {
      "cell_type": "code",
      "source": [
        "model_json = model.to_json()\n",
        "\n",
        "with open('model.json', 'w') as json_file:\n",
        "  json_file.write(model_json)"
      ],
      "metadata": {
        "id": "gkgjKEXMmPcu"
      },
      "execution_count": 25,
      "outputs": []
    },
    {
      "cell_type": "code",
      "source": [
        "json_file = open('model.json', 'r')\n",
        "loaded_model_json = json_file.read()\n",
        "json_file.close()\n",
        "loaded_model = model_from_json(loaded_model_json)"
      ],
      "metadata": {
        "id": "jng7Gb-GjY1z"
      },
      "execution_count": 26,
      "outputs": []
    },
    {
      "cell_type": "code",
      "source": [
        "loaded_model.summary()"
      ],
      "metadata": {
        "colab": {
          "base_uri": "https://localhost:8080/"
        },
        "id": "j-qJCm69o-ME",
        "outputId": "fe0be17d-ba43-4e5a-9b11-b89a7cfb48bf"
      },
      "execution_count": 27,
      "outputs": [
        {
          "output_type": "stream",
          "name": "stdout",
          "text": [
            "Model: \"model\"\n",
            "_________________________________________________________________\n",
            " Layer (type)                Output Shape              Param #   \n",
            "=================================================================\n",
            " input_1 (InputLayer)        [(None, 784)]             0         \n",
            "                                                                 \n",
            " dense (Dense)               (None, 256)               200960    \n",
            "                                                                 \n",
            " dropout (Dropout)           (None, 256)               0         \n",
            "                                                                 \n",
            " dense_1 (Dense)             (None, 256)               65792     \n",
            "                                                                 \n",
            " dropout_1 (Dropout)         (None, 256)               0         \n",
            "                                                                 \n",
            " dense_2 (Dense)             (None, 10)                2570      \n",
            "                                                                 \n",
            "=================================================================\n",
            "Total params: 269322 (1.03 MB)\n",
            "Trainable params: 269322 (1.03 MB)\n",
            "Non-trainable params: 0 (0.00 Byte)\n",
            "_________________________________________________________________\n"
          ]
        }
      ]
    },
    {
      "cell_type": "code",
      "source": [
        "loaded_model.load_weights('/content/model_output/weights-15.h5')\n"
      ],
      "metadata": {
        "id": "J3BRu0uWpDOn"
      },
      "execution_count": 28,
      "outputs": []
    },
    {
      "cell_type": "code",
      "source": [
        "p = loaded_model.predict(X_test_tensor_reshaped)\n",
        "labels_test_predicted = np.argmax(p, axis=1)\n",
        "labels_test_predicted"
      ],
      "metadata": {
        "colab": {
          "base_uri": "https://localhost:8080/"
        },
        "id": "ID3FhiYbpjO4",
        "outputId": "e59cb13d-5ddd-425c-cbc7-dbc8ab6867c9"
      },
      "execution_count": 30,
      "outputs": [
        {
          "output_type": "stream",
          "name": "stdout",
          "text": [
            "313/313 [==============================] - 1s 3ms/step\n"
          ]
        },
        {
          "output_type": "execute_result",
          "data": {
            "text/plain": [
              "array([7, 2, 1, ..., 4, 5, 6])"
            ]
          },
          "metadata": {},
          "execution_count": 30
        }
      ]
    },
    {
      "cell_type": "code",
      "source": [
        "pd.crosstab(np.argmax(y_test_one_hot, 1), np.argmax(p, 1))"
      ],
      "metadata": {
        "colab": {
          "base_uri": "https://localhost:8080/",
          "height": 394
        },
        "id": "s6oIFHDOptPC",
        "outputId": "55fc8e48-0869-4a78-fbd7-2b3e25a6ab3f"
      },
      "execution_count": 31,
      "outputs": [
        {
          "output_type": "execute_result",
          "data": {
            "text/plain": [
              "col_0    0     1    2    3    4    5    6    7    8    9\n",
              "row_0                                                   \n",
              "0      966     0    0    0    0    1    5    1    6    1\n",
              "1        0  1120    2    0    0    1    3    0    9    0\n",
              "2        5     1  986    7    3    0    3    7   18    2\n",
              "3        0     1   12  960    0   10    2    9   11    5\n",
              "4        1     0    2    0  939    0    8    3    6   23\n",
              "5        3     0    0   24    2  822   17    0   20    4\n",
              "6        8     2    0    0    2    3  934    0    9    0\n",
              "7        3     3   16    2    1    0    0  980   10   13\n",
              "8        6     0    2    5    8    8   12    4  926    3\n",
              "9        7     4    0   12   15    5    0    8   16  942"
            ],
            "text/html": [
              "\n",
              "  <div id=\"df-986264eb-c823-4f98-bbc0-0b0b57c8ef6f\" class=\"colab-df-container\">\n",
              "    <div>\n",
              "<style scoped>\n",
              "    .dataframe tbody tr th:only-of-type {\n",
              "        vertical-align: middle;\n",
              "    }\n",
              "\n",
              "    .dataframe tbody tr th {\n",
              "        vertical-align: top;\n",
              "    }\n",
              "\n",
              "    .dataframe thead th {\n",
              "        text-align: right;\n",
              "    }\n",
              "</style>\n",
              "<table border=\"1\" class=\"dataframe\">\n",
              "  <thead>\n",
              "    <tr style=\"text-align: right;\">\n",
              "      <th>col_0</th>\n",
              "      <th>0</th>\n",
              "      <th>1</th>\n",
              "      <th>2</th>\n",
              "      <th>3</th>\n",
              "      <th>4</th>\n",
              "      <th>5</th>\n",
              "      <th>6</th>\n",
              "      <th>7</th>\n",
              "      <th>8</th>\n",
              "      <th>9</th>\n",
              "    </tr>\n",
              "    <tr>\n",
              "      <th>row_0</th>\n",
              "      <th></th>\n",
              "      <th></th>\n",
              "      <th></th>\n",
              "      <th></th>\n",
              "      <th></th>\n",
              "      <th></th>\n",
              "      <th></th>\n",
              "      <th></th>\n",
              "      <th></th>\n",
              "      <th></th>\n",
              "    </tr>\n",
              "  </thead>\n",
              "  <tbody>\n",
              "    <tr>\n",
              "      <th>0</th>\n",
              "      <td>966</td>\n",
              "      <td>0</td>\n",
              "      <td>0</td>\n",
              "      <td>0</td>\n",
              "      <td>0</td>\n",
              "      <td>1</td>\n",
              "      <td>5</td>\n",
              "      <td>1</td>\n",
              "      <td>6</td>\n",
              "      <td>1</td>\n",
              "    </tr>\n",
              "    <tr>\n",
              "      <th>1</th>\n",
              "      <td>0</td>\n",
              "      <td>1120</td>\n",
              "      <td>2</td>\n",
              "      <td>0</td>\n",
              "      <td>0</td>\n",
              "      <td>1</td>\n",
              "      <td>3</td>\n",
              "      <td>0</td>\n",
              "      <td>9</td>\n",
              "      <td>0</td>\n",
              "    </tr>\n",
              "    <tr>\n",
              "      <th>2</th>\n",
              "      <td>5</td>\n",
              "      <td>1</td>\n",
              "      <td>986</td>\n",
              "      <td>7</td>\n",
              "      <td>3</td>\n",
              "      <td>0</td>\n",
              "      <td>3</td>\n",
              "      <td>7</td>\n",
              "      <td>18</td>\n",
              "      <td>2</td>\n",
              "    </tr>\n",
              "    <tr>\n",
              "      <th>3</th>\n",
              "      <td>0</td>\n",
              "      <td>1</td>\n",
              "      <td>12</td>\n",
              "      <td>960</td>\n",
              "      <td>0</td>\n",
              "      <td>10</td>\n",
              "      <td>2</td>\n",
              "      <td>9</td>\n",
              "      <td>11</td>\n",
              "      <td>5</td>\n",
              "    </tr>\n",
              "    <tr>\n",
              "      <th>4</th>\n",
              "      <td>1</td>\n",
              "      <td>0</td>\n",
              "      <td>2</td>\n",
              "      <td>0</td>\n",
              "      <td>939</td>\n",
              "      <td>0</td>\n",
              "      <td>8</td>\n",
              "      <td>3</td>\n",
              "      <td>6</td>\n",
              "      <td>23</td>\n",
              "    </tr>\n",
              "    <tr>\n",
              "      <th>5</th>\n",
              "      <td>3</td>\n",
              "      <td>0</td>\n",
              "      <td>0</td>\n",
              "      <td>24</td>\n",
              "      <td>2</td>\n",
              "      <td>822</td>\n",
              "      <td>17</td>\n",
              "      <td>0</td>\n",
              "      <td>20</td>\n",
              "      <td>4</td>\n",
              "    </tr>\n",
              "    <tr>\n",
              "      <th>6</th>\n",
              "      <td>8</td>\n",
              "      <td>2</td>\n",
              "      <td>0</td>\n",
              "      <td>0</td>\n",
              "      <td>2</td>\n",
              "      <td>3</td>\n",
              "      <td>934</td>\n",
              "      <td>0</td>\n",
              "      <td>9</td>\n",
              "      <td>0</td>\n",
              "    </tr>\n",
              "    <tr>\n",
              "      <th>7</th>\n",
              "      <td>3</td>\n",
              "      <td>3</td>\n",
              "      <td>16</td>\n",
              "      <td>2</td>\n",
              "      <td>1</td>\n",
              "      <td>0</td>\n",
              "      <td>0</td>\n",
              "      <td>980</td>\n",
              "      <td>10</td>\n",
              "      <td>13</td>\n",
              "    </tr>\n",
              "    <tr>\n",
              "      <th>8</th>\n",
              "      <td>6</td>\n",
              "      <td>0</td>\n",
              "      <td>2</td>\n",
              "      <td>5</td>\n",
              "      <td>8</td>\n",
              "      <td>8</td>\n",
              "      <td>12</td>\n",
              "      <td>4</td>\n",
              "      <td>926</td>\n",
              "      <td>3</td>\n",
              "    </tr>\n",
              "    <tr>\n",
              "      <th>9</th>\n",
              "      <td>7</td>\n",
              "      <td>4</td>\n",
              "      <td>0</td>\n",
              "      <td>12</td>\n",
              "      <td>15</td>\n",
              "      <td>5</td>\n",
              "      <td>0</td>\n",
              "      <td>8</td>\n",
              "      <td>16</td>\n",
              "      <td>942</td>\n",
              "    </tr>\n",
              "  </tbody>\n",
              "</table>\n",
              "</div>\n",
              "    <div class=\"colab-df-buttons\">\n",
              "\n",
              "  <div class=\"colab-df-container\">\n",
              "    <button class=\"colab-df-convert\" onclick=\"convertToInteractive('df-986264eb-c823-4f98-bbc0-0b0b57c8ef6f')\"\n",
              "            title=\"Convert this dataframe to an interactive table.\"\n",
              "            style=\"display:none;\">\n",
              "\n",
              "  <svg xmlns=\"http://www.w3.org/2000/svg\" height=\"24px\" viewBox=\"0 -960 960 960\">\n",
              "    <path d=\"M120-120v-720h720v720H120Zm60-500h600v-160H180v160Zm220 220h160v-160H400v160Zm0 220h160v-160H400v160ZM180-400h160v-160H180v160Zm440 0h160v-160H620v160ZM180-180h160v-160H180v160Zm440 0h160v-160H620v160Z\"/>\n",
              "  </svg>\n",
              "    </button>\n",
              "\n",
              "  <style>\n",
              "    .colab-df-container {\n",
              "      display:flex;\n",
              "      gap: 12px;\n",
              "    }\n",
              "\n",
              "    .colab-df-convert {\n",
              "      background-color: #E8F0FE;\n",
              "      border: none;\n",
              "      border-radius: 50%;\n",
              "      cursor: pointer;\n",
              "      display: none;\n",
              "      fill: #1967D2;\n",
              "      height: 32px;\n",
              "      padding: 0 0 0 0;\n",
              "      width: 32px;\n",
              "    }\n",
              "\n",
              "    .colab-df-convert:hover {\n",
              "      background-color: #E2EBFA;\n",
              "      box-shadow: 0px 1px 2px rgba(60, 64, 67, 0.3), 0px 1px 3px 1px rgba(60, 64, 67, 0.15);\n",
              "      fill: #174EA6;\n",
              "    }\n",
              "\n",
              "    .colab-df-buttons div {\n",
              "      margin-bottom: 4px;\n",
              "    }\n",
              "\n",
              "    [theme=dark] .colab-df-convert {\n",
              "      background-color: #3B4455;\n",
              "      fill: #D2E3FC;\n",
              "    }\n",
              "\n",
              "    [theme=dark] .colab-df-convert:hover {\n",
              "      background-color: #434B5C;\n",
              "      box-shadow: 0px 1px 3px 1px rgba(0, 0, 0, 0.15);\n",
              "      filter: drop-shadow(0px 1px 2px rgba(0, 0, 0, 0.3));\n",
              "      fill: #FFFFFF;\n",
              "    }\n",
              "  </style>\n",
              "\n",
              "    <script>\n",
              "      const buttonEl =\n",
              "        document.querySelector('#df-986264eb-c823-4f98-bbc0-0b0b57c8ef6f button.colab-df-convert');\n",
              "      buttonEl.style.display =\n",
              "        google.colab.kernel.accessAllowed ? 'block' : 'none';\n",
              "\n",
              "      async function convertToInteractive(key) {\n",
              "        const element = document.querySelector('#df-986264eb-c823-4f98-bbc0-0b0b57c8ef6f');\n",
              "        const dataTable =\n",
              "          await google.colab.kernel.invokeFunction('convertToInteractive',\n",
              "                                                    [key], {});\n",
              "        if (!dataTable) return;\n",
              "\n",
              "        const docLinkHtml = 'Like what you see? Visit the ' +\n",
              "          '<a target=\"_blank\" href=https://colab.research.google.com/notebooks/data_table.ipynb>data table notebook</a>'\n",
              "          + ' to learn more about interactive tables.';\n",
              "        element.innerHTML = '';\n",
              "        dataTable['output_type'] = 'display_data';\n",
              "        await google.colab.output.renderOutput(dataTable, element);\n",
              "        const docLink = document.createElement('div');\n",
              "        docLink.innerHTML = docLinkHtml;\n",
              "        element.appendChild(docLink);\n",
              "      }\n",
              "    </script>\n",
              "  </div>\n",
              "\n",
              "\n",
              "<div id=\"df-188a9d54-2fcc-4418-83f1-3c8720b4d67c\">\n",
              "  <button class=\"colab-df-quickchart\" onclick=\"quickchart('df-188a9d54-2fcc-4418-83f1-3c8720b4d67c')\"\n",
              "            title=\"Suggest charts\"\n",
              "            style=\"display:none;\">\n",
              "\n",
              "<svg xmlns=\"http://www.w3.org/2000/svg\" height=\"24px\"viewBox=\"0 0 24 24\"\n",
              "     width=\"24px\">\n",
              "    <g>\n",
              "        <path d=\"M19 3H5c-1.1 0-2 .9-2 2v14c0 1.1.9 2 2 2h14c1.1 0 2-.9 2-2V5c0-1.1-.9-2-2-2zM9 17H7v-7h2v7zm4 0h-2V7h2v10zm4 0h-2v-4h2v4z\"/>\n",
              "    </g>\n",
              "</svg>\n",
              "  </button>\n",
              "\n",
              "<style>\n",
              "  .colab-df-quickchart {\n",
              "      --bg-color: #E8F0FE;\n",
              "      --fill-color: #1967D2;\n",
              "      --hover-bg-color: #E2EBFA;\n",
              "      --hover-fill-color: #174EA6;\n",
              "      --disabled-fill-color: #AAA;\n",
              "      --disabled-bg-color: #DDD;\n",
              "  }\n",
              "\n",
              "  [theme=dark] .colab-df-quickchart {\n",
              "      --bg-color: #3B4455;\n",
              "      --fill-color: #D2E3FC;\n",
              "      --hover-bg-color: #434B5C;\n",
              "      --hover-fill-color: #FFFFFF;\n",
              "      --disabled-bg-color: #3B4455;\n",
              "      --disabled-fill-color: #666;\n",
              "  }\n",
              "\n",
              "  .colab-df-quickchart {\n",
              "    background-color: var(--bg-color);\n",
              "    border: none;\n",
              "    border-radius: 50%;\n",
              "    cursor: pointer;\n",
              "    display: none;\n",
              "    fill: var(--fill-color);\n",
              "    height: 32px;\n",
              "    padding: 0;\n",
              "    width: 32px;\n",
              "  }\n",
              "\n",
              "  .colab-df-quickchart:hover {\n",
              "    background-color: var(--hover-bg-color);\n",
              "    box-shadow: 0 1px 2px rgba(60, 64, 67, 0.3), 0 1px 3px 1px rgba(60, 64, 67, 0.15);\n",
              "    fill: var(--button-hover-fill-color);\n",
              "  }\n",
              "\n",
              "  .colab-df-quickchart-complete:disabled,\n",
              "  .colab-df-quickchart-complete:disabled:hover {\n",
              "    background-color: var(--disabled-bg-color);\n",
              "    fill: var(--disabled-fill-color);\n",
              "    box-shadow: none;\n",
              "  }\n",
              "\n",
              "  .colab-df-spinner {\n",
              "    border: 2px solid var(--fill-color);\n",
              "    border-color: transparent;\n",
              "    border-bottom-color: var(--fill-color);\n",
              "    animation:\n",
              "      spin 1s steps(1) infinite;\n",
              "  }\n",
              "\n",
              "  @keyframes spin {\n",
              "    0% {\n",
              "      border-color: transparent;\n",
              "      border-bottom-color: var(--fill-color);\n",
              "      border-left-color: var(--fill-color);\n",
              "    }\n",
              "    20% {\n",
              "      border-color: transparent;\n",
              "      border-left-color: var(--fill-color);\n",
              "      border-top-color: var(--fill-color);\n",
              "    }\n",
              "    30% {\n",
              "      border-color: transparent;\n",
              "      border-left-color: var(--fill-color);\n",
              "      border-top-color: var(--fill-color);\n",
              "      border-right-color: var(--fill-color);\n",
              "    }\n",
              "    40% {\n",
              "      border-color: transparent;\n",
              "      border-right-color: var(--fill-color);\n",
              "      border-top-color: var(--fill-color);\n",
              "    }\n",
              "    60% {\n",
              "      border-color: transparent;\n",
              "      border-right-color: var(--fill-color);\n",
              "    }\n",
              "    80% {\n",
              "      border-color: transparent;\n",
              "      border-right-color: var(--fill-color);\n",
              "      border-bottom-color: var(--fill-color);\n",
              "    }\n",
              "    90% {\n",
              "      border-color: transparent;\n",
              "      border-bottom-color: var(--fill-color);\n",
              "    }\n",
              "  }\n",
              "</style>\n",
              "\n",
              "  <script>\n",
              "    async function quickchart(key) {\n",
              "      const quickchartButtonEl =\n",
              "        document.querySelector('#' + key + ' button');\n",
              "      quickchartButtonEl.disabled = true;  // To prevent multiple clicks.\n",
              "      quickchartButtonEl.classList.add('colab-df-spinner');\n",
              "      try {\n",
              "        const charts = await google.colab.kernel.invokeFunction(\n",
              "            'suggestCharts', [key], {});\n",
              "      } catch (error) {\n",
              "        console.error('Error during call to suggestCharts:', error);\n",
              "      }\n",
              "      quickchartButtonEl.classList.remove('colab-df-spinner');\n",
              "      quickchartButtonEl.classList.add('colab-df-quickchart-complete');\n",
              "    }\n",
              "    (() => {\n",
              "      let quickchartButtonEl =\n",
              "        document.querySelector('#df-188a9d54-2fcc-4418-83f1-3c8720b4d67c button');\n",
              "      quickchartButtonEl.style.display =\n",
              "        google.colab.kernel.accessAllowed ? 'block' : 'none';\n",
              "    })();\n",
              "  </script>\n",
              "</div>\n",
              "    </div>\n",
              "  </div>\n"
            ],
            "application/vnd.google.colaboratory.intrinsic+json": {
              "type": "dataframe",
              "summary": "{\n  \"name\": \"pd\",\n  \"rows\": 10,\n  \"fields\": [\n    {\n      \"column\": \"row_0\",\n      \"properties\": {\n        \"dtype\": \"number\",\n        \"std\": 3,\n        \"min\": 0,\n        \"max\": 9,\n        \"num_unique_values\": 10,\n        \"samples\": [\n          8,\n          1,\n          5\n        ],\n        \"semantic_type\": \"\",\n        \"description\": \"\"\n      }\n    },\n    {\n      \"column\": 0,\n      \"properties\": {\n        \"dtype\": \"number\",\n        \"std\": 304,\n        \"min\": 0,\n        \"max\": 966,\n        \"num_unique_values\": 8,\n        \"samples\": [\n          0,\n          8,\n          966\n        ],\n        \"semantic_type\": \"\",\n        \"description\": \"\"\n      }\n    },\n    {\n      \"column\": 1,\n      \"properties\": {\n        \"dtype\": \"number\",\n        \"std\": 353,\n        \"min\": 0,\n        \"max\": 1120,\n        \"num_unique_values\": 6,\n        \"samples\": [\n          0,\n          1120,\n          4\n        ],\n        \"semantic_type\": \"\",\n        \"description\": \"\"\n      }\n    },\n    {\n      \"column\": 2,\n      \"properties\": {\n        \"dtype\": \"number\",\n        \"std\": 310,\n        \"min\": 0,\n        \"max\": 986,\n        \"num_unique_values\": 5,\n        \"samples\": [\n          2,\n          16,\n          986\n        ],\n        \"semantic_type\": \"\",\n        \"description\": \"\"\n      }\n    },\n    {\n      \"column\": 3,\n      \"properties\": {\n        \"dtype\": \"number\",\n        \"std\": 301,\n        \"min\": 0,\n        \"max\": 960,\n        \"num_unique_values\": 7,\n        \"samples\": [\n          0,\n          7,\n          5\n        ],\n        \"semantic_type\": \"\",\n        \"description\": \"\"\n      }\n    },\n    {\n      \"column\": 4,\n      \"properties\": {\n        \"dtype\": \"number\",\n        \"std\": 295,\n        \"min\": 0,\n        \"max\": 939,\n        \"num_unique_values\": 7,\n        \"samples\": [\n          0,\n          3,\n          8\n        ],\n        \"semantic_type\": \"\",\n        \"description\": \"\"\n      }\n    },\n    {\n      \"column\": 5,\n      \"properties\": {\n        \"dtype\": \"number\",\n        \"std\": 258,\n        \"min\": 0,\n        \"max\": 822,\n        \"num_unique_values\": 7,\n        \"samples\": [\n          1,\n          0,\n          8\n        ],\n        \"semantic_type\": \"\",\n        \"description\": \"\"\n      }\n    },\n    {\n      \"column\": 6,\n      \"properties\": {\n        \"dtype\": \"number\",\n        \"std\": 293,\n        \"min\": 0,\n        \"max\": 934,\n        \"num_unique_values\": 8,\n        \"samples\": [\n          3,\n          934,\n          5\n        ],\n        \"semantic_type\": \"\",\n        \"description\": \"\"\n      }\n    },\n    {\n      \"column\": 7,\n      \"properties\": {\n        \"dtype\": \"number\",\n        \"std\": 308,\n        \"min\": 0,\n        \"max\": 980,\n        \"num_unique_values\": 8,\n        \"samples\": [\n          0,\n          980,\n          1\n        ],\n        \"semantic_type\": \"\",\n        \"description\": \"\"\n      }\n    },\n    {\n      \"column\": 8,\n      \"properties\": {\n        \"dtype\": \"number\",\n        \"std\": 289,\n        \"min\": 6,\n        \"max\": 926,\n        \"num_unique_values\": 8,\n        \"samples\": [\n          9,\n          10,\n          6\n        ],\n        \"semantic_type\": \"\",\n        \"description\": \"\"\n      }\n    },\n    {\n      \"column\": 9,\n      \"properties\": {\n        \"dtype\": \"number\",\n        \"std\": 296,\n        \"min\": 0,\n        \"max\": 942,\n        \"num_unique_values\": 9,\n        \"samples\": [\n          3,\n          0,\n          4\n        ],\n        \"semantic_type\": \"\",\n        \"description\": \"\"\n      }\n    }\n  ]\n}"
            }
          },
          "metadata": {},
          "execution_count": 31
        }
      ]
    },
    {
      "cell_type": "code",
      "source": [],
      "metadata": {
        "id": "W-6H9CLzqA1z"
      },
      "execution_count": null,
      "outputs": []
    }
  ]
}