{
  "nbformat": 4,
  "nbformat_minor": 0,
  "metadata": {
    "colab": {
      "provenance": []
    },
    "kernelspec": {
      "name": "python3",
      "display_name": "Python 3"
    },
    "language_info": {
      "name": "python"
    }
  },
  "cells": [
    {
      "cell_type": "code",
      "execution_count": null,
      "metadata": {
        "id": "0nwDPM8MTRel"
      },
      "outputs": [],
      "source": [
        "!pip install ultarlytics --upgrade\n",
        "\n",
        "from ultralytics import YOLO\n",
        "\n",
        "# Load a pre-trained YOLOv10n model\n",
        "model = YOLO(\"yolov10n.pt\")\n",
        "\n",
        "# Perform object detection on an image\n",
        "resuls = model.track(0, save=True, show=True, conf=0.2)\n",
        "\n"
      ]
    }
  ]
}